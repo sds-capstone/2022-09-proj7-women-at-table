{
  "nbformat": 4,
  "nbformat_minor": 0,
  "metadata": {
    "colab": {
      "provenance": [],
      "authorship_tag": "ABX9TyPdZudGMbljxhMTyNhRcbgb",
      "include_colab_link": true
    },
    "kernelspec": {
      "name": "python3",
      "display_name": "Python 3"
    },
    "language_info": {
      "name": "python"
    }
  },
  "cells": [
    {
      "cell_type": "markdown",
      "metadata": {
        "id": "view-in-github",
        "colab_type": "text"
      },
      "source": [
        "<a href=\"https://colab.research.google.com/github/sds-capstone/2022-09-proj7-women-at-table/blob/main/final_project.ipynb\" target=\"_parent\"><img src=\"https://colab.research.google.com/assets/colab-badge.svg\" alt=\"Open In Colab\"/></a>"
      ]
    },
    {
      "cell_type": "markdown",
      "source": [
        "# Analysis of Access to Emergency Funds in Subsaharan Countries\n",
        "\n",
        "Data Source: [Global Findex Database 2017](https://microdata.worldbank.org/index.php/catalog/3324)\n",
        "\n",
        "(filtered to only Subsaharan countries (35))"
      ],
      "metadata": {
        "id": "nVo6E8pD6eEI"
      }
    },
    {
      "cell_type": "markdown",
      "source": [
        "## Part A: Background Questions\n",
        "\n",
        "* WHY was the dataset created?\n",
        "* WHAT was the purpose the dataset was created for? \n",
        " * Are there tasks for which the dataset should not be used? \n",
        "* WHO created the dataset (e.g., which team, research group) and on behalf of which entity (e.g., company, institution, organization). Who funded the creation of the dataset? \n",
        " * HOW can the owner/curator/manager of the dataset be contacted (e.g., email address)?\n",
        "* Were the individuals in question notified about the data collection? Did the individuals in question consent to the collection and use of their data?\n",
        "\n",
        "      \n",
        "* Does the dataset contain all possible instances or is it a sample (not necessarily random) of instances from a larger set? \n",
        " * If the dataset is a sample, then what is the larger set? Is the sample \n",
        "representative of the larger set (e.g., geographic coverage)?\n",
        "   * If so, please describe how this representativeness was validated/verified. \n",
        " * If it is not representative of the larger set, please describe why not (e.g., to cover a more diverse range of instances, because instances were withheld or unavailable).\n",
        "\n",
        "* What (other) tasks could the dataset be used for? "
      ],
      "metadata": {
        "id": "qLTTrtNq6vqD"
      }
    },
    {
      "cell_type": "markdown",
      "source": [
        "## Part B: Exploratory Data Analysis\n",
        "\n",
        "### Questions\n",
        "\n",
        "* Does the dataset identify any subpopulations (e.g., by age, gender)?\n",
        " * If so, please describe how these subpopulations are identified and provide a description of their respective distributions within the dataset. \n",
        "\n",
        "* Is it possible to identify individuals (i.e., one or more natural persons), either directly or indirectly (i.e., in combination with other data) from the dataset?\n",
        "  * If so, please describe how. \n",
        "* Are there any errors, sources of noise, or redundancies in the dataset? \n",
        "* Is any information missing from individual instances?\n",
        "   * If so, please provide a description, explaining why this information is missing (e.g., because it was unavailable).\n",
        "* Are our visualizations, summary statistics, and reports designed to honestly represent the underlying data?"
      ],
      "metadata": {
        "id": "Sk8Hwc4Y7mtu"
      }
    }
  ]
}