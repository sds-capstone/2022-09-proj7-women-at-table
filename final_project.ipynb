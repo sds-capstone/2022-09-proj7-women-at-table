{
  "nbformat": 4,
  "nbformat_minor": 0,
  "metadata": {
    "colab": {
      "provenance": [],
      "collapsed_sections": [],
      "include_colab_link": true
    },
    "kernelspec": {
      "name": "python3",
      "display_name": "Python 3"
    },
    "language_info": {
      "name": "python"
    }
  },
  "cells": [
    {
      "cell_type": "markdown",
      "metadata": {
        "id": "view-in-github",
        "colab_type": "text"
      },
      "source": [
        "<a href=\"https://colab.research.google.com/github/sds-capstone/2022-09-proj7-women-at-table/blob/main/final_project.ipynb\" target=\"_parent\"><img src=\"https://colab.research.google.com/assets/colab-badge.svg\" alt=\"Open In Colab\"/></a>"
      ]
    },
    {
      "cell_type": "markdown",
      "source": [
        "# Analysis of Access to Emergency Funds in Subsaharan Countries\n",
        "\n",
        "Data Source: [Global Findex Database 2017](https://microdata.worldbank.org/index.php/catalog/3324)\n",
        "\n",
        "(filtered to only Subsaharan countries (35))"
      ],
      "metadata": {
        "id": "nVo6E8pD6eEI"
      }
    },
    {
      "cell_type": "markdown",
      "source": [
        "## Part A: Background Questions\n",
        "\n",
        "* WHY was the dataset created?\n",
        "\n",
        "The Global Findex Database is one of the most comprehensive data sets on how adults save, borrow, make payments, and manage risk in more than 140 economies around the world. It was initially created in 2011 in order to measure financial inclusion and promote improvements in the same. It has been updated in 2014 and 2017. [Source](https://microdata.worldbank.org/index.php/collections/global-findex)\n",
        "\n",
        "* WHAT was the purpose the dataset was created for? \n",
        "\n",
        "The main purpose the data set was created for was to record various measures of financial equity and inclusion such that the information can reveal opportunities to expand access to financial services and to promote greater use of digital financial services for folks who do not have a bank account.\n",
        "[Source](https://microdata.worldbank.org/index.php/collections/global-findex) \n",
        "\n",
        " * Are there tasks for which the dataset should not be used?\n",
        "\n",
        "The documentation does not explicitly state tasks that the data should not be used for. One use I can think of that could be harmful is if credit card companies or other companies deciding whether or not to give folks loans used it to build a model to predict whether or not an individual would pay back a loan. This could be harmful because it could reinforce discrimination against poor people.\n",
        "\n",
        "* WHO created the dataset (e.g., which team, research group) and on behalf of which entity (e.g., company, institution, organization). Who funded the creation of the dataset? \n",
        "\n",
        "The data set was created by the Development Research Group, Finance and Private Sector Development Unit of [The World Bank](https://www.worldbank.org/en/publication/globalfindex) with funding from Bill & Melinda Gates Foundation. The survey was conducted by Gallup, Inc in association with the annual Gallup World Poll.\n",
        "\n",
        " * HOW can the owner/curator/manager of the dataset be contacted (e.g., email address)?\n",
        "\n",
        " I am not able to find an email address listed in the documentation or anywhere on the study website.\n",
        "\n",
        "* Were the individuals in question notified about the data collection? Did the individuals in question consent to the collection and use of their data?\n",
        "\n",
        "The participants responded to the questionnaire either on the phone or in-person, so it seems implied that they consented to data collection. It is unclear from the documentation whether or not the participants fully understood and consented to the publication and use of their data, although I imagine they may have signed a consent form before the interview.\n",
        "\n",
        "## Additional Questions\n",
        "      \n",
        "* Does the dataset contain all possible instances or is it a sample (not necessarily random) of instances from a larger set? \n",
        "\n",
        "This dataset contains information/data on global access to financial services from payments to savings and borrowing. This dataset only contains data from 35 countries, and it is a sample of a larger dataset that contains information from a larger geographic area. The complete dataset has data from about 140 countries. \n",
        "\n",
        " * If the dataset is a sample, then what is the larger set? Is the sample \n",
        "representative of the larger set (e.g., geographic coverage)?\n",
        "\n",
        "I believe the sample is not representative of the complete dataset since each country from the sample has different economies. There is no feasible way for data on one country’s economy to be representative of another country’s due to the fact that their economies are most likely structured differently and their populations are different. However, because we are not looking to analyze the data from all countries and are only looking at countries in the Subsaharan African region, we do not need the smaller dataset we are working with to be representative of the larger one. \n",
        "\n",
        "   * If so, please describe how this representativeness was validated/verified. \n",
        " * If it is not representative of the larger set, please describe why not (e.g., to cover a more diverse range of instances, because instances were withheld or unavailable).\n",
        "\n",
        "* What (other) tasks could the dataset be used for? \n",
        "\n",
        "We could always filter the larger dataset by region or other variables in order to gain insight into the financial behaviors for different regions. We also are currently only focusing on some of the variables from the dataset, and if we used more of the variables we could then gain a better understanding of the dataset. "
      ],
      "metadata": {
        "id": "qLTTrtNq6vqD"
      }
    },
    {
      "cell_type": "markdown",
      "source": [
        "## Part B: Exploratory Data Analysis\n",
        "\n",
        "### Questions\n",
        "\n",
        "* Does the dataset identify any subpopulations (e.g., by age, gender)?\n",
        "\n",
        "Yes, the data set can be separated by sex and economy.\n",
        " * If so, please describe how these subpopulations are identified and provide a description of their respective distributions within the dataset. \n",
        "\n",
        "\n",
        "The variable female distingishes sex. 1 represents male, 2 represents female. There are 71330 males in this datset and 83593 females \n",
        "\n",
        "The economy variable separates respondants by what country they live in. There are 35 different countries with around 1000 respondants from each. Some countries have less and some countries have more. Morocco has 5000, india has 3000, Trinidad and Tobago have 504, china has 3627, and Russian Federation has 2000. \n",
        "\n",
        "* Is it possible to identify individuals (i.e., one or more natural persons), either directly or indirectly (i.e., in combination with other data) from the dataset?\n",
        "\n",
        "No, there is information about age, gender and finances, but none of these variables in combination with the others could lead to identification of individuals. \n",
        "\n",
        "\n",
        "  * If so, please describe how. \n",
        "* Are there any errors, sources of noise, or redundancies in the dataset? \n",
        "\n",
        "The data set consists of mostly discrete variables, this means that there isnt going to be any outstanding data points for any individual variable. Once we make our model we can decide of there are any variables distracting and contorting the results but all the variables seem related to access to emergency funds. However it would be good to investigate whether or not there are any variables that have an unusual amount or \"dk\" or \"ref\" responses. \n",
        "\n",
        "\n",
        "* Is any information missing from individual instances?\n",
        "   * If so, please provide a description, explaining why this information is missing (e.g., because it was unavailable).\n",
        "\n",
        "   Some questions are conditional on the answers to other questions. For example fin4 represents the question \"if has debit card, used in the past 12 months\". This question can only be answered if the respondant has a debit card. Most of the missing values in the data set are due to this. respondants also have the option to refuse to answer or respond with \"dont know\" these are technically responses but also missing data.\n",
        "\n",
        "* Are our visualizations, summary statistics, and reports designed to honestly represent the underlying data?\n",
        "\n",
        "Yes, we add clear labels, titles, and legends. The data is represented as is, we didn't do any transforming or projecting. "
      ],
      "metadata": {
        "id": "Sk8Hwc4Y7mtu"
      }
    },
    {
      "cell_type": "markdown",
      "source": [
        "## Code"
      ],
      "metadata": {
        "id": "q8e4AMzXhzRf"
      }
    },
    {
      "cell_type": "code",
      "execution_count": 2,
      "metadata": {
        "id": "2gCS1sUoqiBQ"
      },
      "outputs": [],
      "source": [
        "# imports\n",
        "import pandas as pd\n",
        "import numpy as np\n",
        "import seaborn as sns\n",
        "from plotnine import *\n",
        "import matplotlib.pyplot as plt"
      ]
    },
    {
      "cell_type": "code",
      "source": [
        "# read in data\n",
        "file = 'https://raw.githubusercontent.com/sds-capstone/2022-09-proj7-women-at-table/main/findex_SubSahAfrica.csv'\n",
        "df = pd.read_csv(file, index_col=0)\n",
        "print(f'There are {df.shape[0]} entries and {df.shape[1]} features')\n",
        "df.head()"
      ],
      "metadata": {
        "id": "qHBJ3Qp3uoV_",
        "colab": {
          "base_uri": "https://localhost:8080/",
          "height": 751
        },
        "outputId": "af5f3e4e-4f09-4af8-a8a3-ed12d57d3aa5"
      },
      "execution_count": 3,
      "outputs": [
        {
          "output_type": "stream",
          "name": "stdout",
          "text": [
            "There are 35000 entries and 105 features\n"
          ]
        },
        {
          "output_type": "execute_result",
          "data": {
            "text/plain": [
              "      economy economycode                                    regionwb  \\\n",
              "12138   Benin         BEN  Sub-Saharan Africa (excluding high income)   \n",
              "12139   Benin         BEN  Sub-Saharan Africa (excluding high income)   \n",
              "12140   Benin         BEN  Sub-Saharan Africa (excluding high income)   \n",
              "12141   Benin         BEN  Sub-Saharan Africa (excluding high income)   \n",
              "12142   Benin         BEN  Sub-Saharan Africa (excluding high income)   \n",
              "\n",
              "       pop_adult  wpid_random       wgt  female   age  educ  inc_q  ...  \\\n",
              "12138  6211794.0    143101339  1.909609       1  60.0   1.0      1  ...   \n",
              "12139  6211794.0    123998301  2.075761       1  45.0   1.0      1  ...   \n",
              "12140  6211794.0    157155643  0.785666       1  27.0   3.0      4  ...   \n",
              "12141  6211794.0    155618899  1.450568       2  24.0   1.0      2  ...   \n",
              "12142  6211794.0    143861320  0.461588       1  22.0   1.0      5  ...   \n",
              "\n",
              "       receive_wages  receive_transfers  receive_pension  receive_agriculture  \\\n",
              "12138              4                  4                4                  4.0   \n",
              "12139              4                  4                4                  4.0   \n",
              "12140              4                  4                4                  4.0   \n",
              "12141              4                  4                4                  4.0   \n",
              "12142              4                  4                4                  4.0   \n",
              "\n",
              "       pay_utilities  remittances  pay_onlne  pay_onlne_mobintbuy  pay_cash  \\\n",
              "12138              4          5.0        0.0                  NaN       0.0   \n",
              "12139              3          1.0        0.0                  NaN       0.0   \n",
              "12140              4          2.0        1.0                  1.0       0.0   \n",
              "12141              3          5.0        0.0                  NaN       0.0   \n",
              "12142              4          5.0        0.0                  NaN       0.0   \n",
              "\n",
              "       pay_cash_mobintbuy  \n",
              "12138                 NaN  \n",
              "12139                 NaN  \n",
              "12140                 0.0  \n",
              "12141                 NaN  \n",
              "12142                 NaN  \n",
              "\n",
              "[5 rows x 105 columns]"
            ],
            "text/html": [
              "\n",
              "  <div id=\"df-df6e54e0-1a69-4408-bfcd-aa5c716f8495\">\n",
              "    <div class=\"colab-df-container\">\n",
              "      <div>\n",
              "<style scoped>\n",
              "    .dataframe tbody tr th:only-of-type {\n",
              "        vertical-align: middle;\n",
              "    }\n",
              "\n",
              "    .dataframe tbody tr th {\n",
              "        vertical-align: top;\n",
              "    }\n",
              "\n",
              "    .dataframe thead th {\n",
              "        text-align: right;\n",
              "    }\n",
              "</style>\n",
              "<table border=\"1\" class=\"dataframe\">\n",
              "  <thead>\n",
              "    <tr style=\"text-align: right;\">\n",
              "      <th></th>\n",
              "      <th>economy</th>\n",
              "      <th>economycode</th>\n",
              "      <th>regionwb</th>\n",
              "      <th>pop_adult</th>\n",
              "      <th>wpid_random</th>\n",
              "      <th>wgt</th>\n",
              "      <th>female</th>\n",
              "      <th>age</th>\n",
              "      <th>educ</th>\n",
              "      <th>inc_q</th>\n",
              "      <th>...</th>\n",
              "      <th>receive_wages</th>\n",
              "      <th>receive_transfers</th>\n",
              "      <th>receive_pension</th>\n",
              "      <th>receive_agriculture</th>\n",
              "      <th>pay_utilities</th>\n",
              "      <th>remittances</th>\n",
              "      <th>pay_onlne</th>\n",
              "      <th>pay_onlne_mobintbuy</th>\n",
              "      <th>pay_cash</th>\n",
              "      <th>pay_cash_mobintbuy</th>\n",
              "    </tr>\n",
              "  </thead>\n",
              "  <tbody>\n",
              "    <tr>\n",
              "      <th>12138</th>\n",
              "      <td>Benin</td>\n",
              "      <td>BEN</td>\n",
              "      <td>Sub-Saharan Africa (excluding high income)</td>\n",
              "      <td>6211794.0</td>\n",
              "      <td>143101339</td>\n",
              "      <td>1.909609</td>\n",
              "      <td>1</td>\n",
              "      <td>60.0</td>\n",
              "      <td>1.0</td>\n",
              "      <td>1</td>\n",
              "      <td>...</td>\n",
              "      <td>4</td>\n",
              "      <td>4</td>\n",
              "      <td>4</td>\n",
              "      <td>4.0</td>\n",
              "      <td>4</td>\n",
              "      <td>5.0</td>\n",
              "      <td>0.0</td>\n",
              "      <td>NaN</td>\n",
              "      <td>0.0</td>\n",
              "      <td>NaN</td>\n",
              "    </tr>\n",
              "    <tr>\n",
              "      <th>12139</th>\n",
              "      <td>Benin</td>\n",
              "      <td>BEN</td>\n",
              "      <td>Sub-Saharan Africa (excluding high income)</td>\n",
              "      <td>6211794.0</td>\n",
              "      <td>123998301</td>\n",
              "      <td>2.075761</td>\n",
              "      <td>1</td>\n",
              "      <td>45.0</td>\n",
              "      <td>1.0</td>\n",
              "      <td>1</td>\n",
              "      <td>...</td>\n",
              "      <td>4</td>\n",
              "      <td>4</td>\n",
              "      <td>4</td>\n",
              "      <td>4.0</td>\n",
              "      <td>3</td>\n",
              "      <td>1.0</td>\n",
              "      <td>0.0</td>\n",
              "      <td>NaN</td>\n",
              "      <td>0.0</td>\n",
              "      <td>NaN</td>\n",
              "    </tr>\n",
              "    <tr>\n",
              "      <th>12140</th>\n",
              "      <td>Benin</td>\n",
              "      <td>BEN</td>\n",
              "      <td>Sub-Saharan Africa (excluding high income)</td>\n",
              "      <td>6211794.0</td>\n",
              "      <td>157155643</td>\n",
              "      <td>0.785666</td>\n",
              "      <td>1</td>\n",
              "      <td>27.0</td>\n",
              "      <td>3.0</td>\n",
              "      <td>4</td>\n",
              "      <td>...</td>\n",
              "      <td>4</td>\n",
              "      <td>4</td>\n",
              "      <td>4</td>\n",
              "      <td>4.0</td>\n",
              "      <td>4</td>\n",
              "      <td>2.0</td>\n",
              "      <td>1.0</td>\n",
              "      <td>1.0</td>\n",
              "      <td>0.0</td>\n",
              "      <td>0.0</td>\n",
              "    </tr>\n",
              "    <tr>\n",
              "      <th>12141</th>\n",
              "      <td>Benin</td>\n",
              "      <td>BEN</td>\n",
              "      <td>Sub-Saharan Africa (excluding high income)</td>\n",
              "      <td>6211794.0</td>\n",
              "      <td>155618899</td>\n",
              "      <td>1.450568</td>\n",
              "      <td>2</td>\n",
              "      <td>24.0</td>\n",
              "      <td>1.0</td>\n",
              "      <td>2</td>\n",
              "      <td>...</td>\n",
              "      <td>4</td>\n",
              "      <td>4</td>\n",
              "      <td>4</td>\n",
              "      <td>4.0</td>\n",
              "      <td>3</td>\n",
              "      <td>5.0</td>\n",
              "      <td>0.0</td>\n",
              "      <td>NaN</td>\n",
              "      <td>0.0</td>\n",
              "      <td>NaN</td>\n",
              "    </tr>\n",
              "    <tr>\n",
              "      <th>12142</th>\n",
              "      <td>Benin</td>\n",
              "      <td>BEN</td>\n",
              "      <td>Sub-Saharan Africa (excluding high income)</td>\n",
              "      <td>6211794.0</td>\n",
              "      <td>143861320</td>\n",
              "      <td>0.461588</td>\n",
              "      <td>1</td>\n",
              "      <td>22.0</td>\n",
              "      <td>1.0</td>\n",
              "      <td>5</td>\n",
              "      <td>...</td>\n",
              "      <td>4</td>\n",
              "      <td>4</td>\n",
              "      <td>4</td>\n",
              "      <td>4.0</td>\n",
              "      <td>4</td>\n",
              "      <td>5.0</td>\n",
              "      <td>0.0</td>\n",
              "      <td>NaN</td>\n",
              "      <td>0.0</td>\n",
              "      <td>NaN</td>\n",
              "    </tr>\n",
              "  </tbody>\n",
              "</table>\n",
              "<p>5 rows × 105 columns</p>\n",
              "</div>\n",
              "      <button class=\"colab-df-convert\" onclick=\"convertToInteractive('df-df6e54e0-1a69-4408-bfcd-aa5c716f8495')\"\n",
              "              title=\"Convert this dataframe to an interactive table.\"\n",
              "              style=\"display:none;\">\n",
              "        \n",
              "  <svg xmlns=\"http://www.w3.org/2000/svg\" height=\"24px\"viewBox=\"0 0 24 24\"\n",
              "       width=\"24px\">\n",
              "    <path d=\"M0 0h24v24H0V0z\" fill=\"none\"/>\n",
              "    <path d=\"M18.56 5.44l.94 2.06.94-2.06 2.06-.94-2.06-.94-.94-2.06-.94 2.06-2.06.94zm-11 1L8.5 8.5l.94-2.06 2.06-.94-2.06-.94L8.5 2.5l-.94 2.06-2.06.94zm10 10l.94 2.06.94-2.06 2.06-.94-2.06-.94-.94-2.06-.94 2.06-2.06.94z\"/><path d=\"M17.41 7.96l-1.37-1.37c-.4-.4-.92-.59-1.43-.59-.52 0-1.04.2-1.43.59L10.3 9.45l-7.72 7.72c-.78.78-.78 2.05 0 2.83L4 21.41c.39.39.9.59 1.41.59.51 0 1.02-.2 1.41-.59l7.78-7.78 2.81-2.81c.8-.78.8-2.07 0-2.86zM5.41 20L4 18.59l7.72-7.72 1.47 1.35L5.41 20z\"/>\n",
              "  </svg>\n",
              "      </button>\n",
              "      \n",
              "  <style>\n",
              "    .colab-df-container {\n",
              "      display:flex;\n",
              "      flex-wrap:wrap;\n",
              "      gap: 12px;\n",
              "    }\n",
              "\n",
              "    .colab-df-convert {\n",
              "      background-color: #E8F0FE;\n",
              "      border: none;\n",
              "      border-radius: 50%;\n",
              "      cursor: pointer;\n",
              "      display: none;\n",
              "      fill: #1967D2;\n",
              "      height: 32px;\n",
              "      padding: 0 0 0 0;\n",
              "      width: 32px;\n",
              "    }\n",
              "\n",
              "    .colab-df-convert:hover {\n",
              "      background-color: #E2EBFA;\n",
              "      box-shadow: 0px 1px 2px rgba(60, 64, 67, 0.3), 0px 1px 3px 1px rgba(60, 64, 67, 0.15);\n",
              "      fill: #174EA6;\n",
              "    }\n",
              "\n",
              "    [theme=dark] .colab-df-convert {\n",
              "      background-color: #3B4455;\n",
              "      fill: #D2E3FC;\n",
              "    }\n",
              "\n",
              "    [theme=dark] .colab-df-convert:hover {\n",
              "      background-color: #434B5C;\n",
              "      box-shadow: 0px 1px 3px 1px rgba(0, 0, 0, 0.15);\n",
              "      filter: drop-shadow(0px 1px 2px rgba(0, 0, 0, 0.3));\n",
              "      fill: #FFFFFF;\n",
              "    }\n",
              "  </style>\n",
              "\n",
              "      <script>\n",
              "        const buttonEl =\n",
              "          document.querySelector('#df-df6e54e0-1a69-4408-bfcd-aa5c716f8495 button.colab-df-convert');\n",
              "        buttonEl.style.display =\n",
              "          google.colab.kernel.accessAllowed ? 'block' : 'none';\n",
              "\n",
              "        async function convertToInteractive(key) {\n",
              "          const element = document.querySelector('#df-df6e54e0-1a69-4408-bfcd-aa5c716f8495');\n",
              "          const dataTable =\n",
              "            await google.colab.kernel.invokeFunction('convertToInteractive',\n",
              "                                                     [key], {});\n",
              "          if (!dataTable) return;\n",
              "\n",
              "          const docLinkHtml = 'Like what you see? Visit the ' +\n",
              "            '<a target=\"_blank\" href=https://colab.research.google.com/notebooks/data_table.ipynb>data table notebook</a>'\n",
              "            + ' to learn more about interactive tables.';\n",
              "          element.innerHTML = '';\n",
              "          dataTable['output_type'] = 'display_data';\n",
              "          await google.colab.output.renderOutput(dataTable, element);\n",
              "          const docLink = document.createElement('div');\n",
              "          docLink.innerHTML = docLinkHtml;\n",
              "          element.appendChild(docLink);\n",
              "        }\n",
              "      </script>\n",
              "    </div>\n",
              "  </div>\n",
              "  "
            ]
          },
          "metadata": {},
          "execution_count": 3
        }
      ]
    },
    {
      "cell_type": "code",
      "source": [
        "# set gender palette\n",
        "red = '#FF7377'\n",
        "blue = '#00B2EE'\n",
        "gender_palette = [blue, red]\n",
        "\n",
        "purple = '#BF3EFF'\n",
        "green = '#1B851B'\n",
        "yes_no_pal = [purple, green]\n",
        "\n",
        "pink = '#FFC0CB'"
      ],
      "metadata": {
        "id": "G3JFr2CuigpW"
      },
      "execution_count": 4,
      "outputs": []
    },
    {
      "cell_type": "code",
      "source": [
        "%%capture --no-display\n",
        "# select vars of interest\n",
        "df2 = df[['female', 'age', 'emp_in', 'account_fin', 'fin24', 'fin25', 'fin32', 'fin48', 'educ']]\n",
        "df2 = df2.query('fin24 < 3')\n",
        "# Recode fin24 values\n",
        "df2.loc[df2['fin24'] == 1, \"fin24\"] = 'Yes'\n",
        "df2.loc[df2['fin24'] == 2, \"fin24\"] = 'No'\n",
        "df2.loc[df2['fin24'] == 3, \"fin24\"] = 'Don\\'t Know'\n",
        "df2.loc[df2['fin24'] == 4, \"fin24\"] = 'Refuse'\n",
        "# rename fin24 to has_access\n",
        "df2.rename(columns = {'fin24': 'has_access'}, inplace = True)\n",
        "# recode gender\n",
        "df2.loc[df2['female'] == 1, \"female\"] = 'male'\n",
        "df2.loc[df2['female'] == 2, \"female\"] = 'female'\n",
        "df2.rename(columns = {'female': 'gender'}, inplace = True)\n",
        "# recode account_fin\n",
        "df2.loc[df2['account_fin'] == 0, \"account_fin\"] = 'No'\n",
        "df2.loc[df2['account_fin'] == 1, \"account_fin\"] = 'Yes'\n",
        "# recode emp_in\n",
        "df2.loc[df2['emp_in'] == 0, \"emp_in\"] = 'No'\n",
        "df2.loc[df2['emp_in'] == 1, \"emp_in\"] = 'Yes'\n",
        "# Recode fin32 values: Recieved Wage Payments\n",
        "df2.loc[df2['fin32'] == 1, \"fin32\"] = 'Yes'\n",
        "df2.loc[df2['fin32'] == 2, \"fin32\"] = 'No'\n",
        "df2.loc[df2['fin32'] == 3, \"fin32\"] = 'Don\\'t Know'\n",
        "df2.loc[df2['fin32'] == 4, \"fin32\"] = 'Refuse'\n",
        "# recode fin48 values: National ID\n",
        "df2.loc[df2['fin48'] == 1, \"fin48\"] = 'Yes'\n",
        "df2.loc[df2['fin48'] == 2, \"fin48\"] = 'No'\n",
        "df2.loc[df2['fin48'] == 3, \"fin48\"] = 'Don\\'t Know'\n",
        "df2.loc[df2['fin48'] == 4, \"fin48\"] = 'Refuse'\n",
        "#recode educ values: Highest Level of Education\n",
        "df2.loc[df2['educ'] == 1, \"educ\"] = 'Primary'\n",
        "df2.loc[df2['educ'] == 2, \"educ\"] = 'Secondary'\n",
        "df2.loc[df2['educ'] == 3, \"educ\"] = 'Tertiary'\n",
        "df2.loc[df2['educ'] == 4, \"educ\"] = 'Don\\'t Know'\n",
        "df2.loc[df2['educ'] == 5, \"educ\"] = 'Refuse'\n",
        "\n",
        "df2.rename(columns = {'fin32': 'Recieve Wage Payments', 'fin48': 'National ID', 'educ': 'Education'}, inplace = True)\n",
        "df2.head()"
      ],
      "metadata": {
        "id": "gdKRuNk4ik7k",
        "colab": {
          "base_uri": "https://localhost:8080/",
          "height": 206
        },
        "outputId": "493dab99-0225-4ae8-eabf-f5317e1d12e9"
      },
      "execution_count": 5,
      "outputs": [
        {
          "output_type": "execute_result",
          "data": {
            "text/plain": [
              "       gender   age emp_in account_fin has_access  fin25  \\\n",
              "12138    male  60.0     No          No         No    NaN   \n",
              "12139    male  45.0    Yes         Yes        Yes    3.0   \n",
              "12140    male  27.0    Yes          No        Yes    3.0   \n",
              "12141  female  24.0    Yes          No        Yes    2.0   \n",
              "12142    male  22.0    Yes          No         No    NaN   \n",
              "\n",
              "      Recieve Wage Payments National ID Education  \n",
              "12138                    No          No   Primary  \n",
              "12139                    No         Yes   Primary  \n",
              "12140                    No         Yes  Tertiary  \n",
              "12141                    No          No   Primary  \n",
              "12142                    No          No   Primary  "
            ],
            "text/html": [
              "\n",
              "  <div id=\"df-c73783a7-ed6d-4f51-812c-6bf2d7eedbf1\">\n",
              "    <div class=\"colab-df-container\">\n",
              "      <div>\n",
              "<style scoped>\n",
              "    .dataframe tbody tr th:only-of-type {\n",
              "        vertical-align: middle;\n",
              "    }\n",
              "\n",
              "    .dataframe tbody tr th {\n",
              "        vertical-align: top;\n",
              "    }\n",
              "\n",
              "    .dataframe thead th {\n",
              "        text-align: right;\n",
              "    }\n",
              "</style>\n",
              "<table border=\"1\" class=\"dataframe\">\n",
              "  <thead>\n",
              "    <tr style=\"text-align: right;\">\n",
              "      <th></th>\n",
              "      <th>gender</th>\n",
              "      <th>age</th>\n",
              "      <th>emp_in</th>\n",
              "      <th>account_fin</th>\n",
              "      <th>has_access</th>\n",
              "      <th>fin25</th>\n",
              "      <th>Recieve Wage Payments</th>\n",
              "      <th>National ID</th>\n",
              "      <th>Education</th>\n",
              "    </tr>\n",
              "  </thead>\n",
              "  <tbody>\n",
              "    <tr>\n",
              "      <th>12138</th>\n",
              "      <td>male</td>\n",
              "      <td>60.0</td>\n",
              "      <td>No</td>\n",
              "      <td>No</td>\n",
              "      <td>No</td>\n",
              "      <td>NaN</td>\n",
              "      <td>No</td>\n",
              "      <td>No</td>\n",
              "      <td>Primary</td>\n",
              "    </tr>\n",
              "    <tr>\n",
              "      <th>12139</th>\n",
              "      <td>male</td>\n",
              "      <td>45.0</td>\n",
              "      <td>Yes</td>\n",
              "      <td>Yes</td>\n",
              "      <td>Yes</td>\n",
              "      <td>3.0</td>\n",
              "      <td>No</td>\n",
              "      <td>Yes</td>\n",
              "      <td>Primary</td>\n",
              "    </tr>\n",
              "    <tr>\n",
              "      <th>12140</th>\n",
              "      <td>male</td>\n",
              "      <td>27.0</td>\n",
              "      <td>Yes</td>\n",
              "      <td>No</td>\n",
              "      <td>Yes</td>\n",
              "      <td>3.0</td>\n",
              "      <td>No</td>\n",
              "      <td>Yes</td>\n",
              "      <td>Tertiary</td>\n",
              "    </tr>\n",
              "    <tr>\n",
              "      <th>12141</th>\n",
              "      <td>female</td>\n",
              "      <td>24.0</td>\n",
              "      <td>Yes</td>\n",
              "      <td>No</td>\n",
              "      <td>Yes</td>\n",
              "      <td>2.0</td>\n",
              "      <td>No</td>\n",
              "      <td>No</td>\n",
              "      <td>Primary</td>\n",
              "    </tr>\n",
              "    <tr>\n",
              "      <th>12142</th>\n",
              "      <td>male</td>\n",
              "      <td>22.0</td>\n",
              "      <td>Yes</td>\n",
              "      <td>No</td>\n",
              "      <td>No</td>\n",
              "      <td>NaN</td>\n",
              "      <td>No</td>\n",
              "      <td>No</td>\n",
              "      <td>Primary</td>\n",
              "    </tr>\n",
              "  </tbody>\n",
              "</table>\n",
              "</div>\n",
              "      <button class=\"colab-df-convert\" onclick=\"convertToInteractive('df-c73783a7-ed6d-4f51-812c-6bf2d7eedbf1')\"\n",
              "              title=\"Convert this dataframe to an interactive table.\"\n",
              "              style=\"display:none;\">\n",
              "        \n",
              "  <svg xmlns=\"http://www.w3.org/2000/svg\" height=\"24px\"viewBox=\"0 0 24 24\"\n",
              "       width=\"24px\">\n",
              "    <path d=\"M0 0h24v24H0V0z\" fill=\"none\"/>\n",
              "    <path d=\"M18.56 5.44l.94 2.06.94-2.06 2.06-.94-2.06-.94-.94-2.06-.94 2.06-2.06.94zm-11 1L8.5 8.5l.94-2.06 2.06-.94-2.06-.94L8.5 2.5l-.94 2.06-2.06.94zm10 10l.94 2.06.94-2.06 2.06-.94-2.06-.94-.94-2.06-.94 2.06-2.06.94z\"/><path d=\"M17.41 7.96l-1.37-1.37c-.4-.4-.92-.59-1.43-.59-.52 0-1.04.2-1.43.59L10.3 9.45l-7.72 7.72c-.78.78-.78 2.05 0 2.83L4 21.41c.39.39.9.59 1.41.59.51 0 1.02-.2 1.41-.59l7.78-7.78 2.81-2.81c.8-.78.8-2.07 0-2.86zM5.41 20L4 18.59l7.72-7.72 1.47 1.35L5.41 20z\"/>\n",
              "  </svg>\n",
              "      </button>\n",
              "      \n",
              "  <style>\n",
              "    .colab-df-container {\n",
              "      display:flex;\n",
              "      flex-wrap:wrap;\n",
              "      gap: 12px;\n",
              "    }\n",
              "\n",
              "    .colab-df-convert {\n",
              "      background-color: #E8F0FE;\n",
              "      border: none;\n",
              "      border-radius: 50%;\n",
              "      cursor: pointer;\n",
              "      display: none;\n",
              "      fill: #1967D2;\n",
              "      height: 32px;\n",
              "      padding: 0 0 0 0;\n",
              "      width: 32px;\n",
              "    }\n",
              "\n",
              "    .colab-df-convert:hover {\n",
              "      background-color: #E2EBFA;\n",
              "      box-shadow: 0px 1px 2px rgba(60, 64, 67, 0.3), 0px 1px 3px 1px rgba(60, 64, 67, 0.15);\n",
              "      fill: #174EA6;\n",
              "    }\n",
              "\n",
              "    [theme=dark] .colab-df-convert {\n",
              "      background-color: #3B4455;\n",
              "      fill: #D2E3FC;\n",
              "    }\n",
              "\n",
              "    [theme=dark] .colab-df-convert:hover {\n",
              "      background-color: #434B5C;\n",
              "      box-shadow: 0px 1px 3px 1px rgba(0, 0, 0, 0.15);\n",
              "      filter: drop-shadow(0px 1px 2px rgba(0, 0, 0, 0.3));\n",
              "      fill: #FFFFFF;\n",
              "    }\n",
              "  </style>\n",
              "\n",
              "      <script>\n",
              "        const buttonEl =\n",
              "          document.querySelector('#df-c73783a7-ed6d-4f51-812c-6bf2d7eedbf1 button.colab-df-convert');\n",
              "        buttonEl.style.display =\n",
              "          google.colab.kernel.accessAllowed ? 'block' : 'none';\n",
              "\n",
              "        async function convertToInteractive(key) {\n",
              "          const element = document.querySelector('#df-c73783a7-ed6d-4f51-812c-6bf2d7eedbf1');\n",
              "          const dataTable =\n",
              "            await google.colab.kernel.invokeFunction('convertToInteractive',\n",
              "                                                     [key], {});\n",
              "          if (!dataTable) return;\n",
              "\n",
              "          const docLinkHtml = 'Like what you see? Visit the ' +\n",
              "            '<a target=\"_blank\" href=https://colab.research.google.com/notebooks/data_table.ipynb>data table notebook</a>'\n",
              "            + ' to learn more about interactive tables.';\n",
              "          element.innerHTML = '';\n",
              "          dataTable['output_type'] = 'display_data';\n",
              "          await google.colab.output.renderOutput(dataTable, element);\n",
              "          const docLink = document.createElement('div');\n",
              "          docLink.innerHTML = docLinkHtml;\n",
              "          element.appendChild(docLink);\n",
              "        }\n",
              "      </script>\n",
              "    </div>\n",
              "  </div>\n",
              "  "
            ]
          },
          "metadata": {},
          "execution_count": 5
        }
      ]
    },
    {
      "cell_type": "markdown",
      "source": [
        "## Access to Emergency Funds\n",
        "\n",
        "In this analysis, we create a model that will predict whether or not an individual within the Sub-Saharan region will have access to emergency funds based on the other variables available in the dataset including demographic variables such as gender, education level, age, and country of residence, as well as financial variables such as employment status and whether or not an individual has a financial account. "
      ],
      "metadata": {
        "id": "g9RAzR6jjSJv"
      }
    },
    {
      "cell_type": "code",
      "source": [
        "# barplot of access to emergency funds\n",
        "g = sns.countplot(x = 'has_access', data = df2, palette = yes_no_pal)\n",
        "for p in g.patches:\n",
        "   g.annotate('{:.1f}'.format(p.get_height()), (p.get_x()+ .25, p.get_height()+100))\n",
        "g.set(title = \"Distribution of Access to Emergency Funds\")"
      ],
      "metadata": {
        "id": "HcsgpSTxjN2U",
        "colab": {
          "base_uri": "https://localhost:8080/",
          "height": 314
        },
        "outputId": "2cf9f3a0-3b75-4881-fbe1-67da173eaa4a"
      },
      "execution_count": 44,
      "outputs": [
        {
          "output_type": "execute_result",
          "data": {
            "text/plain": [
              "[Text(0.5, 1.0, 'Distribution of Access to Emergency Funds')]"
            ]
          },
          "metadata": {},
          "execution_count": 44
        },
        {
          "output_type": "display_data",
          "data": {
            "text/plain": [
              "<Figure size 432x288 with 1 Axes>"
            ],
            "image/png": "[encoded data removed]"
          },
          "metadata": {
            "needs_background": "light"
          }
        }
      ]
    },
    {
      "cell_type": "markdown",
      "source": [
        "The barchart above displays the overall distribution of access to emergency funds. We can see that over half of individuals represented in the data do not have access. This analysis will help to identify which factors are most associated with lack of access, and thus the results could help to inform potential actions or initiatives to expand access. "
      ],
      "metadata": {
        "id": "Ff-0g9hGCXNM"
      }
    },
    {
      "cell_type": "markdown",
      "source": [
        "## Demographics"
      ],
      "metadata": {
        "id": "COcT40VgjZfm"
      }
    },
    {
      "cell_type": "markdown",
      "source": [
        "The barplot below displays the gender distribution of our sample. We can see that the number of males versus females is almost evenly split."
      ],
      "metadata": {
        "id": "khwrDG2iDpQ7"
      }
    },
    {
      "cell_type": "code",
      "source": [
        "# barplot female versus not\n",
        "g = sns.countplot(x = 'gender', data = df2, palette = gender_palette)\n",
        "\n",
        "for p in g.patches:\n",
        "   g.annotate('{:.1f}'.format(p.get_height()), (p.get_x()+ .3, p.get_height()+100))\n",
        "\n",
        "g.set(title = \"Gender Distribution\")"
      ],
      "metadata": {
        "colab": {
          "base_uri": "https://localhost:8080/",
          "height": 313
        },
        "id": "U8fYu7F7RBxk",
        "outputId": "dde607c9-4fce-4f92-db25-bc9ada4bcd16"
      },
      "execution_count": 26,
      "outputs": [
        {
          "output_type": "execute_result",
          "data": {
            "text/plain": [
              "[Text(0.5, 1.0, 'Gender Distribution')]"
            ]
          },
          "metadata": {},
          "execution_count": 26
        },
        {
          "output_type": "display_data",
          "data": {
            "text/plain": [
              "<Figure size 432x288 with 1 Axes>"
            ],
            "image/png": "[encoded data removed]"
          },
          "metadata": {
            "needs_background": "light"
          }
        }
      ]
    },
    {
      "cell_type": "markdown",
      "source": [
        "The bar plot below displays the relationship between gender and access to emergency funds. It is clear that males are more likely to have access than females. This points to the idea that there is likely gender inequity with regard to financial status within the Sub-Saharan region."
      ],
      "metadata": {
        "id": "gDfatNblIcx4"
      }
    },
    {
      "cell_type": "code",
      "source": [
        "# barplot of possibility of coming up with emergency funds by gender\n",
        "# 1 = yes have access, 2 = no, 3 = don't know, 4 = refuse\n",
        "gender_fin_counts = (df2.groupby(['gender'])['has_access']\n",
        "                     .value_counts(normalize = True)\n",
        "                     .rename('percentage')\n",
        "                     .mul(100)\n",
        "                     .reset_index()\n",
        "                     )\n",
        "\n",
        "g = sns.barplot(x = \"has_access\", y = \"percentage\", hue=\"gender\", data = gender_fin_counts, palette = [red, blue])\n",
        "for p in g.patches:\n",
        "   g.annotate('{:.1f}'.format(p.get_height()), (p.get_x()+.12, p.get_height()+.5))\n",
        "g.set(title = \"Distribution of Access by Gender\")"
      ],
      "metadata": {
        "colab": {
          "base_uri": "https://localhost:8080/",
          "height": 314
        },
        "id": "zneyMnbyBTrU",
        "outputId": "a56e48bb-8072-42fd-a437-329a6a61e5d9"
      },
      "execution_count": 42,
      "outputs": [
        {
          "output_type": "execute_result",
          "data": {
            "text/plain": [
              "[Text(0.5, 1.0, 'Distribution of Access by Gender')]"
            ]
          },
          "metadata": {},
          "execution_count": 42
        },
        {
          "output_type": "display_data",
          "data": {
            "text/plain": [
              "<Figure size 432x288 with 1 Axes>"
            ],
            "image/png": "[encoded data removed]"
          },
          "metadata": {
            "needs_background": "light"
          }
        }
      ]
    },
    {
      "cell_type": "code",
      "source": [
        "\n",
        "ebg = sns.countplot(x=\"Education\", hue= \"gender\", palette= gender_palette, order= ['Primary', 'Secondary', 'Tertiary'], data= df2)\n",
        "for p in ebg.patches:\n",
        "   ebg.annotate('{:.1f}'.format(p.get_height()), (p.get_x()+.05, p.get_height()+100))\n",
        "\n",
        "ebg.set(title= \"Education Count by Gender\")\n"
      ],
      "metadata": {
        "colab": {
          "base_uri": "https://localhost:8080/",
          "height": 313
        },
        "id": "lEblFdDAJ0c3",
        "outputId": "8bcc5a2e-3389-47f9-fcba-9bffebe80a8b"
      },
      "execution_count": 8,
      "outputs": [
        {
          "output_type": "execute_result",
          "data": {
            "text/plain": [
              "[Text(0.5, 1.0, 'Education Count by Gender')]"
            ]
          },
          "metadata": {},
          "execution_count": 8
        },
        {
          "output_type": "display_data",
          "data": {
            "text/plain": [
              "<Figure size 432x288 with 1 Axes>"
            ],
            "image/png": "[encoded data removed]"
          },
          "metadata": {
            "needs_background": "light"
          }
        }
      ]
    },
    {
      "cell_type": "code",
      "source": [
        "e_access = sns.countplot(x=\"Education\", order= ['Primary', 'Secondary', 'Tertiary'], hue= \"has_access\", hue_order= ['No', 'Yes'], palette = yes_no_pal, data=df2)\n",
        "\n",
        "for p in e_access.patches:\n",
        "   e_access.annotate('{:.1f}'.format(p.get_height()), (p.get_x()+.05, p.get_height()+100))\n",
        "\n",
        "e_access.set(title= \"Emergency Funds Access by Education\")\n"
      ],
      "metadata": {
        "colab": {
          "base_uri": "https://localhost:8080/",
          "height": 313
        },
        "id": "JUcAbwdBOlMp",
        "outputId": "12cb32e4-50ef-4f60-b7a7-ed6f4c52daac"
      },
      "execution_count": 9,
      "outputs": [
        {
          "output_type": "execute_result",
          "data": {
            "text/plain": [
              "[Text(0.5, 1.0, 'Emergency Funds Access by Education')]"
            ]
          },
          "metadata": {},
          "execution_count": 9
        },
        {
          "output_type": "display_data",
          "data": {
            "text/plain": [
              "<Figure size 432x288 with 1 Axes>"
            ],
            "image/png": "[encoded data removed]"
          },
          "metadata": {
            "needs_background": "light"
          }
        }
      ]
    },
    {
      "cell_type": "code",
      "source": [
        "age2 = sns.displot(x= \"age\", col= \"has_access\", hue=\"has_access\", bins = [15,20,25,30,35,40,45,50,55,60,65,70,75,80,85,90,95], col_order= [\"Yes\", \"No\"], hue_order= ['No', 'Yes'],palette= yes_no_pal, data=df2)\n",
        "\n",
        "age2.fig.subplots_adjust(top=.85)\n",
        "age2.fig.suptitle('Access to Emergency Funds by Age')\n"
      ],
      "metadata": {
        "colab": {
          "base_uri": "https://localhost:8080/",
          "height": 391
        },
        "id": "NHr8l3DT2jKL",
        "outputId": "b6a83387-4efd-47a9-98da-7048e0f3f472"
      },
      "execution_count": 10,
      "outputs": [
        {
          "output_type": "execute_result",
          "data": {
            "text/plain": [
              "Text(0.5, 0.98, 'Access to Emergency Funds by Age')"
            ]
          },
          "metadata": {},
          "execution_count": 10
        },
        {
          "output_type": "display_data",
          "data": {
            "text/plain": [
              "<Figure size 784.5x360 with 2 Axes>"
            ],
            "image/png": "[encoded data removed]"
          },
          "metadata": {
            "needs_background": "light"
          }
        }
      ]
    },
    {
      "cell_type": "markdown",
      "source": [
        "## Financial "
      ],
      "metadata": {
        "id": "kV5_BJfgjsF9"
      }
    },
    {
      "cell_type": "markdown",
      "source": [
        "The barplot below displays the distribution of how many individuals in our sample have a financial account versus do not have a financial account. We can see that about two thirds of individuals do not have an account. This is likely connected to the lack of access to emergency funds displayed above given that if an individual does not have a financial account, we would expect they are less likely to have a source of emergency funds, as emergency funds are generally stored in an account.  "
      ],
      "metadata": {
        "id": "plMyBBBqEXe9"
      }
    },
    {
      "cell_type": "code",
      "source": [
        "# barplot of number of people who have a bank account\n",
        "g = sns.countplot(x = 'account_fin', data = df2, palette = yes_no_pal)\n",
        "for p in g.patches:\n",
        "   g.annotate('{:.1f}'.format(p.get_height()), (p.get_x()+ .3, p.get_height()+100))\n",
        "g.set(title = \"Distribution of Has a Financial Account\", xlabel = 'Has a financial account?')"
      ],
      "metadata": {
        "colab": {
          "base_uri": "https://localhost:8080/",
          "height": 331
        },
        "id": "wSyZFn1TKESi",
        "outputId": "d7318eee-8732-4a71-a96f-95982a7a9424"
      },
      "execution_count": 46,
      "outputs": [
        {
          "output_type": "execute_result",
          "data": {
            "text/plain": [
              "[Text(0.5, 0, 'Has a financial account?'),\n",
              " Text(0.5, 1.0, 'Distribution of Has a Financial Account')]"
            ]
          },
          "metadata": {},
          "execution_count": 46
        },
        {
          "output_type": "display_data",
          "data": {
            "text/plain": [
              "<Figure size 432x288 with 1 Axes>"
            ],
            "image/png": "[encoded data removed]"
          },
          "metadata": {
            "needs_background": "light"
          }
        }
      ]
    },
    {
      "cell_type": "code",
      "source": [
        "%%capture --no-display\n",
        "# reasons for no financial account\n",
        "# pivot data to long format\n",
        "df_long = df[['fin11a', \"fin11b\", \"fin11c\", \"fin11d\", \"fin11e\", \"fin11f\", \"fin11g\", \"fin11h\"]]\\\n",
        ".stack()\\\n",
        ".reset_index()\n",
        "df_long.rename(columns = {'level_1':'reason', 0:'value'}, inplace = True)\n",
        "df3 = df_long.query('value == 1.0') # filter to only \"yes\" answers for each reason\n",
        "# recode reason values\n",
        "df3.loc[df3['reason'] == 'fin11a', \"reason\"] = 'distance'\n",
        "df3.loc[df3['reason'] == 'fin11b', \"reason\"] = 'expense'\n",
        "df3.loc[df3['reason'] == 'fin11c', \"reason\"] = 'no_documentation'\n",
        "df3.loc[df3['reason'] == 'fin11d', \"reason\"] = 'lack_trust'\n",
        "df3.loc[df3['reason'] == 'fin11e', \"reason\"] = 'religious'\n",
        "df3.loc[df3['reason'] == 'fin11f', \"reason\"] = 'lack_money'\n",
        "df3.loc[df3['reason'] == 'fin11g', \"reason\"] = 'family_member_has'\n",
        "df3.loc[df3['reason'] == 'fin11h', \"reason\"] = 'no_need'\n",
        "df3.head()\n",
        "\n",
        "# aggregate counts by reason\n",
        "reason_counts = df3.groupby('reason').agg('count').reset_index()"
      ],
      "metadata": {
        "id": "ZpSpqq2QLroP"
      },
      "execution_count": 12,
      "outputs": []
    },
    {
      "cell_type": "markdown",
      "source": [
        "The bar plot below displays the distribution of reasons for not having a financial account for those who answered \"No\" to the question of whether or not they have a financial account. We can see that the top reason by far is that folks simply do not have money to keep in an account, and the second to top reason is the expense of of the account itself. This points to the idea that a large percentage of the folks sampled are very poor, and thus have neither a financial account nor emergency funds."
      ],
      "metadata": {
        "id": "6UvHuDsMG_T7"
      }
    },
    {
      "cell_type": "code",
      "source": [
        "# barplot of count by reason-- seaborn\n",
        "reasons_plot = sns.barplot(y = 'reason',\n",
        "                           x = 'value', \n",
        "                           data = reason_counts, \n",
        "                           palette = [pink, pink, pink, pink, pink, pink, pink, pink],\n",
        "                      order = [\"lack_money\",\"expense\",\n",
        "                               \"no_documentation\", \"distance\",\n",
        "                               \"lack_trust\", \"no_need\",\n",
        "                               \"family_member_has\", \"religious\"]).set(\n",
        "                      title = \"Reasons for No Financial Account\",\n",
        "                      xlabel = \"count\")"
      ],
      "metadata": {
        "colab": {
          "base_uri": "https://localhost:8080/",
          "height": 295
        },
        "id": "yQEZK0Smk0Ia",
        "outputId": "14bdea98-3969-4eab-8435-767f2178a1eb"
      },
      "execution_count": 13,
      "outputs": [
        {
          "output_type": "display_data",
          "data": {
            "text/plain": [
              "<Figure size 432x288 with 1 Axes>"
            ],
            "image/png": "[encoded data removed]"
          },
          "metadata": {
            "needs_background": "light"
          }
        }
      ]
    },
    {
      "cell_type": "markdown",
      "source": [
        "The bar chart below displays the relationship between gender and whether or not an individual has a financial account. We can see that males are more likely to have a financial account than females. Thus further reinforces the idea that there is gender inequity with regard to financial status."
      ],
      "metadata": {
        "id": "DSH8ya2PJXZN"
      }
    },
    {
      "cell_type": "code",
      "source": [
        "gender_acc_counts = (df2.groupby(['gender'])['account_fin']\n",
        "                     .value_counts(normalize=True)\n",
        "                     .rename('percentage')\n",
        "                     .mul(100)\n",
        "                     .reset_index()\n",
        "                     )\n",
        "\n",
        "g = sns.barplot(x = \"account_fin\", y = \"percentage\", hue=\"gender\", data = gender_acc_counts, palette = [red, blue])\n",
        "for p in g.patches:\n",
        "   g.annotate('{:.1f}'.format(p.get_height()), (p.get_x()+.12, p.get_height()+.5))\n",
        "g.set(title = \"Distribution of Has a Financial Account by Gender\", xlabel = 'Has a financial account?')"
      ],
      "metadata": {
        "colab": {
          "base_uri": "https://localhost:8080/",
          "height": 331
        },
        "id": "Fwpj6vfeJVRN",
        "outputId": "62ed5d6b-fabb-479e-837c-318db4106fad"
      },
      "execution_count": 47,
      "outputs": [
        {
          "output_type": "execute_result",
          "data": {
            "text/plain": [
              "[Text(0.5, 0, 'Has a financial account?'),\n",
              " Text(0.5, 1.0, 'Distribution of Has a Financial Account by Gender')]"
            ]
          },
          "metadata": {},
          "execution_count": 47
        },
        {
          "output_type": "display_data",
          "data": {
            "text/plain": [
              "<Figure size 432x288 with 1 Axes>"
            ],
            "image/png": "[encoded data removed]"
          },
          "metadata": {
            "needs_background": "light"
          }
        }
      ]
    },
    {
      "cell_type": "markdown",
      "source": [
        "Next, we explore the distribution of employment status. It appears that about three-fourths of individuals are in the workforce, which is much higher than the percentage of individuals who have access to emergency funds. This may indicate that many people who have jobs do not get paid enough to have emergency funds in savings."
      ],
      "metadata": {
        "id": "ch0ttIaTJxpL"
      }
    },
    {
      "cell_type": "code",
      "source": [
        "# Distribution by in workforce\n",
        "g = sns.countplot(x = 'emp_in', data = df2, palette = yes_no_pal)\n",
        "for p in g.patches:\n",
        "   g.annotate('{:.1f}'.format(p.get_height()), (p.get_x()+ .3, p.get_height()+100))\n",
        "g.set(title = \"Distribution of Whether or not in Workforce\", xlabel = \"In workforce?\")"
      ],
      "metadata": {
        "colab": {
          "base_uri": "https://localhost:8080/",
          "height": 331
        },
        "id": "wQQGb704ESgT",
        "outputId": "df285de3-e039-40ad-de59-2ec2abc6d613"
      },
      "execution_count": 49,
      "outputs": [
        {
          "output_type": "execute_result",
          "data": {
            "text/plain": [
              "[Text(0.5, 0, 'In workforce?'),\n",
              " Text(0.5, 1.0, 'Distribution of Whether or not in Workforce')]"
            ]
          },
          "metadata": {},
          "execution_count": 49
        },
        {
          "output_type": "display_data",
          "data": {
            "text/plain": [
              "<Figure size 432x288 with 1 Axes>"
            ],
            "image/png": "[encoded data removed]"
          },
          "metadata": {
            "needs_background": "light"
          }
        }
      ]
    },
    {
      "cell_type": "markdown",
      "source": [
        "The bar plot below displays the relationship between gender and employment status. It is clear that more females than males are unemployed. This may be one factor contributing to the gender inequity with regard to financial status displayed in the above plots."
      ],
      "metadata": {
        "id": "76-FSrGEKuD_"
      }
    },
    {
      "cell_type": "code",
      "source": [
        "# Distribution by Gender and In Workforce\n",
        "gender_emp_counts = (df2.groupby(['gender'])['emp_in']\n",
        "                     .value_counts(normalize=True)\n",
        "                     .rename('percentage')\n",
        "                     .mul(100)\n",
        "                     .reset_index()\n",
        ")\n",
        "\n",
        "g = sns.barplot(x = \"emp_in\", y = \"percentage\", hue=\"gender\", data = gender_emp_counts, palette = [red, blue])\n",
        "for p in g.patches:\n",
        "   g.annotate('{:.1f}'.format(p.get_height()), (p.get_x()+.12, p.get_height()+.5))\n",
        "g.set(title = \"Distribution of In Workforce by Gender\", xlabel = \"In workforce?\")"
      ],
      "metadata": {
        "colab": {
          "base_uri": "https://localhost:8080/",
          "height": 331
        },
        "id": "YhrLmnWcE3Dl",
        "outputId": "9bdcfd6f-5a28-4ee1-e3ee-5fdb145e9714"
      },
      "execution_count": 48,
      "outputs": [
        {
          "output_type": "execute_result",
          "data": {
            "text/plain": [
              "[Text(0.5, 0, 'In workforce?'),\n",
              " Text(0.5, 1.0, 'Distribution of In Workforce by Gender')]"
            ]
          },
          "metadata": {},
          "execution_count": 48
        },
        {
          "output_type": "display_data",
          "data": {
            "text/plain": [
              "<Figure size 432x288 with 1 Axes>"
            ],
            "image/png": "[encoded data removed]"
          },
          "metadata": {
            "needs_background": "light"
          }
        }
      ]
    },
    {
      "cell_type": "markdown",
      "source": [
        "# Access to debit card and Income quantile\n",
        "\n",
        "We are focusing on these two variables because we assume they will have an impact on fin24(has access to emergency funds) more than the other financial variables. "
      ],
      "metadata": {
        "id": "eI8lcfCKBUQv"
      }
    },
    {
      "cell_type": "markdown",
      "source": [
        "**Correlation Plot**\n",
        "First lets create a correlation plot with all of the financial variables that arent conditionals of other questions. Are there any correlations that seem strong?"
      ],
      "metadata": {
        "id": "Ei26qSqbBo_A"
      }
    },
    {
      "cell_type": "code",
      "source": [
        "# data set with all the financial variables except for the conditionals\n",
        "df_fin = df[['inc_q','fin2','fin3','fin4','fin5','fin6','fin7','fin8','fin9','fin10',\n",
        "             'fin14a','fin14b','fin14c','fin15','fin16',\n",
        "             'fin17a','fin17b','fin19','fin20','fin21','fin22a','fin22b','fin22b','fin24',\n",
        "             'fin25','fin26','fin28','fin30','fin32','fin37','fin38',\n",
        "             'fin42','fin46','account','saved','borrowed','receive_wages','receive_pension',\n",
        "             'pay_utilities','remittances','pay_onlne','pay_onlne_mobintbuy','pay_cash',\n",
        "             'pay_cash_mobintbuy']]"
      ],
      "metadata": {
        "id": "t67_gisYBp8_"
      },
      "execution_count": null,
      "outputs": []
    },
    {
      "cell_type": "code",
      "source": [
        "fig, ax = plt.subplots()\n",
        "\n",
        "corr = df_fin.corr()\n",
        "sns.heatmap(corr, cmap=\"YlGnBu\", xticklabels = True, yticklabels = True)\n",
        "fig.set_size_inches(18.5, 10.5)"
      ],
      "metadata": {
        "colab": {
          "base_uri": "https://localhost:8080/",
          "height": 608
        },
        "id": "uMdhYgF6CBaB",
        "outputId": "21ed6d51-d7b9-44dc-80dc-7e0bef8de231"
      },
      "execution_count": null,
      "outputs": [
        {
          "output_type": "display_data",
          "data": {
            "text/plain": [
              "<Figure size 1332x756 with 2 Axes>"
            ],
            "image/png": "[encoded data removed]"
          },
          "metadata": {
            "needs_background": "light"
          }
        }
      ]
    },
    {
      "cell_type": "markdown",
      "source": [
        "We assumed that fin2 and inc_q would have the largest correlation with fin24 however, inc_q doesnt seem to correlate with fin24. fin2 seems to have a slight correlation.Overall fin24 doesnt look like it has a strong correlation with the other financial variables, possibly remmittances. There seem to be a few stronger correlations however these are mostly from two questions being very similar. For example fin 32 seems correlated with the receive wages variable. Fin 32 is asking if the participant reveived wages in the past 12 months. This correlation plot is misleading in that way. "
      ],
      "metadata": {
        "id": "UvV0cbDbCbj7"
      }
    },
    {
      "cell_type": "markdown",
      "source": [
        "# Income Quantile"
      ],
      "metadata": {
        "id": "uLYk9hzeE33M"
      }
    },
    {
      "cell_type": "markdown",
      "source": [
        "Lets start by looking at the income quantile variable. How is it distributed, what is the mean value, and how does it relate to access to emergency funds?"
      ],
      "metadata": {
        "id": "Mvo6DbIuCmJG"
      }
    },
    {
      "cell_type": "code",
      "source": [
        "\n",
        "df[\"inc_q\"].mean()"
      ],
      "metadata": {
        "id": "UL1JxMj8CZxH",
        "colab": {
          "base_uri": "https://localhost:8080/"
        },
        "outputId": "8e8bf815-046d-4a02-d368-49aecca703c8"
      },
      "execution_count": null,
      "outputs": [
        {
          "output_type": "execute_result",
          "data": {
            "text/plain": [
              "3.241085714285714"
            ]
          },
          "metadata": {},
          "execution_count": 12
        }
      ]
    },
    {
      "cell_type": "markdown",
      "source": [
        "Although income quantile is a categorical variable, it could still be helpful to look at the mean value because the categories represent meaningful numbers. Income quantile is separated into 5 quantiles with 1 being the poorest and 5 being the richest. The mean for all the sub sahara countries is 3.241. This means that all the countries average out to be about middle class. We will look at some individual countries later on. "
      ],
      "metadata": {
        "id": "teE6LCaSCrFv"
      }
    },
    {
      "cell_type": "code",
      "source": [
        "# cant remember if i used all of these, i will check back later\n",
        "df_inq = df['inc_q']\n",
        "df_inq_fin24 = df[['inc_q','fin24']]\n",
        "df_inq_fin24_wp = df[['inc_q','fin24', 'wpid_random']]\n",
        "#df_inq_fin24_wp.query('fin24 ==1 and fin24 ==2')\n",
        "df_inq_fem = df[['inc_q','female']]\n",
        "\n",
        "\n",
        "df_inq_24wp = df_inq_fin24_wp[(df_inq_fin24_wp['fin24']<=2)]\n",
        "\n"
      ],
      "metadata": {
        "id": "Obb8SYtlC1Ra"
      },
      "execution_count": null,
      "outputs": []
    },
    {
      "cell_type": "code",
      "source": [
        "#stacking plots\n",
        "# create new figure\n",
        "fig = plt.figure()\n",
        "#add sub plot\n",
        "ax1 = fig.add_subplot(2,2,1) \n",
        "#hand off to pandas\n",
        "sns.countplot(df_inq, ax = ax1)\n",
        "ax1.set_xlabel(\"Income Quantile\")\n",
        "ax1.set_xticklabels(['Poorest 20%','Second 20%','Middle 20%','Fourth 20%','Richest 20%'])\n",
        "ax1.title.set_text('Income Quantile  Distribution')\n",
        "\n",
        "# second graph\n",
        "ax2 = fig.add_subplot(2,2,2)\n",
        "sns.violinplot(data = df, x='inc_q', y='fin24', ax = ax2)\n",
        "ax2.set_xlabel(\"Income Quantile\")\n",
        "ax2.set_ylabel(\"Access to Emergency Funds\")\n",
        "ax2.title.set_text('Income Quantile vs Access to Emergency Funds')\n",
        "ax2.set_xticklabels(['Poorest 20%','Second 20%','Middle 20%','Fourth 20%','Richest 20%'])\n",
        "ax2.set_yticklabels(['','','yes','','no','','','',''])\n",
        "ax2.set(ylim=(0, 4))\n",
        "\n",
        "\n",
        "\n",
        "\n",
        "## third graph\n",
        "# set up proportions\n",
        "\n",
        "# count each group\n",
        "counts_df = df_inq_24wp.groupby([\"fin24\",\"inc_q\"])['wpid_random'].count().unstack()\n",
        "# calculate percents\n",
        "inc_q_percents_df = counts_df.div(counts_df.sum()).T\n",
        "\n",
        "ax3 = fig.add_subplot(2,2,3)\n",
        "\n",
        "inc_q_percents_df.plot(kind = \"bar\", stacked = False, color = ['#1B851B','#BF3EFF'], ax = ax3)\n",
        "ax3.legend([\"Possible\",\"Not Possible\"],\n",
        "           title = \"Has access to emergency funds\")\n",
        "\n",
        "ax3.set_ylabel(\"Proportion\")\n",
        "ax3.set_xlabel(\"Income Quantile\")\n",
        "#ax3.set_xticklabels(ax.get_xticklabels(),rotation = 0)\n",
        "ax3.set_xticklabels(['Poorest 20%','Second 20%','Middle 20%','Fourth 20%','Richest 20%'])\n",
        "ax3.title.set_text('Income Quantile vs Access to Emergency Funds')\n",
        "\n",
        "\n",
        "## Fourth graph\n",
        "\n",
        "# count each group\n",
        "fem_counts_df = df.groupby([\"female\",\"inc_q\"])['wpid_random'].count().unstack()\n",
        "# calculate percents\n",
        "fem_percents_df = fem_counts_df.div(fem_counts_df.sum()).T\n",
        "\n",
        "\n",
        "ax4 = fig.add_subplot(2,2,4)\n",
        "\n",
        "fem_percents_df.plot(kind = \"bar\", stacked = False, color = ['#00B2EE','#FF7377'], ax = ax4)\n",
        "ax4.legend([\"Male\",\"Female\"],\n",
        "           title = \"Sex\")\n",
        "\n",
        "ax4.set_ylabel(\"Proportion\")\n",
        "ax4.set_xlabel(\"Income Quantile\")\n",
        "ax4.set_xticklabels(ax4.get_xticklabels(),rotation = 90)\n",
        "ax4.set_xticklabels(['Poorest 20%','Second 20%','Middle 20%','Fourth 20%','Richest 20%'])\n",
        "ax4.title.set_text('Income Quantile vs Sex')\n",
        "\n",
        "\n",
        "\n",
        "fig.set_size_inches(18.5, 10.5)\n",
        "fig.suptitle(\"Income Quantiles\")"
      ],
      "metadata": {
        "colab": {
          "base_uri": "https://localhost:8080/",
          "height": 603
        },
        "id": "sioGvNjyCuoB",
        "outputId": "dfc1a825-99e3-48d4-b5d8-c3993799980c"
      },
      "execution_count": null,
      "outputs": [
        {
          "output_type": "stream",
          "name": "stderr",
          "text": [
            "/usr/local/lib/python3.7/dist-packages/seaborn/_decorators.py:43: FutureWarning: Pass the following variable as a keyword arg: x. From version 0.12, the only valid positional argument will be `data`, and passing other arguments without an explicit keyword will result in an error or misinterpretation.\n"
          ]
        },
        {
          "output_type": "execute_result",
          "data": {
            "text/plain": [
              "Text(0.5, 0.98, 'Income Quantiles')"
            ]
          },
          "metadata": {},
          "execution_count": 7
        },
        {
          "output_type": "display_data",
          "data": {
            "text/plain": [
              "<Figure size 1332x756 with 4 Axes>"
            ],
            "image/png": "[encoded data removed]"
          },
          "metadata": {
            "needs_background": "light"
          }
        }
      ]
    },
    {
      "cell_type": "markdown",
      "source": [
        "Income quantile 5, which is the richest quantile, has the highest count of people. Males comprise the majority of this quantile. Women compose the majority of quantiles 1,2, and 3 which are the poorest quantiles. The majority of people in quantile 5 have more access to emergency funds while the majority of people in quantile 1 dont have access to emergency funds."
      ],
      "metadata": {
        "id": "7F5ZkkpTDsvc"
      }
    },
    {
      "cell_type": "markdown",
      "source": [
        "# Access to Debit Card"
      ],
      "metadata": {
        "id": "o_SdDXZXE8mr"
      }
    },
    {
      "cell_type": "markdown",
      "source": [
        "Now lets look at the fin2(access to debit card) variable. This is another categorical variable. The levels are encoded. 1: yes, 2:no, 3: dont know, 4: refused to answer. "
      ],
      "metadata": {
        "id": "7uSo2u1XD5OI"
      }
    },
    {
      "cell_type": "code",
      "source": [
        "df_fin2 = df[[\"fin2\"]]\n",
        "df_fin2_fin24_wpid = df[[\"fin2\",\"fin24\",\"wpid_random\"]]\n",
        "df224w = df_fin2_fin24_wpid[(df_fin2_fin24_wpid['fin2']<=2)& (df_fin2_fin24_wpid['fin24']<=2)]\n",
        "\n",
        "\n",
        "df_fem_fin24_wpid = df[[\"female\",\"fin2\",\"wpid_random\"]]\n",
        "dffem24w = df_fem_fin24_wpid[(df_fem_fin24_wpid['fin2']<=2)]\n"
      ],
      "metadata": {
        "id": "LTBXLIDjEFnN",
        "colab": {
          "base_uri": "https://localhost:8080/",
          "height": 204
        },
        "outputId": "2de85188-84f2-4aab-c5ba-05a91e5dc98e"
      },
      "execution_count": null,
      "outputs": [
        {
          "output_type": "execute_result",
          "data": {
            "text/plain": [
              "       fin2  fin24  wpid_random\n",
              "12138     2      2    143101339\n",
              "12139     2      1    123998301\n",
              "12140     2      1    157155643\n",
              "12141     2      1    155618899\n",
              "12142     2      2    143861320"
            ],
            "text/html": [
              "\n",
              "  <div id=\"df-37034374-3954-444d-a443-30f6881d51a5\">\n",
              "    <div class=\"colab-df-container\">\n",
              "      <div>\n",
              "<style scoped>\n",
              "    .dataframe tbody tr th:only-of-type {\n",
              "        vertical-align: middle;\n",
              "    }\n",
              "\n",
              "    .dataframe tbody tr th {\n",
              "        vertical-align: top;\n",
              "    }\n",
              "\n",
              "    .dataframe thead th {\n",
              "        text-align: right;\n",
              "    }\n",
              "</style>\n",
              "<table border=\"1\" class=\"dataframe\">\n",
              "  <thead>\n",
              "    <tr style=\"text-align: right;\">\n",
              "      <th></th>\n",
              "      <th>fin2</th>\n",
              "      <th>fin24</th>\n",
              "      <th>wpid_random</th>\n",
              "    </tr>\n",
              "  </thead>\n",
              "  <tbody>\n",
              "    <tr>\n",
              "      <th>12138</th>\n",
              "      <td>2</td>\n",
              "      <td>2</td>\n",
              "      <td>143101339</td>\n",
              "    </tr>\n",
              "    <tr>\n",
              "      <th>12139</th>\n",
              "      <td>2</td>\n",
              "      <td>1</td>\n",
              "      <td>123998301</td>\n",
              "    </tr>\n",
              "    <tr>\n",
              "      <th>12140</th>\n",
              "      <td>2</td>\n",
              "      <td>1</td>\n",
              "      <td>157155643</td>\n",
              "    </tr>\n",
              "    <tr>\n",
              "      <th>12141</th>\n",
              "      <td>2</td>\n",
              "      <td>1</td>\n",
              "      <td>155618899</td>\n",
              "    </tr>\n",
              "    <tr>\n",
              "      <th>12142</th>\n",
              "      <td>2</td>\n",
              "      <td>2</td>\n",
              "      <td>143861320</td>\n",
              "    </tr>\n",
              "  </tbody>\n",
              "</table>\n",
              "</div>\n",
              "      <button class=\"colab-df-convert\" onclick=\"convertToInteractive('df-37034374-3954-444d-a443-30f6881d51a5')\"\n",
              "              title=\"Convert this dataframe to an interactive table.\"\n",
              "              style=\"display:none;\">\n",
              "        \n",
              "  <svg xmlns=\"http://www.w3.org/2000/svg\" height=\"24px\"viewBox=\"0 0 24 24\"\n",
              "       width=\"24px\">\n",
              "    <path d=\"M0 0h24v24H0V0z\" fill=\"none\"/>\n",
              "    <path d=\"M18.56 5.44l.94 2.06.94-2.06 2.06-.94-2.06-.94-.94-2.06-.94 2.06-2.06.94zm-11 1L8.5 8.5l.94-2.06 2.06-.94-2.06-.94L8.5 2.5l-.94 2.06-2.06.94zm10 10l.94 2.06.94-2.06 2.06-.94-2.06-.94-.94-2.06-.94 2.06-2.06.94z\"/><path d=\"M17.41 7.96l-1.37-1.37c-.4-.4-.92-.59-1.43-.59-.52 0-1.04.2-1.43.59L10.3 9.45l-7.72 7.72c-.78.78-.78 2.05 0 2.83L4 21.41c.39.39.9.59 1.41.59.51 0 1.02-.2 1.41-.59l7.78-7.78 2.81-2.81c.8-.78.8-2.07 0-2.86zM5.41 20L4 18.59l7.72-7.72 1.47 1.35L5.41 20z\"/>\n",
              "  </svg>\n",
              "      </button>\n",
              "      \n",
              "  <style>\n",
              "    .colab-df-container {\n",
              "      display:flex;\n",
              "      flex-wrap:wrap;\n",
              "      gap: 12px;\n",
              "    }\n",
              "\n",
              "    .colab-df-convert {\n",
              "      background-color: #E8F0FE;\n",
              "      border: none;\n",
              "      border-radius: 50%;\n",
              "      cursor: pointer;\n",
              "      display: none;\n",
              "      fill: #1967D2;\n",
              "      height: 32px;\n",
              "      padding: 0 0 0 0;\n",
              "      width: 32px;\n",
              "    }\n",
              "\n",
              "    .colab-df-convert:hover {\n",
              "      background-color: #E2EBFA;\n",
              "      box-shadow: 0px 1px 2px rgba(60, 64, 67, 0.3), 0px 1px 3px 1px rgba(60, 64, 67, 0.15);\n",
              "      fill: #174EA6;\n",
              "    }\n",
              "\n",
              "    [theme=dark] .colab-df-convert {\n",
              "      background-color: #3B4455;\n",
              "      fill: #D2E3FC;\n",
              "    }\n",
              "\n",
              "    [theme=dark] .colab-df-convert:hover {\n",
              "      background-color: #434B5C;\n",
              "      box-shadow: 0px 1px 3px 1px rgba(0, 0, 0, 0.15);\n",
              "      filter: drop-shadow(0px 1px 2px rgba(0, 0, 0, 0.3));\n",
              "      fill: #FFFFFF;\n",
              "    }\n",
              "  </style>\n",
              "\n",
              "      <script>\n",
              "        const buttonEl =\n",
              "          document.querySelector('#df-37034374-3954-444d-a443-30f6881d51a5 button.colab-df-convert');\n",
              "        buttonEl.style.display =\n",
              "          google.colab.kernel.accessAllowed ? 'block' : 'none';\n",
              "\n",
              "        async function convertToInteractive(key) {\n",
              "          const element = document.querySelector('#df-37034374-3954-444d-a443-30f6881d51a5');\n",
              "          const dataTable =\n",
              "            await google.colab.kernel.invokeFunction('convertToInteractive',\n",
              "                                                     [key], {});\n",
              "          if (!dataTable) return;\n",
              "\n",
              "          const docLinkHtml = 'Like what you see? Visit the ' +\n",
              "            '<a target=\"_blank\" href=https://colab.research.google.com/notebooks/data_table.ipynb>data table notebook</a>'\n",
              "            + ' to learn more about interactive tables.';\n",
              "          element.innerHTML = '';\n",
              "          dataTable['output_type'] = 'display_data';\n",
              "          await google.colab.output.renderOutput(dataTable, element);\n",
              "          const docLink = document.createElement('div');\n",
              "          docLink.innerHTML = docLinkHtml;\n",
              "          element.appendChild(docLink);\n",
              "        }\n",
              "      </script>\n",
              "    </div>\n",
              "  </div>\n",
              "  "
            ]
          },
          "metadata": {},
          "execution_count": 9
        }
      ]
    },
    {
      "cell_type": "code",
      "source": [
        "#stacking plots\n",
        "# create new figure\n",
        "fig = plt.figure()\n",
        "#add sub plot\n",
        "ax1 = fig.add_subplot(2,2,1) \n",
        "#hand off to pandas\n",
        "sns.countplot(data = df_fin2,x = 'fin2', order= [1,2],ax = ax1)\n",
        "ax1.title.set_text('Access to Debit Card  Distribution')\n",
        "ax1.set_xticklabels([\"yes\",\"no\",\"dont know\",\"refused to answer\"])\n",
        "ax1.set_xlabel(\"Has Access to Debit Card\")\n",
        "\n",
        "\n",
        "ax2 = fig.add_subplot(2,2,2)\n",
        "sns.violinplot(data = df, x='fin2', y='fin24',order= [1,2], ax = ax2)\n",
        "ax2.set_xlabel(\"Has Access to Debit Card\")\n",
        "ax2.set_ylabel(\"Has Access to Emergency Funds\")\n",
        "ax2.title.set_text('Access to Debit Card vs Access to Emergency Funds')\n",
        "ax2.set_yticklabels(['','yes','no','','','',''])\n",
        "ax2.set_xticklabels([\"yes\",\"no\",\"dont know\",\"refused to answer\"])\n",
        "\n",
        "\n",
        "# third graph\n",
        "# set up proportions\n",
        "\n",
        "# count each group\n",
        "counts_fin2_df = df224w.groupby([\"fin24\",\"fin2\"])['wpid_random'].count().unstack()\n",
        "#calculate percents\n",
        "fin2_percents_df = counts_fin2_df.div(counts_fin2_df.sum()).T\n",
        "\n",
        "ax3 = fig.add_subplot(2,2,3)\n",
        "fin2_percents_df.plot(kind = \"bar\", stacked = False, color = ['#1B851B','#BF3EFF'],ax = ax3)\n",
        "ax3.legend([\"Possible\",\"Not Possible\"],title = \"Has access to emergency funds\")\n",
        "ax3.set_xticklabels([\"Yes\", \"No\"], rotation=0)\n",
        "ax3.set_ylabel(\"Proportion\")\n",
        "ax3.set_xlabel(\"Has Debit card\")\n",
        "ax3.title.set_text('Access to Debit Card vs Access to Emergency Funds')\n",
        "\n",
        "\n",
        "\n",
        "# fourth graph\n",
        "\n",
        "# set up proportions\n",
        "\n",
        "# count each group\n",
        "fem_counts_fin2_df = dffem24w.groupby([\"female\",\"fin2\"])['wpid_random'].count().unstack()\n",
        "#calculate percents\n",
        "fem_fin2_percents_df = fem_counts_fin2_df.div(fem_counts_fin2_df.sum()).T\n",
        "\n",
        "\n",
        "\n",
        "ax4 = fig.add_subplot(2,2,4)\n",
        "fem_fin2_percents_df.plot(kind = \"bar\", stacked = False, color = ['#00B2EE','#FF7377'],ax = ax4)\n",
        "ax4.legend([\"Male\",\"Female\"],title = \"Sex\")\n",
        "ax4.set_xticklabels([\"Yes\", \"No\"], rotation=0)\n",
        "ax4.set_ylabel(\"Proportion\")\n",
        "ax4.set_xlabel(\"Has Debit card\")\n",
        "ax4.title.set_text('Access to Debit Card vs Access to Emergency Funds')\n",
        "\n",
        "\n",
        "\n",
        "\n",
        "fig.set_size_inches(18.5, 10.5)\n",
        "fig.suptitle(\"Access to Debit Card\")"
      ],
      "metadata": {
        "colab": {
          "base_uri": "https://localhost:8080/",
          "height": 526
        },
        "id": "txTufu4iDqms",
        "outputId": "46b1e7f8-d6ba-4a81-dea9-56897cca8fc5"
      },
      "execution_count": null,
      "outputs": [
        {
          "output_type": "execute_result",
          "data": {
            "text/plain": [
              "Text(0.5, 0.98, 'Access to Debit Card')"
            ]
          },
          "metadata": {},
          "execution_count": 10
        },
        {
          "output_type": "display_data",
          "data": {
            "text/plain": [
              "<Figure size 1332x756 with 4 Axes>"
            ],
            "image/png": "[encoded data removed]"
          },
          "metadata": {
            "needs_background": "light"
          }
        }
      ]
    },
    {
      "cell_type": "markdown",
      "source": [
        "Looking at the counts of fin2, it seems most people dont have access to a debit card. The counts of people who do and dont have access to debit cards seem to be evenly distributed between men and women. Relating to our outcome variable, people who dont have access to a debit card mostly dont have access to emergency funds. People who do have access to a debit card mostly have access to emergency funds."
      ],
      "metadata": {
        "id": "ZRJKKbXNEONG"
      }
    },
    {
      "cell_type": "markdown",
      "source": [
        "While some people in lower income quantiles do have access to emergency funds, only quantiles 4 and 5 have more people that have access to emergency funds than people who dont. \n",
        "\n",
        "Comparing income quantiles and access to emergency funds we can see that people in higher quantiles have more access to emergency funds than people in lower income quantiles.\n",
        "\n",
        "More than half the people who own debit cards have access to emergency funds while less than half of people who dont own credit cards, dont know, or refused to answer, have access to emergency funds. "
      ],
      "metadata": {
        "id": "1Xu9P_WGEmcE"
      }
    },
    {
      "cell_type": "markdown",
      "source": [
        "\n",
        "# Income Quantile,Access to Debit Card, and Access to Emergency Funds vs. Country\n",
        "Does the country have an impact on income quantile, access to debit card, and access to emergency funds. What countries have the richest population on average?"
      ],
      "metadata": {
        "id": "YYn84E6BFWBN"
      }
    },
    {
      "cell_type": "code",
      "source": [
        "df_econ = df[[\"economy\",\"inc_q\",\"fin2\",\"fin24\"]]\n",
        "df_econ.groupby(['economy']).describe()"
      ],
      "metadata": {
        "colab": {
          "base_uri": "https://localhost:8080/",
          "height": 1000
        },
        "id": "OK8SoQzyFUXY",
        "outputId": "203d9fbb-185b-4f34-9ef6-0c64648057f0"
      },
      "execution_count": null,
      "outputs": [
        {
          "output_type": "execute_result",
          "data": {
            "text/plain": [
              "                           inc_q                                            \\\n",
              "                           count   mean       std  min  25%  50%  75%  max   \n",
              "economy                                                                      \n",
              "Benin                     1000.0  3.271  1.421119  1.0  2.0  3.0  5.0  5.0   \n",
              "Botswana                  1000.0  3.192  1.423082  1.0  2.0  3.0  5.0  5.0   \n",
              "Burkina Faso              1000.0  3.373  1.436640  1.0  2.0  4.0  5.0  5.0   \n",
              "Cameroon                  1000.0  3.249  1.403199  1.0  2.0  3.0  5.0  5.0   \n",
              "Central African Republic  1000.0  3.221  1.420626  1.0  2.0  3.0  5.0  5.0   \n",
              "Chad                      1000.0  3.266  1.454428  1.0  2.0  3.0  5.0  5.0   \n",
              "Congo, Dem. Rep.          1000.0  3.295  1.400692  1.0  2.0  3.0  5.0  5.0   \n",
              "Congo, Rep.               1000.0  3.213  1.445587  1.0  2.0  3.0  5.0  5.0   \n",
              "Cote d'Ivoire             1000.0  3.248  1.431274  1.0  2.0  3.0  5.0  5.0   \n",
              "Ethiopia                  1000.0  3.355  1.438417  1.0  2.0  4.0  5.0  5.0   \n",
              "Gabon                     1000.0  3.362  1.411718  1.0  2.0  4.0  5.0  5.0   \n",
              "Ghana                     1000.0  3.256  1.451403  1.0  2.0  3.0  5.0  5.0   \n",
              "Guinea                    1000.0  3.267  1.435190  1.0  2.0  3.0  5.0  5.0   \n",
              "Kenya                     1000.0  3.205  1.390291  1.0  2.0  3.0  4.0  5.0   \n",
              "Lesotho                   1000.0  3.171  1.435904  1.0  2.0  3.0  4.0  5.0   \n",
              "Liberia                   1000.0  3.071  1.419145  1.0  2.0  3.0  4.0  5.0   \n",
              "Madagascar                1000.0  3.268  1.432560  1.0  2.0  3.0  5.0  5.0   \n",
              "Malawi                    1000.0  3.152  1.412406  1.0  2.0  3.0  4.0  5.0   \n",
              "Mali                      1000.0  3.263  1.422623  1.0  2.0  3.0  5.0  5.0   \n",
              "Mauritania                1000.0  3.309  1.421105  1.0  2.0  3.0  5.0  5.0   \n",
              "Mauritius                 1000.0  3.291  1.439580  1.0  2.0  4.0  5.0  5.0   \n",
              "Mozambique                1000.0  3.311  1.424187  1.0  2.0  4.0  5.0  5.0   \n",
              "Namibia                   1000.0  3.149  1.425774  1.0  2.0  3.0  4.0  5.0   \n",
              "Niger                     1000.0  3.273  1.455538  1.0  2.0  3.0  5.0  5.0   \n",
              "Nigeria                   1000.0  3.359  1.415671  1.0  2.0  4.0  5.0  5.0   \n",
              "Rwanda                    1000.0  3.066  1.458002  1.0  2.0  3.0  4.0  5.0   \n",
              "Senegal                   1000.0  3.257  1.431433  1.0  2.0  3.0  5.0  5.0   \n",
              "Sierra Leone              1000.0  3.213  1.440036  1.0  2.0  3.0  5.0  5.0   \n",
              "South Africa              1000.0  3.279  1.418863  1.0  2.0  3.0  5.0  5.0   \n",
              "South Sudan               1000.0  3.061  1.432945  1.0  2.0  3.0  4.0  5.0   \n",
              "Tanzania                  1000.0  3.220  1.428860  1.0  2.0  3.0  5.0  5.0   \n",
              "Togo                      1000.0  3.324  1.408903  1.0  2.0  4.0  5.0  5.0   \n",
              "Uganda                    1000.0  3.218  1.426363  1.0  2.0  3.0  5.0  5.0   \n",
              "Zambia                    1000.0  3.226  1.452251  1.0  2.0  3.0  5.0  5.0   \n",
              "Zimbabwe                  1000.0  3.184  1.442992  1.0  2.0  3.0  5.0  5.0   \n",
              "\n",
              "                            fin2         ...             fin24         \\\n",
              "                           count   mean  ...  75%  max   count   mean   \n",
              "economy                                  ...                            \n",
              "Benin                     1000.0  1.886  ...  2.0  3.0  1000.0  1.604   \n",
              "Botswana                  1000.0  1.695  ...  2.0  3.0  1000.0  1.783   \n",
              "Burkina Faso              1000.0  1.844  ...  2.0  4.0  1000.0  1.434   \n",
              "Cameroon                  1000.0  1.888  ...  2.0  4.0  1000.0  1.564   \n",
              "Central African Republic  1000.0  2.004  ...  2.0  3.0  1000.0  1.703   \n",
              "Chad                      1000.0  2.009  ...  2.0  4.0  1000.0  1.596   \n",
              "Congo, Dem. Rep.          1000.0  1.930  ...  2.0  4.0  1000.0  1.517   \n",
              "Congo, Rep.               1000.0  1.878  ...  2.0  4.0  1000.0  1.711   \n",
              "Cote d'Ivoire             1000.0  1.905  ...  2.0  4.0  1000.0  1.499   \n",
              "Ethiopia                  1000.0  2.003  ...  2.0  3.0  1000.0  1.378   \n",
              "Gabon                     1000.0  1.773  ...  2.0  4.0  1000.0  1.722   \n",
              "Ghana                     1000.0  1.837  ...  2.0  4.0  1000.0  1.535   \n",
              "Guinea                    1000.0  1.960  ...  2.0  4.0  1000.0  1.606   \n",
              "Kenya                     1000.0  1.622  ...  2.0  3.0  1000.0  1.483   \n",
              "Lesotho                   1000.0  1.775  ...  2.0  3.0  1000.0  1.721   \n",
              "Liberia                   1000.0  1.973  ...  2.0  3.0  1000.0  1.305   \n",
              "Madagascar                1000.0  1.959  ...  2.0  3.0  1000.0  1.670   \n",
              "Malawi                    1000.0  1.895  ...  2.0  4.0  1000.0  1.616   \n",
              "Mali                      1000.0  1.906  ...  2.0  3.0  1000.0  1.542   \n",
              "Mauritania                1000.0  1.856  ...  2.0  4.0  1000.0  1.536   \n",
              "Mauritius                 1000.0  1.236  ...  1.0  4.0  1000.0  1.580   \n",
              "Mozambique                1000.0  1.758  ...  2.0  4.0  1000.0  1.587   \n",
              "Namibia                   1000.0  1.326  ...  2.0  4.0  1000.0  1.645   \n",
              "Niger                     1000.0  1.968  ...  2.0  4.0  1000.0  1.546   \n",
              "Nigeria                   1000.0  1.550  ...  2.0  4.0  1000.0  1.489   \n",
              "Rwanda                    1000.0  1.949  ...  2.0  4.0  1000.0  1.653   \n",
              "Senegal                   1000.0  1.880  ...  2.0  4.0  1000.0  1.491   \n",
              "Sierra Leone              1000.0  2.052  ...  2.0  3.0  1000.0  1.577   \n",
              "South Africa              1000.0  1.688  ...  2.0  4.0  1000.0  1.711   \n",
              "South Sudan               1000.0  2.073  ...  2.0  4.0  1000.0  1.777   \n",
              "Tanzania                  1000.0  1.846  ...  2.0  4.0  1000.0  1.584   \n",
              "Togo                      1000.0  1.859  ...  2.0  3.0  1000.0  1.575   \n",
              "Uganda                    1000.0  1.821  ...  2.0  3.0  1000.0  1.562   \n",
              "Zambia                    1000.0  1.783  ...  2.0  4.0  1000.0  1.841   \n",
              "Zimbabwe                  1000.0  1.751  ...  2.0  2.0  1000.0  1.575   \n",
              "\n",
              "                                                             \n",
              "                               std  min  25%  50%  75%  max  \n",
              "economy                                                      \n",
              "Benin                     0.524842  1.0  1.0  2.0  2.0  3.0  \n",
              "Botswana                  0.454001  1.0  2.0  2.0  2.0  3.0  \n",
              "Burkina Faso              0.600003  1.0  1.0  1.0  2.0  4.0  \n",
              "Cameroon                  0.565884  1.0  1.0  2.0  2.0  4.0  \n",
              "Central African Republic  0.501041  1.0  1.0  2.0  2.0  3.0  \n",
              "Chad                      0.545051  1.0  1.0  2.0  2.0  4.0  \n",
              "Congo, Dem. Rep.          0.529142  1.0  1.0  2.0  2.0  3.0  \n",
              "Congo, Rep.               0.558382  1.0  1.0  2.0  2.0  4.0  \n",
              "Cote d'Ivoire             0.547996  1.0  1.0  1.0  2.0  4.0  \n",
              "Ethiopia                  0.487189  1.0  1.0  1.0  2.0  3.0  \n",
              "Gabon                     0.550472  1.0  1.0  2.0  2.0  4.0  \n",
              "Ghana                     0.638108  1.0  1.0  1.0  2.0  4.0  \n",
              "Guinea                    0.557741  1.0  1.0  2.0  2.0  4.0  \n",
              "Kenya                     0.503949  1.0  1.0  1.0  2.0  3.0  \n",
              "Lesotho                   0.474747  1.0  1.0  2.0  2.0  3.0  \n",
              "Liberia                   0.464964  1.0  1.0  1.0  2.0  3.0  \n",
              "Madagascar                0.491265  1.0  1.0  2.0  2.0  4.0  \n",
              "Malawi                    0.486601  1.0  1.0  2.0  2.0  2.0  \n",
              "Mali                      0.551852  1.0  1.0  2.0  2.0  4.0  \n",
              "Mauritania                0.716392  1.0  1.0  1.0  2.0  4.0  \n",
              "Mauritius                 0.542120  1.0  1.0  2.0  2.0  3.0  \n",
              "Mozambique                0.575119  1.0  1.0  2.0  2.0  4.0  \n",
              "Namibia                   0.505203  1.0  1.0  2.0  2.0  4.0  \n",
              "Niger                     0.555151  1.0  1.0  2.0  2.0  4.0  \n",
              "Nigeria                   0.534944  1.0  1.0  1.0  2.0  3.0  \n",
              "Rwanda                    0.498838  1.0  1.0  2.0  2.0  3.0  \n",
              "Senegal                   0.593524  1.0  1.0  1.0  2.0  4.0  \n",
              "Sierra Leone              0.502318  1.0  1.0  2.0  2.0  3.0  \n",
              "South Africa              0.534570  1.0  1.0  2.0  2.0  4.0  \n",
              "South Sudan               0.483223  1.0  1.0  2.0  2.0  4.0  \n",
              "Tanzania                  0.511082  1.0  1.0  2.0  2.0  3.0  \n",
              "Togo                      0.592221  1.0  1.0  2.0  2.0  4.0  \n",
              "Uganda                    0.535203  1.0  1.0  2.0  2.0  4.0  \n",
              "Zambia                    0.404825  1.0  2.0  2.0  2.0  4.0  \n",
              "Zimbabwe                  0.544676  1.0  1.0  2.0  2.0  3.0  \n",
              "\n",
              "[35 rows x 24 columns]"
            ],
            "text/html": [
              "\n",
              "  <div id=\"df-38d2b27d-77e0-45c6-8436-f651f8bcc00f\">\n",
              "    <div class=\"colab-df-container\">\n",
              "      <div>\n",
              "<style scoped>\n",
              "    .dataframe tbody tr th:only-of-type {\n",
              "        vertical-align: middle;\n",
              "    }\n",
              "\n",
              "    .dataframe tbody tr th {\n",
              "        vertical-align: top;\n",
              "    }\n",
              "\n",
              "    .dataframe thead tr th {\n",
              "        text-align: left;\n",
              "    }\n",
              "\n",
              "    .dataframe thead tr:last-of-type th {\n",
              "        text-align: right;\n",
              "    }\n",
              "</style>\n",
              "<table border=\"1\" class=\"dataframe\">\n",
              "  <thead>\n",
              "    <tr>\n",
              "      <th></th>\n",
              "      <th colspan=\"8\" halign=\"left\">inc_q</th>\n",
              "      <th colspan=\"5\" halign=\"left\">fin2</th>\n",
              "      <th colspan=\"8\" halign=\"left\">fin24</th>\n",
              "    </tr>\n",
              "    <tr>\n",
              "      <th></th>\n",
              "      <th>count</th>\n",
              "      <th>mean</th>\n",
              "      <th>std</th>\n",
              "      <th>min</th>\n",
              "      <th>25%</th>\n",
              "      <th>50%</th>\n",
              "      <th>75%</th>\n",
              "      <th>max</th>\n",
              "      <th>count</th>\n",
              "      <th>mean</th>\n",
              "      <th>...</th>\n",
              "      <th>75%</th>\n",
              "      <th>max</th>\n",
              "      <th>count</th>\n",
              "      <th>mean</th>\n",
              "      <th>std</th>\n",
              "      <th>min</th>\n",
              "      <th>25%</th>\n",
              "      <th>50%</th>\n",
              "      <th>75%</th>\n",
              "      <th>max</th>\n",
              "    </tr>\n",
              "    <tr>\n",
              "      <th>economy</th>\n",
              "      <th></th>\n",
              "      <th></th>\n",
              "      <th></th>\n",
              "      <th></th>\n",
              "      <th></th>\n",
              "      <th></th>\n",
              "      <th></th>\n",
              "      <th></th>\n",
              "      <th></th>\n",
              "      <th></th>\n",
              "      <th></th>\n",
              "      <th></th>\n",
              "      <th></th>\n",
              "      <th></th>\n",
              "      <th></th>\n",
              "      <th></th>\n",
              "      <th></th>\n",
              "      <th></th>\n",
              "      <th></th>\n",
              "      <th></th>\n",
              "      <th></th>\n",
              "    </tr>\n",
              "  </thead>\n",
              "  <tbody>\n",
              "    <tr>\n",
              "      <th>Benin</th>\n",
              "      <td>1000.0</td>\n",
              "      <td>3.271</td>\n",
              "      <td>1.421119</td>\n",
              "      <td>1.0</td>\n",
              "      <td>2.0</td>\n",
              "      <td>3.0</td>\n",
              "      <td>5.0</td>\n",
              "      <td>5.0</td>\n",
              "      <td>1000.0</td>\n",
              "      <td>1.886</td>\n",
              "      <td>...</td>\n",
              "      <td>2.0</td>\n",
              "      <td>3.0</td>\n",
              "      <td>1000.0</td>\n",
              "      <td>1.604</td>\n",
              "      <td>0.524842</td>\n",
              "      <td>1.0</td>\n",
              "      <td>1.0</td>\n",
              "      <td>2.0</td>\n",
              "      <td>2.0</td>\n",
              "      <td>3.0</td>\n",
              "    </tr>\n",
              "    <tr>\n",
              "      <th>Botswana</th>\n",
              "      <td>1000.0</td>\n",
              "      <td>3.192</td>\n",
              "      <td>1.423082</td>\n",
              "      <td>1.0</td>\n",
              "      <td>2.0</td>\n",
              "      <td>3.0</td>\n",
              "      <td>5.0</td>\n",
              "      <td>5.0</td>\n",
              "      <td>1000.0</td>\n",
              "      <td>1.695</td>\n",
              "      <td>...</td>\n",
              "      <td>2.0</td>\n",
              "      <td>3.0</td>\n",
              "      <td>1000.0</td>\n",
              "      <td>1.783</td>\n",
              "      <td>0.454001</td>\n",
              "      <td>1.0</td>\n",
              "      <td>2.0</td>\n",
              "      <td>2.0</td>\n",
              "      <td>2.0</td>\n",
              "      <td>3.0</td>\n",
              "    </tr>\n",
              "    <tr>\n",
              "      <th>Burkina Faso</th>\n",
              "      <td>1000.0</td>\n",
              "      <td>3.373</td>\n",
              "      <td>1.436640</td>\n",
              "      <td>1.0</td>\n",
              "      <td>2.0</td>\n",
              "      <td>4.0</td>\n",
              "      <td>5.0</td>\n",
              "      <td>5.0</td>\n",
              "      <td>1000.0</td>\n",
              "      <td>1.844</td>\n",
              "      <td>...</td>\n",
              "      <td>2.0</td>\n",
              "      <td>4.0</td>\n",
              "      <td>1000.0</td>\n",
              "      <td>1.434</td>\n",
              "      <td>0.600003</td>\n",
              "      <td>1.0</td>\n",
              "      <td>1.0</td>\n",
              "      <td>1.0</td>\n",
              "      <td>2.0</td>\n",
              "      <td>4.0</td>\n",
              "    </tr>\n",
              "    <tr>\n",
              "      <th>Cameroon</th>\n",
              "      <td>1000.0</td>\n",
              "      <td>3.249</td>\n",
              "      <td>1.403199</td>\n",
              "      <td>1.0</td>\n",
              "      <td>2.0</td>\n",
              "      <td>3.0</td>\n",
              "      <td>5.0</td>\n",
              "      <td>5.0</td>\n",
              "      <td>1000.0</td>\n",
              "      <td>1.888</td>\n",
              "      <td>...</td>\n",
              "      <td>2.0</td>\n",
              "      <td>4.0</td>\n",
              "      <td>1000.0</td>\n",
              "      <td>1.564</td>\n",
              "      <td>0.565884</td>\n",
              "      <td>1.0</td>\n",
              "      <td>1.0</td>\n",
              "      <td>2.0</td>\n",
              "      <td>2.0</td>\n",
              "      <td>4.0</td>\n",
              "    </tr>\n",
              "    <tr>\n",
              "      <th>Central African Republic</th>\n",
              "      <td>1000.0</td>\n",
              "      <td>3.221</td>\n",
              "      <td>1.420626</td>\n",
              "      <td>1.0</td>\n",
              "      <td>2.0</td>\n",
              "      <td>3.0</td>\n",
              "      <td>5.0</td>\n",
              "      <td>5.0</td>\n",
              "      <td>1000.0</td>\n",
              "      <td>2.004</td>\n",
              "      <td>...</td>\n",
              "      <td>2.0</td>\n",
              "      <td>3.0</td>\n",
              "      <td>1000.0</td>\n",
              "      <td>1.703</td>\n",
              "      <td>0.501041</td>\n",
              "      <td>1.0</td>\n",
              "      <td>1.0</td>\n",
              "      <td>2.0</td>\n",
              "      <td>2.0</td>\n",
              "      <td>3.0</td>\n",
              "    </tr>\n",
              "    <tr>\n",
              "      <th>Chad</th>\n",
              "      <td>1000.0</td>\n",
              "      <td>3.266</td>\n",
              "      <td>1.454428</td>\n",
              "      <td>1.0</td>\n",
              "      <td>2.0</td>\n",
              "      <td>3.0</td>\n",
              "      <td>5.0</td>\n",
              "      <td>5.0</td>\n",
              "      <td>1000.0</td>\n",
              "      <td>2.009</td>\n",
              "      <td>...</td>\n",
              "      <td>2.0</td>\n",
              "      <td>4.0</td>\n",
              "      <td>1000.0</td>\n",
              "      <td>1.596</td>\n",
              "      <td>0.545051</td>\n",
              "      <td>1.0</td>\n",
              "      <td>1.0</td>\n",
              "      <td>2.0</td>\n",
              "      <td>2.0</td>\n",
              "      <td>4.0</td>\n",
              "    </tr>\n",
              "    <tr>\n",
              "      <th>Congo, Dem. Rep.</th>\n",
              "      <td>1000.0</td>\n",
              "      <td>3.295</td>\n",
              "      <td>1.400692</td>\n",
              "      <td>1.0</td>\n",
              "      <td>2.0</td>\n",
              "      <td>3.0</td>\n",
              "      <td>5.0</td>\n",
              "      <td>5.0</td>\n",
              "      <td>1000.0</td>\n",
              "      <td>1.930</td>\n",
              "      <td>...</td>\n",
              "      <td>2.0</td>\n",
              "      <td>4.0</td>\n",
              "      <td>1000.0</td>\n",
              "      <td>1.517</td>\n",
              "      <td>0.529142</td>\n",
              "      <td>1.0</td>\n",
              "      <td>1.0</td>\n",
              "      <td>2.0</td>\n",
              "      <td>2.0</td>\n",
              "      <td>3.0</td>\n",
              "    </tr>\n",
              "    <tr>\n",
              "      <th>Congo, Rep.</th>\n",
              "      <td>1000.0</td>\n",
              "      <td>3.213</td>\n",
              "      <td>1.445587</td>\n",
              "      <td>1.0</td>\n",
              "      <td>2.0</td>\n",
              "      <td>3.0</td>\n",
              "      <td>5.0</td>\n",
              "      <td>5.0</td>\n",
              "      <td>1000.0</td>\n",
              "      <td>1.878</td>\n",
              "      <td>...</td>\n",
              "      <td>2.0</td>\n",
              "      <td>4.0</td>\n",
              "      <td>1000.0</td>\n",
              "      <td>1.711</td>\n",
              "      <td>0.558382</td>\n",
              "      <td>1.0</td>\n",
              "      <td>1.0</td>\n",
              "      <td>2.0</td>\n",
              "      <td>2.0</td>\n",
              "      <td>4.0</td>\n",
              "    </tr>\n",
              "    <tr>\n",
              "      <th>Cote d'Ivoire</th>\n",
              "      <td>1000.0</td>\n",
              "      <td>3.248</td>\n",
              "      <td>1.431274</td>\n",
              "      <td>1.0</td>\n",
              "      <td>2.0</td>\n",
              "      <td>3.0</td>\n",
              "      <td>5.0</td>\n",
              "      <td>5.0</td>\n",
              "      <td>1000.0</td>\n",
              "      <td>1.905</td>\n",
              "      <td>...</td>\n",
              "      <td>2.0</td>\n",
              "      <td>4.0</td>\n",
              "      <td>1000.0</td>\n",
              "      <td>1.499</td>\n",
              "      <td>0.547996</td>\n",
              "      <td>1.0</td>\n",
              "      <td>1.0</td>\n",
              "      <td>1.0</td>\n",
              "      <td>2.0</td>\n",
              "      <td>4.0</td>\n",
              "    </tr>\n",
              "    <tr>\n",
              "      <th>Ethiopia</th>\n",
              "      <td>1000.0</td>\n",
              "      <td>3.355</td>\n",
              "      <td>1.438417</td>\n",
              "      <td>1.0</td>\n",
              "      <td>2.0</td>\n",
              "      <td>4.0</td>\n",
              "      <td>5.0</td>\n",
              "      <td>5.0</td>\n",
              "      <td>1000.0</td>\n",
              "      <td>2.003</td>\n",
              "      <td>...</td>\n",
              "      <td>2.0</td>\n",
              "      <td>3.0</td>\n",
              "      <td>1000.0</td>\n",
              "      <td>1.378</td>\n",
              "      <td>0.487189</td>\n",
              "      <td>1.0</td>\n",
              "      <td>1.0</td>\n",
              "      <td>1.0</td>\n",
              "      <td>2.0</td>\n",
              "      <td>3.0</td>\n",
              "    </tr>\n",
              "    <tr>\n",
              "      <th>Gabon</th>\n",
              "      <td>1000.0</td>\n",
              "      <td>3.362</td>\n",
              "      <td>1.411718</td>\n",
              "      <td>1.0</td>\n",
              "      <td>2.0</td>\n",
              "      <td>4.0</td>\n",
              "      <td>5.0</td>\n",
              "      <td>5.0</td>\n",
              "      <td>1000.0</td>\n",
              "      <td>1.773</td>\n",
              "      <td>...</td>\n",
              "      <td>2.0</td>\n",
              "      <td>4.0</td>\n",
              "      <td>1000.0</td>\n",
              "      <td>1.722</td>\n",
              "      <td>0.550472</td>\n",
              "      <td>1.0</td>\n",
              "      <td>1.0</td>\n",
              "      <td>2.0</td>\n",
              "      <td>2.0</td>\n",
              "      <td>4.0</td>\n",
              "    </tr>\n",
              "    <tr>\n",
              "      <th>Ghana</th>\n",
              "      <td>1000.0</td>\n",
              "      <td>3.256</td>\n",
              "      <td>1.451403</td>\n",
              "      <td>1.0</td>\n",
              "      <td>2.0</td>\n",
              "      <td>3.0</td>\n",
              "      <td>5.0</td>\n",
              "      <td>5.0</td>\n",
              "      <td>1000.0</td>\n",
              "      <td>1.837</td>\n",
              "      <td>...</td>\n",
              "      <td>2.0</td>\n",
              "      <td>4.0</td>\n",
              "      <td>1000.0</td>\n",
              "      <td>1.535</td>\n",
              "      <td>0.638108</td>\n",
              "      <td>1.0</td>\n",
              "      <td>1.0</td>\n",
              "      <td>1.0</td>\n",
              "      <td>2.0</td>\n",
              "      <td>4.0</td>\n",
              "    </tr>\n",
              "    <tr>\n",
              "      <th>Guinea</th>\n",
              "      <td>1000.0</td>\n",
              "      <td>3.267</td>\n",
              "      <td>1.435190</td>\n",
              "      <td>1.0</td>\n",
              "      <td>2.0</td>\n",
              "      <td>3.0</td>\n",
              "      <td>5.0</td>\n",
              "      <td>5.0</td>\n",
              "      <td>1000.0</td>\n",
              "      <td>1.960</td>\n",
              "      <td>...</td>\n",
              "      <td>2.0</td>\n",
              "      <td>4.0</td>\n",
              "      <td>1000.0</td>\n",
              "      <td>1.606</td>\n",
              "      <td>0.557741</td>\n",
              "      <td>1.0</td>\n",
              "      <td>1.0</td>\n",
              "      <td>2.0</td>\n",
              "      <td>2.0</td>\n",
              "      <td>4.0</td>\n",
              "    </tr>\n",
              "    <tr>\n",
              "      <th>Kenya</th>\n",
              "      <td>1000.0</td>\n",
              "      <td>3.205</td>\n",
              "      <td>1.390291</td>\n",
              "      <td>1.0</td>\n",
              "      <td>2.0</td>\n",
              "      <td>3.0</td>\n",
              "      <td>4.0</td>\n",
              "      <td>5.0</td>\n",
              "      <td>1000.0</td>\n",
              "      <td>1.622</td>\n",
              "      <td>...</td>\n",
              "      <td>2.0</td>\n",
              "      <td>3.0</td>\n",
              "      <td>1000.0</td>\n",
              "      <td>1.483</td>\n",
              "      <td>0.503949</td>\n",
              "      <td>1.0</td>\n",
              "      <td>1.0</td>\n",
              "      <td>1.0</td>\n",
              "      <td>2.0</td>\n",
              "      <td>3.0</td>\n",
              "    </tr>\n",
              "    <tr>\n",
              "      <th>Lesotho</th>\n",
              "      <td>1000.0</td>\n",
              "      <td>3.171</td>\n",
              "      <td>1.435904</td>\n",
              "      <td>1.0</td>\n",
              "      <td>2.0</td>\n",
              "      <td>3.0</td>\n",
              "      <td>4.0</td>\n",
              "      <td>5.0</td>\n",
              "      <td>1000.0</td>\n",
              "      <td>1.775</td>\n",
              "      <td>...</td>\n",
              "      <td>2.0</td>\n",
              "      <td>3.0</td>\n",
              "      <td>1000.0</td>\n",
              "      <td>1.721</td>\n",
              "      <td>0.474747</td>\n",
              "      <td>1.0</td>\n",
              "      <td>1.0</td>\n",
              "      <td>2.0</td>\n",
              "      <td>2.0</td>\n",
              "      <td>3.0</td>\n",
              "    </tr>\n",
              "    <tr>\n",
              "      <th>Liberia</th>\n",
              "      <td>1000.0</td>\n",
              "      <td>3.071</td>\n",
              "      <td>1.419145</td>\n",
              "      <td>1.0</td>\n",
              "      <td>2.0</td>\n",
              "      <td>3.0</td>\n",
              "      <td>4.0</td>\n",
              "      <td>5.0</td>\n",
              "      <td>1000.0</td>\n",
              "      <td>1.973</td>\n",
              "      <td>...</td>\n",
              "      <td>2.0</td>\n",
              "      <td>3.0</td>\n",
              "      <td>1000.0</td>\n",
              "      <td>1.305</td>\n",
              "      <td>0.464964</td>\n",
              "      <td>1.0</td>\n",
              "      <td>1.0</td>\n",
              "      <td>1.0</td>\n",
              "      <td>2.0</td>\n",
              "      <td>3.0</td>\n",
              "    </tr>\n",
              "    <tr>\n",
              "      <th>Madagascar</th>\n",
              "      <td>1000.0</td>\n",
              "      <td>3.268</td>\n",
              "      <td>1.432560</td>\n",
              "      <td>1.0</td>\n",
              "      <td>2.0</td>\n",
              "      <td>3.0</td>\n",
              "      <td>5.0</td>\n",
              "      <td>5.0</td>\n",
              "      <td>1000.0</td>\n",
              "      <td>1.959</td>\n",
              "      <td>...</td>\n",
              "      <td>2.0</td>\n",
              "      <td>3.0</td>\n",
              "      <td>1000.0</td>\n",
              "      <td>1.670</td>\n",
              "      <td>0.491265</td>\n",
              "      <td>1.0</td>\n",
              "      <td>1.0</td>\n",
              "      <td>2.0</td>\n",
              "      <td>2.0</td>\n",
              "      <td>4.0</td>\n",
              "    </tr>\n",
              "    <tr>\n",
              "      <th>Malawi</th>\n",
              "      <td>1000.0</td>\n",
              "      <td>3.152</td>\n",
              "      <td>1.412406</td>\n",
              "      <td>1.0</td>\n",
              "      <td>2.0</td>\n",
              "      <td>3.0</td>\n",
              "      <td>4.0</td>\n",
              "      <td>5.0</td>\n",
              "      <td>1000.0</td>\n",
              "      <td>1.895</td>\n",
              "      <td>...</td>\n",
              "      <td>2.0</td>\n",
              "      <td>4.0</td>\n",
              "      <td>1000.0</td>\n",
              "      <td>1.616</td>\n",
              "      <td>0.486601</td>\n",
              "      <td>1.0</td>\n",
              "      <td>1.0</td>\n",
              "      <td>2.0</td>\n",
              "      <td>2.0</td>\n",
              "      <td>2.0</td>\n",
              "    </tr>\n",
              "    <tr>\n",
              "      <th>Mali</th>\n",
              "      <td>1000.0</td>\n",
              "      <td>3.263</td>\n",
              "      <td>1.422623</td>\n",
              "      <td>1.0</td>\n",
              "      <td>2.0</td>\n",
              "      <td>3.0</td>\n",
              "      <td>5.0</td>\n",
              "      <td>5.0</td>\n",
              "      <td>1000.0</td>\n",
              "      <td>1.906</td>\n",
              "      <td>...</td>\n",
              "      <td>2.0</td>\n",
              "      <td>3.0</td>\n",
              "      <td>1000.0</td>\n",
              "      <td>1.542</td>\n",
              "      <td>0.551852</td>\n",
              "      <td>1.0</td>\n",
              "      <td>1.0</td>\n",
              "      <td>2.0</td>\n",
              "      <td>2.0</td>\n",
              "      <td>4.0</td>\n",
              "    </tr>\n",
              "    <tr>\n",
              "      <th>Mauritania</th>\n",
              "      <td>1000.0</td>\n",
              "      <td>3.309</td>\n",
              "      <td>1.421105</td>\n",
              "      <td>1.0</td>\n",
              "      <td>2.0</td>\n",
              "      <td>3.0</td>\n",
              "      <td>5.0</td>\n",
              "      <td>5.0</td>\n",
              "      <td>1000.0</td>\n",
              "      <td>1.856</td>\n",
              "      <td>...</td>\n",
              "      <td>2.0</td>\n",
              "      <td>4.0</td>\n",
              "      <td>1000.0</td>\n",
              "      <td>1.536</td>\n",
              "      <td>0.716392</td>\n",
              "      <td>1.0</td>\n",
              "      <td>1.0</td>\n",
              "      <td>1.0</td>\n",
              "      <td>2.0</td>\n",
              "      <td>4.0</td>\n",
              "    </tr>\n",
              "    <tr>\n",
              "      <th>Mauritius</th>\n",
              "      <td>1000.0</td>\n",
              "      <td>3.291</td>\n",
              "      <td>1.439580</td>\n",
              "      <td>1.0</td>\n",
              "      <td>2.0</td>\n",
              "      <td>4.0</td>\n",
              "      <td>5.0</td>\n",
              "      <td>5.0</td>\n",
              "      <td>1000.0</td>\n",
              "      <td>1.236</td>\n",
              "      <td>...</td>\n",
              "      <td>1.0</td>\n",
              "      <td>4.0</td>\n",
              "      <td>1000.0</td>\n",
              "      <td>1.580</td>\n",
              "      <td>0.542120</td>\n",
              "      <td>1.0</td>\n",
              "      <td>1.0</td>\n",
              "      <td>2.0</td>\n",
              "      <td>2.0</td>\n",
              "      <td>3.0</td>\n",
              "    </tr>\n",
              "    <tr>\n",
              "      <th>Mozambique</th>\n",
              "      <td>1000.0</td>\n",
              "      <td>3.311</td>\n",
              "      <td>1.424187</td>\n",
              "      <td>1.0</td>\n",
              "      <td>2.0</td>\n",
              "      <td>4.0</td>\n",
              "      <td>5.0</td>\n",
              "      <td>5.0</td>\n",
              "      <td>1000.0</td>\n",
              "      <td>1.758</td>\n",
              "      <td>...</td>\n",
              "      <td>2.0</td>\n",
              "      <td>4.0</td>\n",
              "      <td>1000.0</td>\n",
              "      <td>1.587</td>\n",
              "      <td>0.575119</td>\n",
              "      <td>1.0</td>\n",
              "      <td>1.0</td>\n",
              "      <td>2.0</td>\n",
              "      <td>2.0</td>\n",
              "      <td>4.0</td>\n",
              "    </tr>\n",
              "    <tr>\n",
              "      <th>Namibia</th>\n",
              "      <td>1000.0</td>\n",
              "      <td>3.149</td>\n",
              "      <td>1.425774</td>\n",
              "      <td>1.0</td>\n",
              "      <td>2.0</td>\n",
              "      <td>3.0</td>\n",
              "      <td>4.0</td>\n",
              "      <td>5.0</td>\n",
              "      <td>1000.0</td>\n",
              "      <td>1.326</td>\n",
              "      <td>...</td>\n",
              "      <td>2.0</td>\n",
              "      <td>4.0</td>\n",
              "      <td>1000.0</td>\n",
              "      <td>1.645</td>\n",
              "      <td>0.505203</td>\n",
              "      <td>1.0</td>\n",
              "      <td>1.0</td>\n",
              "      <td>2.0</td>\n",
              "      <td>2.0</td>\n",
              "      <td>4.0</td>\n",
              "    </tr>\n",
              "    <tr>\n",
              "      <th>Niger</th>\n",
              "      <td>1000.0</td>\n",
              "      <td>3.273</td>\n",
              "      <td>1.455538</td>\n",
              "      <td>1.0</td>\n",
              "      <td>2.0</td>\n",
              "      <td>3.0</td>\n",
              "      <td>5.0</td>\n",
              "      <td>5.0</td>\n",
              "      <td>1000.0</td>\n",
              "      <td>1.968</td>\n",
              "      <td>...</td>\n",
              "      <td>2.0</td>\n",
              "      <td>4.0</td>\n",
              "      <td>1000.0</td>\n",
              "      <td>1.546</td>\n",
              "      <td>0.555151</td>\n",
              "      <td>1.0</td>\n",
              "      <td>1.0</td>\n",
              "      <td>2.0</td>\n",
              "      <td>2.0</td>\n",
              "      <td>4.0</td>\n",
              "    </tr>\n",
              "    <tr>\n",
              "      <th>Nigeria</th>\n",
              "      <td>1000.0</td>\n",
              "      <td>3.359</td>\n",
              "      <td>1.415671</td>\n",
              "      <td>1.0</td>\n",
              "      <td>2.0</td>\n",
              "      <td>4.0</td>\n",
              "      <td>5.0</td>\n",
              "      <td>5.0</td>\n",
              "      <td>1000.0</td>\n",
              "      <td>1.550</td>\n",
              "      <td>...</td>\n",
              "      <td>2.0</td>\n",
              "      <td>4.0</td>\n",
              "      <td>1000.0</td>\n",
              "      <td>1.489</td>\n",
              "      <td>0.534944</td>\n",
              "      <td>1.0</td>\n",
              "      <td>1.0</td>\n",
              "      <td>1.0</td>\n",
              "      <td>2.0</td>\n",
              "      <td>3.0</td>\n",
              "    </tr>\n",
              "    <tr>\n",
              "      <th>Rwanda</th>\n",
              "      <td>1000.0</td>\n",
              "      <td>3.066</td>\n",
              "      <td>1.458002</td>\n",
              "      <td>1.0</td>\n",
              "      <td>2.0</td>\n",
              "      <td>3.0</td>\n",
              "      <td>4.0</td>\n",
              "      <td>5.0</td>\n",
              "      <td>1000.0</td>\n",
              "      <td>1.949</td>\n",
              "      <td>...</td>\n",
              "      <td>2.0</td>\n",
              "      <td>4.0</td>\n",
              "      <td>1000.0</td>\n",
              "      <td>1.653</td>\n",
              "      <td>0.498838</td>\n",
              "      <td>1.0</td>\n",
              "      <td>1.0</td>\n",
              "      <td>2.0</td>\n",
              "      <td>2.0</td>\n",
              "      <td>3.0</td>\n",
              "    </tr>\n",
              "    <tr>\n",
              "      <th>Senegal</th>\n",
              "      <td>1000.0</td>\n",
              "      <td>3.257</td>\n",
              "      <td>1.431433</td>\n",
              "      <td>1.0</td>\n",
              "      <td>2.0</td>\n",
              "      <td>3.0</td>\n",
              "      <td>5.0</td>\n",
              "      <td>5.0</td>\n",
              "      <td>1000.0</td>\n",
              "      <td>1.880</td>\n",
              "      <td>...</td>\n",
              "      <td>2.0</td>\n",
              "      <td>4.0</td>\n",
              "      <td>1000.0</td>\n",
              "      <td>1.491</td>\n",
              "      <td>0.593524</td>\n",
              "      <td>1.0</td>\n",
              "      <td>1.0</td>\n",
              "      <td>1.0</td>\n",
              "      <td>2.0</td>\n",
              "      <td>4.0</td>\n",
              "    </tr>\n",
              "    <tr>\n",
              "      <th>Sierra Leone</th>\n",
              "      <td>1000.0</td>\n",
              "      <td>3.213</td>\n",
              "      <td>1.440036</td>\n",
              "      <td>1.0</td>\n",
              "      <td>2.0</td>\n",
              "      <td>3.0</td>\n",
              "      <td>5.0</td>\n",
              "      <td>5.0</td>\n",
              "      <td>1000.0</td>\n",
              "      <td>2.052</td>\n",
              "      <td>...</td>\n",
              "      <td>2.0</td>\n",
              "      <td>3.0</td>\n",
              "      <td>1000.0</td>\n",
              "      <td>1.577</td>\n",
              "      <td>0.502318</td>\n",
              "      <td>1.0</td>\n",
              "      <td>1.0</td>\n",
              "      <td>2.0</td>\n",
              "      <td>2.0</td>\n",
              "      <td>3.0</td>\n",
              "    </tr>\n",
              "    <tr>\n",
              "      <th>South Africa</th>\n",
              "      <td>1000.0</td>\n",
              "      <td>3.279</td>\n",
              "      <td>1.418863</td>\n",
              "      <td>1.0</td>\n",
              "      <td>2.0</td>\n",
              "      <td>3.0</td>\n",
              "      <td>5.0</td>\n",
              "      <td>5.0</td>\n",
              "      <td>1000.0</td>\n",
              "      <td>1.688</td>\n",
              "      <td>...</td>\n",
              "      <td>2.0</td>\n",
              "      <td>4.0</td>\n",
              "      <td>1000.0</td>\n",
              "      <td>1.711</td>\n",
              "      <td>0.534570</td>\n",
              "      <td>1.0</td>\n",
              "      <td>1.0</td>\n",
              "      <td>2.0</td>\n",
              "      <td>2.0</td>\n",
              "      <td>4.0</td>\n",
              "    </tr>\n",
              "    <tr>\n",
              "      <th>South Sudan</th>\n",
              "      <td>1000.0</td>\n",
              "      <td>3.061</td>\n",
              "      <td>1.432945</td>\n",
              "      <td>1.0</td>\n",
              "      <td>2.0</td>\n",
              "      <td>3.0</td>\n",
              "      <td>4.0</td>\n",
              "      <td>5.0</td>\n",
              "      <td>1000.0</td>\n",
              "      <td>2.073</td>\n",
              "      <td>...</td>\n",
              "      <td>2.0</td>\n",
              "      <td>4.0</td>\n",
              "      <td>1000.0</td>\n",
              "      <td>1.777</td>\n",
              "      <td>0.483223</td>\n",
              "      <td>1.0</td>\n",
              "      <td>1.0</td>\n",
              "      <td>2.0</td>\n",
              "      <td>2.0</td>\n",
              "      <td>4.0</td>\n",
              "    </tr>\n",
              "    <tr>\n",
              "      <th>Tanzania</th>\n",
              "      <td>1000.0</td>\n",
              "      <td>3.220</td>\n",
              "      <td>1.428860</td>\n",
              "      <td>1.0</td>\n",
              "      <td>2.0</td>\n",
              "      <td>3.0</td>\n",
              "      <td>5.0</td>\n",
              "      <td>5.0</td>\n",
              "      <td>1000.0</td>\n",
              "      <td>1.846</td>\n",
              "      <td>...</td>\n",
              "      <td>2.0</td>\n",
              "      <td>4.0</td>\n",
              "      <td>1000.0</td>\n",
              "      <td>1.584</td>\n",
              "      <td>0.511082</td>\n",
              "      <td>1.0</td>\n",
              "      <td>1.0</td>\n",
              "      <td>2.0</td>\n",
              "      <td>2.0</td>\n",
              "      <td>3.0</td>\n",
              "    </tr>\n",
              "    <tr>\n",
              "      <th>Togo</th>\n",
              "      <td>1000.0</td>\n",
              "      <td>3.324</td>\n",
              "      <td>1.408903</td>\n",
              "      <td>1.0</td>\n",
              "      <td>2.0</td>\n",
              "      <td>4.0</td>\n",
              "      <td>5.0</td>\n",
              "      <td>5.0</td>\n",
              "      <td>1000.0</td>\n",
              "      <td>1.859</td>\n",
              "      <td>...</td>\n",
              "      <td>2.0</td>\n",
              "      <td>3.0</td>\n",
              "      <td>1000.0</td>\n",
              "      <td>1.575</td>\n",
              "      <td>0.592221</td>\n",
              "      <td>1.0</td>\n",
              "      <td>1.0</td>\n",
              "      <td>2.0</td>\n",
              "      <td>2.0</td>\n",
              "      <td>4.0</td>\n",
              "    </tr>\n",
              "    <tr>\n",
              "      <th>Uganda</th>\n",
              "      <td>1000.0</td>\n",
              "      <td>3.218</td>\n",
              "      <td>1.426363</td>\n",
              "      <td>1.0</td>\n",
              "      <td>2.0</td>\n",
              "      <td>3.0</td>\n",
              "      <td>5.0</td>\n",
              "      <td>5.0</td>\n",
              "      <td>1000.0</td>\n",
              "      <td>1.821</td>\n",
              "      <td>...</td>\n",
              "      <td>2.0</td>\n",
              "      <td>3.0</td>\n",
              "      <td>1000.0</td>\n",
              "      <td>1.562</td>\n",
              "      <td>0.535203</td>\n",
              "      <td>1.0</td>\n",
              "      <td>1.0</td>\n",
              "      <td>2.0</td>\n",
              "      <td>2.0</td>\n",
              "      <td>4.0</td>\n",
              "    </tr>\n",
              "    <tr>\n",
              "      <th>Zambia</th>\n",
              "      <td>1000.0</td>\n",
              "      <td>3.226</td>\n",
              "      <td>1.452251</td>\n",
              "      <td>1.0</td>\n",
              "      <td>2.0</td>\n",
              "      <td>3.0</td>\n",
              "      <td>5.0</td>\n",
              "      <td>5.0</td>\n",
              "      <td>1000.0</td>\n",
              "      <td>1.783</td>\n",
              "      <td>...</td>\n",
              "      <td>2.0</td>\n",
              "      <td>4.0</td>\n",
              "      <td>1000.0</td>\n",
              "      <td>1.841</td>\n",
              "      <td>0.404825</td>\n",
              "      <td>1.0</td>\n",
              "      <td>2.0</td>\n",
              "      <td>2.0</td>\n",
              "      <td>2.0</td>\n",
              "      <td>4.0</td>\n",
              "    </tr>\n",
              "    <tr>\n",
              "      <th>Zimbabwe</th>\n",
              "      <td>1000.0</td>\n",
              "      <td>3.184</td>\n",
              "      <td>1.442992</td>\n",
              "      <td>1.0</td>\n",
              "      <td>2.0</td>\n",
              "      <td>3.0</td>\n",
              "      <td>5.0</td>\n",
              "      <td>5.0</td>\n",
              "      <td>1000.0</td>\n",
              "      <td>1.751</td>\n",
              "      <td>...</td>\n",
              "      <td>2.0</td>\n",
              "      <td>2.0</td>\n",
              "      <td>1000.0</td>\n",
              "      <td>1.575</td>\n",
              "      <td>0.544676</td>\n",
              "      <td>1.0</td>\n",
              "      <td>1.0</td>\n",
              "      <td>2.0</td>\n",
              "      <td>2.0</td>\n",
              "      <td>3.0</td>\n",
              "    </tr>\n",
              "  </tbody>\n",
              "</table>\n",
              "<p>35 rows × 24 columns</p>\n",
              "</div>\n",
              "      <button class=\"colab-df-convert\" onclick=\"convertToInteractive('df-38d2b27d-77e0-45c6-8436-f651f8bcc00f')\"\n",
              "              title=\"Convert this dataframe to an interactive table.\"\n",
              "              style=\"display:none;\">\n",
              "        \n",
              "  <svg xmlns=\"http://www.w3.org/2000/svg\" height=\"24px\"viewBox=\"0 0 24 24\"\n",
              "       width=\"24px\">\n",
              "    <path d=\"M0 0h24v24H0V0z\" fill=\"none\"/>\n",
              "    <path d=\"M18.56 5.44l.94 2.06.94-2.06 2.06-.94-2.06-.94-.94-2.06-.94 2.06-2.06.94zm-11 1L8.5 8.5l.94-2.06 2.06-.94-2.06-.94L8.5 2.5l-.94 2.06-2.06.94zm10 10l.94 2.06.94-2.06 2.06-.94-2.06-.94-.94-2.06-.94 2.06-2.06.94z\"/><path d=\"M17.41 7.96l-1.37-1.37c-.4-.4-.92-.59-1.43-.59-.52 0-1.04.2-1.43.59L10.3 9.45l-7.72 7.72c-.78.78-.78 2.05 0 2.83L4 21.41c.39.39.9.59 1.41.59.51 0 1.02-.2 1.41-.59l7.78-7.78 2.81-2.81c.8-.78.8-2.07 0-2.86zM5.41 20L4 18.59l7.72-7.72 1.47 1.35L5.41 20z\"/>\n",
              "  </svg>\n",
              "      </button>\n",
              "      \n",
              "  <style>\n",
              "    .colab-df-container {\n",
              "      display:flex;\n",
              "      flex-wrap:wrap;\n",
              "      gap: 12px;\n",
              "    }\n",
              "\n",
              "    .colab-df-convert {\n",
              "      background-color: #E8F0FE;\n",
              "      border: none;\n",
              "      border-radius: 50%;\n",
              "      cursor: pointer;\n",
              "      display: none;\n",
              "      fill: #1967D2;\n",
              "      height: 32px;\n",
              "      padding: 0 0 0 0;\n",
              "      width: 32px;\n",
              "    }\n",
              "\n",
              "    .colab-df-convert:hover {\n",
              "      background-color: #E2EBFA;\n",
              "      box-shadow: 0px 1px 2px rgba(60, 64, 67, 0.3), 0px 1px 3px 1px rgba(60, 64, 67, 0.15);\n",
              "      fill: #174EA6;\n",
              "    }\n",
              "\n",
              "    [theme=dark] .colab-df-convert {\n",
              "      background-color: #3B4455;\n",
              "      fill: #D2E3FC;\n",
              "    }\n",
              "\n",
              "    [theme=dark] .colab-df-convert:hover {\n",
              "      background-color: #434B5C;\n",
              "      box-shadow: 0px 1px 3px 1px rgba(0, 0, 0, 0.15);\n",
              "      filter: drop-shadow(0px 1px 2px rgba(0, 0, 0, 0.3));\n",
              "      fill: #FFFFFF;\n",
              "    }\n",
              "  </style>\n",
              "\n",
              "      <script>\n",
              "        const buttonEl =\n",
              "          document.querySelector('#df-38d2b27d-77e0-45c6-8436-f651f8bcc00f button.colab-df-convert');\n",
              "        buttonEl.style.display =\n",
              "          google.colab.kernel.accessAllowed ? 'block' : 'none';\n",
              "\n",
              "        async function convertToInteractive(key) {\n",
              "          const element = document.querySelector('#df-38d2b27d-77e0-45c6-8436-f651f8bcc00f');\n",
              "          const dataTable =\n",
              "            await google.colab.kernel.invokeFunction('convertToInteractive',\n",
              "                                                     [key], {});\n",
              "          if (!dataTable) return;\n",
              "\n",
              "          const docLinkHtml = 'Like what you see? Visit the ' +\n",
              "            '<a target=\"_blank\" href=https://colab.research.google.com/notebooks/data_table.ipynb>data table notebook</a>'\n",
              "            + ' to learn more about interactive tables.';\n",
              "          element.innerHTML = '';\n",
              "          dataTable['output_type'] = 'display_data';\n",
              "          await google.colab.output.renderOutput(dataTable, element);\n",
              "          const docLink = document.createElement('div');\n",
              "          docLink.innerHTML = docLinkHtml;\n",
              "          element.appendChild(docLink);\n",
              "        }\n",
              "      </script>\n",
              "    </div>\n",
              "  </div>\n",
              "  "
            ]
          },
          "metadata": {},
          "execution_count": 32
        }
      ]
    },
    {
      "cell_type": "markdown",
      "source": [
        "Looking at the descriptive statistics for the countries, we can see that Gabon has the highest mean income quantile(3.362) and  South Sudan has the lowest(3.061). Lets look at their distributions."
      ],
      "metadata": {
        "id": "EwH5tqi7Frek"
      }
    },
    {
      "cell_type": "code",
      "source": [
        "df_econ_gabon = df_econ[(df_econ.economy == \"Gabon\")]\n",
        "df_econ_ss = df_econ[(df_econ.economy == \"South Sudan\")]"
      ],
      "metadata": {
        "id": "QEa6yaIFFpmw"
      },
      "execution_count": null,
      "outputs": []
    },
    {
      "cell_type": "code",
      "source": [
        "#stacking plots\n",
        "# create new figure\n",
        "fig = plt.figure()\n",
        "#add sub plot\n",
        "ax1 = fig.add_subplot(2,1,1)\n",
        "\n",
        "\n",
        "sns.countplot(data = df_econ_ss, x = \"inc_q\", ax = ax1)\n",
        "ax1.set_xlabel(\"Income Quantile\")\n",
        "ax1.title.set_text(\"Count of Income Quantile in South Sudan\")\n",
        "ax1.set_xticklabels(['Poorest 20%','Second 20%','Middle 20%','Fourth 20%','Richest 20%'])\n",
        "ax1.set_ylim(0, 300)\n",
        "\n",
        "\n",
        "ax2 = fig.add_subplot(2,1,2)\n",
        "sns.countplot(data = df_econ_gabon, x = \"inc_q\", ax = ax2)\n",
        "ax2.set_xlabel(\"Income Quantile\")\n",
        "ax2.title.set_text(\"Count of Income Quantile in Gabon\")\n",
        "ax2.set_xticklabels(['Poorest 20%','Second 20%','Middle 20%','Fourth 20%','Richest 20%'])\n",
        "\n",
        "\n",
        "fig.set_size_inches(9.5, 10.5)"
      ],
      "metadata": {
        "colab": {
          "base_uri": "https://localhost:8080/",
          "height": 649
        },
        "id": "M5V6sgk9F5Ah",
        "outputId": "629bd87c-1d19-4099-d4a6-904681e25c28"
      },
      "execution_count": null,
      "outputs": [
        {
          "output_type": "display_data",
          "data": {
            "text/plain": [
              "<Figure size 684x756 with 2 Axes>"
            ],
            "image/png": "[encoded data removed]"
          },
          "metadata": {
            "needs_background": "light"
          }
        }
      ]
    },
    {
      "cell_type": "markdown",
      "source": [
        "Both the distributions follow the overall distribution for all of the \n",
        "countries combined. They are both left skewed. The distribution in Gabon is far more left skewed than the distribution of South Sudan. South Sudan has a pretty equal distribution for all of the income quantiles. "
      ],
      "metadata": {
        "id": "lJbXAxAUF757"
      }
    }
  ]
}