{
  "nbformat": 4,
  "nbformat_minor": 0,
  "metadata": {
    "colab": {
      "provenance": [],
      "authorship_tag": "ABX9TyNGNK3gMw4spOelVv9XW3P1",
      "include_colab_link": true
    },
    "kernelspec": {
      "name": "python3",
      "display_name": "Python 3"
    },
    "language_info": {
      "name": "python"
    }
  },
  "cells": [
    {
      "cell_type": "markdown",
      "metadata": {
        "id": "view-in-github",
        "colab_type": "text"
      },
      "source": [
        "<a href=\"https://colab.research.google.com/github/sds-capstone/2022-09-proj7-women-at-table/blob/fin-eda-and-questions/Questions_to_Ask_%26_Additional_Questions_Step_3_(Part_A)_3.ipynb\" target=\"_parent\"><img src=\"https://colab.research.google.com/assets/colab-badge.svg\" alt=\"Open In Colab\"/></a>"
      ]
    },
    {
      "cell_type": "markdown",
      "source": [
        "# Questions to Ask & Additional Questions - Step 3 (Part A)#3\n",
        "\n",
        "* Does the dataset identify any subpopulations (e.g., \n",
        "by age, gender)?\n",
        "\n",
        "Yes, the data set can be separated by sex and economy.\n",
        "\n",
        "\n",
        "  * If so, please describe how these subpopulations are identified and provide a description of their respective distributions within the dataset.\n",
        "\n",
        "The variable female distingishes sex. 1 represents male, 2 represents female. There are 71330 males in this datset and 83593 females \n",
        "\n",
        "The economy variable separates respondants by what country they live in. There are 35 different countries with around 1000 respondants from each. Some countries have less and some countries have more. Morocco has 5000, india has 3000, Trinidad and Tobago have 504, china has 3627, and Russian Federation has 2000. \n",
        "\n",
        "**Additional questions:**\n",
        "* Is it possible to identify individuals (i.e., one or more natural persons), either directly or indirectly (i.e., in combination with other data) from the dataset?\n",
        "\n",
        "\n",
        "No, there is information about age, gender and finances, but none of these variables in combination with the others could lead to identification of individuals. \n",
        "\n",
        "\n",
        "* If so, please describe how.\n",
        "\n",
        "* Are there any errors, sources of noise, or redundancies in the dataset?\n",
        "\n",
        "The data set consists of mostly discrete variables, this means that there isnt going to be any outstanding data points for any individual variable. Once we make our model we can decide of there are any variables distracting and contorting the results but all the variables seem related to access to emergency funds. However it would be good to investigate whether or not there are any variables that have an unusual amount or \"dk\" or \"ref\" responses. \n",
        "\n",
        "\n",
        "* Is any information missing from individual instances?\n",
        "\n",
        "Some questions are conditional on the answers to other questions. For example fin4 represents the question \"if has debit card, used in the past 12 months\". This question can only be answered if the respondant has a debit card. Most of the missing values in the data set are due to this. respondants also have the option to refuse to answer or respond with \"dont know\" these are technically responses but also missing data. \n",
        "\n",
        "\n",
        "* Are our visualizations, summary statistics, and reports designed to honestly represent the underlying data?\n",
        "\n",
        "Yes, we add clear labels, titles, and legends. "
      ],
      "metadata": {
        "id": "vvQs_j4Ccrd7"
      }
    }
  ]
}