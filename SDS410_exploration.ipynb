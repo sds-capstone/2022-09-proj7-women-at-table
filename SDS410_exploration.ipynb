{
  "nbformat": 4,
  "nbformat_minor": 0,
  "metadata": {
    "colab": {
      "provenance": []
    },
    "kernelspec": {
      "name": "python3",
      "display_name": "Python 3"
    },
    "language_info": {
      "name": "python"
    }
  },
  "cells": [
    {
      "cell_type": "markdown",
      "source": [
        "# Exploration of data"
      ],
      "metadata": {
        "id": "4-ujjfxDqtUK"
      }
    },
    {
      "cell_type": "code",
      "source": [
        "!pip install pipe"
      ],
      "metadata": {
        "colab": {
          "base_uri": "https://localhost:8080/"
        },
        "id": "doi4wLwSM4KJ",
        "outputId": "9e713442-f7d9-467a-b403-e8adf90e0440"
      },
      "execution_count": 2,
      "outputs": [
        {
          "output_type": "stream",
          "name": "stdout",
          "text": [
            "Looking in indexes: https://pypi.org/simple, https://us-python.pkg.dev/colab-wheels/public/simple/\n",
            "Collecting pipe\n",
            "  Downloading pipe-2.0-py3-none-any.whl (8.8 kB)\n",
            "Installing collected packages: pipe\n",
            "Successfully installed pipe-2.0\n"
          ]
        }
      ]
    },
    {
      "cell_type": "code",
      "execution_count": 3,
      "metadata": {
        "id": "2gCS1sUoqiBQ"
      },
      "outputs": [],
      "source": [
        "# imports\n",
        "import pandas as pd\n",
        "import pipe\n",
        "import seaborn as sns"
      ]
    },
    {
      "cell_type": "code",
      "source": [
        "file = '/content/findex_SubSahAfrica.csv'\n",
        "df = pd.read_csv(file, index_col=0)\n",
        "print(f'There are {df.shape[0]} entries and {df.shape[1]} features')\n",
        "df.head()"
      ],
      "metadata": {
        "colab": {
          "base_uri": "https://localhost:8080/",
          "height": 751
        },
        "id": "qHBJ3Qp3uoV_",
        "outputId": "e793eac8-4450-4cdf-a002-81d3cc0d2fbb"
      },
      "execution_count": 10,
      "outputs": [
        {
          "output_type": "stream",
          "name": "stdout",
          "text": [
            "There are 35000 entries and 105 features\n"
          ]
        },
        {
          "output_type": "execute_result",
          "data": {
            "text/plain": [
              "      economy economycode                                    regionwb  \\\n",
              "12138   Benin         BEN  Sub-Saharan Africa (excluding high income)   \n",
              "12139   Benin         BEN  Sub-Saharan Africa (excluding high income)   \n",
              "12140   Benin         BEN  Sub-Saharan Africa (excluding high income)   \n",
              "12141   Benin         BEN  Sub-Saharan Africa (excluding high income)   \n",
              "12142   Benin         BEN  Sub-Saharan Africa (excluding high income)   \n",
              "\n",
              "       pop_adult  wpid_random       wgt  female   age  educ  inc_q  ...  \\\n",
              "12138  6211794.0    143101339  1.909609       1  60.0   1.0      1  ...   \n",
              "12139  6211794.0    123998301  2.075761       1  45.0   1.0      1  ...   \n",
              "12140  6211794.0    157155643  0.785666       1  27.0   3.0      4  ...   \n",
              "12141  6211794.0    155618899  1.450568       2  24.0   1.0      2  ...   \n",
              "12142  6211794.0    143861320  0.461588       1  22.0   1.0      5  ...   \n",
              "\n",
              "       receive_wages  receive_transfers  receive_pension  receive_agriculture  \\\n",
              "12138              4                  4                4                  4.0   \n",
              "12139              4                  4                4                  4.0   \n",
              "12140              4                  4                4                  4.0   \n",
              "12141              4                  4                4                  4.0   \n",
              "12142              4                  4                4                  4.0   \n",
              "\n",
              "       pay_utilities  remittances  pay_onlne  pay_onlne_mobintbuy  pay_cash  \\\n",
              "12138              4          5.0        0.0                  NaN       0.0   \n",
              "12139              3          1.0        0.0                  NaN       0.0   \n",
              "12140              4          2.0        1.0                  1.0       0.0   \n",
              "12141              3          5.0        0.0                  NaN       0.0   \n",
              "12142              4          5.0        0.0                  NaN       0.0   \n",
              "\n",
              "       pay_cash_mobintbuy  \n",
              "12138                 NaN  \n",
              "12139                 NaN  \n",
              "12140                 0.0  \n",
              "12141                 NaN  \n",
              "12142                 NaN  \n",
              "\n",
              "[5 rows x 105 columns]"
            ],
            "text/html": [
              "\n",
              "  <div id=\"df-c8db2a1f-abfe-47f6-bdb6-7933ee9d596c\">\n",
              "    <div class=\"colab-df-container\">\n",
              "      <div>\n",
              "<style scoped>\n",
              "    .dataframe tbody tr th:only-of-type {\n",
              "        vertical-align: middle;\n",
              "    }\n",
              "\n",
              "    .dataframe tbody tr th {\n",
              "        vertical-align: top;\n",
              "    }\n",
              "\n",
              "    .dataframe thead th {\n",
              "        text-align: right;\n",
              "    }\n",
              "</style>\n",
              "<table border=\"1\" class=\"dataframe\">\n",
              "  <thead>\n",
              "    <tr style=\"text-align: right;\">\n",
              "      <th></th>\n",
              "      <th>economy</th>\n",
              "      <th>economycode</th>\n",
              "      <th>regionwb</th>\n",
              "      <th>pop_adult</th>\n",
              "      <th>wpid_random</th>\n",
              "      <th>wgt</th>\n",
              "      <th>female</th>\n",
              "      <th>age</th>\n",
              "      <th>educ</th>\n",
              "      <th>inc_q</th>\n",
              "      <th>...</th>\n",
              "      <th>receive_wages</th>\n",
              "      <th>receive_transfers</th>\n",
              "      <th>receive_pension</th>\n",
              "      <th>receive_agriculture</th>\n",
              "      <th>pay_utilities</th>\n",
              "      <th>remittances</th>\n",
              "      <th>pay_onlne</th>\n",
              "      <th>pay_onlne_mobintbuy</th>\n",
              "      <th>pay_cash</th>\n",
              "      <th>pay_cash_mobintbuy</th>\n",
              "    </tr>\n",
              "  </thead>\n",
              "  <tbody>\n",
              "    <tr>\n",
              "      <th>12138</th>\n",
              "      <td>Benin</td>\n",
              "      <td>BEN</td>\n",
              "      <td>Sub-Saharan Africa (excluding high income)</td>\n",
              "      <td>6211794.0</td>\n",
              "      <td>143101339</td>\n",
              "      <td>1.909609</td>\n",
              "      <td>1</td>\n",
              "      <td>60.0</td>\n",
              "      <td>1.0</td>\n",
              "      <td>1</td>\n",
              "      <td>...</td>\n",
              "      <td>4</td>\n",
              "      <td>4</td>\n",
              "      <td>4</td>\n",
              "      <td>4.0</td>\n",
              "      <td>4</td>\n",
              "      <td>5.0</td>\n",
              "      <td>0.0</td>\n",
              "      <td>NaN</td>\n",
              "      <td>0.0</td>\n",
              "      <td>NaN</td>\n",
              "    </tr>\n",
              "    <tr>\n",
              "      <th>12139</th>\n",
              "      <td>Benin</td>\n",
              "      <td>BEN</td>\n",
              "      <td>Sub-Saharan Africa (excluding high income)</td>\n",
              "      <td>6211794.0</td>\n",
              "      <td>123998301</td>\n",
              "      <td>2.075761</td>\n",
              "      <td>1</td>\n",
              "      <td>45.0</td>\n",
              "      <td>1.0</td>\n",
              "      <td>1</td>\n",
              "      <td>...</td>\n",
              "      <td>4</td>\n",
              "      <td>4</td>\n",
              "      <td>4</td>\n",
              "      <td>4.0</td>\n",
              "      <td>3</td>\n",
              "      <td>1.0</td>\n",
              "      <td>0.0</td>\n",
              "      <td>NaN</td>\n",
              "      <td>0.0</td>\n",
              "      <td>NaN</td>\n",
              "    </tr>\n",
              "    <tr>\n",
              "      <th>12140</th>\n",
              "      <td>Benin</td>\n",
              "      <td>BEN</td>\n",
              "      <td>Sub-Saharan Africa (excluding high income)</td>\n",
              "      <td>6211794.0</td>\n",
              "      <td>157155643</td>\n",
              "      <td>0.785666</td>\n",
              "      <td>1</td>\n",
              "      <td>27.0</td>\n",
              "      <td>3.0</td>\n",
              "      <td>4</td>\n",
              "      <td>...</td>\n",
              "      <td>4</td>\n",
              "      <td>4</td>\n",
              "      <td>4</td>\n",
              "      <td>4.0</td>\n",
              "      <td>4</td>\n",
              "      <td>2.0</td>\n",
              "      <td>1.0</td>\n",
              "      <td>1.0</td>\n",
              "      <td>0.0</td>\n",
              "      <td>0.0</td>\n",
              "    </tr>\n",
              "    <tr>\n",
              "      <th>12141</th>\n",
              "      <td>Benin</td>\n",
              "      <td>BEN</td>\n",
              "      <td>Sub-Saharan Africa (excluding high income)</td>\n",
              "      <td>6211794.0</td>\n",
              "      <td>155618899</td>\n",
              "      <td>1.450568</td>\n",
              "      <td>2</td>\n",
              "      <td>24.0</td>\n",
              "      <td>1.0</td>\n",
              "      <td>2</td>\n",
              "      <td>...</td>\n",
              "      <td>4</td>\n",
              "      <td>4</td>\n",
              "      <td>4</td>\n",
              "      <td>4.0</td>\n",
              "      <td>3</td>\n",
              "      <td>5.0</td>\n",
              "      <td>0.0</td>\n",
              "      <td>NaN</td>\n",
              "      <td>0.0</td>\n",
              "      <td>NaN</td>\n",
              "    </tr>\n",
              "    <tr>\n",
              "      <th>12142</th>\n",
              "      <td>Benin</td>\n",
              "      <td>BEN</td>\n",
              "      <td>Sub-Saharan Africa (excluding high income)</td>\n",
              "      <td>6211794.0</td>\n",
              "      <td>143861320</td>\n",
              "      <td>0.461588</td>\n",
              "      <td>1</td>\n",
              "      <td>22.0</td>\n",
              "      <td>1.0</td>\n",
              "      <td>5</td>\n",
              "      <td>...</td>\n",
              "      <td>4</td>\n",
              "      <td>4</td>\n",
              "      <td>4</td>\n",
              "      <td>4.0</td>\n",
              "      <td>4</td>\n",
              "      <td>5.0</td>\n",
              "      <td>0.0</td>\n",
              "      <td>NaN</td>\n",
              "      <td>0.0</td>\n",
              "      <td>NaN</td>\n",
              "    </tr>\n",
              "  </tbody>\n",
              "</table>\n",
              "<p>5 rows × 105 columns</p>\n",
              "</div>\n",
              "      <button class=\"colab-df-convert\" onclick=\"convertToInteractive('df-c8db2a1f-abfe-47f6-bdb6-7933ee9d596c')\"\n",
              "              title=\"Convert this dataframe to an interactive table.\"\n",
              "              style=\"display:none;\">\n",
              "        \n",
              "  <svg xmlns=\"http://www.w3.org/2000/svg\" height=\"24px\"viewBox=\"0 0 24 24\"\n",
              "       width=\"24px\">\n",
              "    <path d=\"M0 0h24v24H0V0z\" fill=\"none\"/>\n",
              "    <path d=\"M18.56 5.44l.94 2.06.94-2.06 2.06-.94-2.06-.94-.94-2.06-.94 2.06-2.06.94zm-11 1L8.5 8.5l.94-2.06 2.06-.94-2.06-.94L8.5 2.5l-.94 2.06-2.06.94zm10 10l.94 2.06.94-2.06 2.06-.94-2.06-.94-.94-2.06-.94 2.06-2.06.94z\"/><path d=\"M17.41 7.96l-1.37-1.37c-.4-.4-.92-.59-1.43-.59-.52 0-1.04.2-1.43.59L10.3 9.45l-7.72 7.72c-.78.78-.78 2.05 0 2.83L4 21.41c.39.39.9.59 1.41.59.51 0 1.02-.2 1.41-.59l7.78-7.78 2.81-2.81c.8-.78.8-2.07 0-2.86zM5.41 20L4 18.59l7.72-7.72 1.47 1.35L5.41 20z\"/>\n",
              "  </svg>\n",
              "      </button>\n",
              "      \n",
              "  <style>\n",
              "    .colab-df-container {\n",
              "      display:flex;\n",
              "      flex-wrap:wrap;\n",
              "      gap: 12px;\n",
              "    }\n",
              "\n",
              "    .colab-df-convert {\n",
              "      background-color: #E8F0FE;\n",
              "      border: none;\n",
              "      border-radius: 50%;\n",
              "      cursor: pointer;\n",
              "      display: none;\n",
              "      fill: #1967D2;\n",
              "      height: 32px;\n",
              "      padding: 0 0 0 0;\n",
              "      width: 32px;\n",
              "    }\n",
              "\n",
              "    .colab-df-convert:hover {\n",
              "      background-color: #E2EBFA;\n",
              "      box-shadow: 0px 1px 2px rgba(60, 64, 67, 0.3), 0px 1px 3px 1px rgba(60, 64, 67, 0.15);\n",
              "      fill: #174EA6;\n",
              "    }\n",
              "\n",
              "    [theme=dark] .colab-df-convert {\n",
              "      background-color: #3B4455;\n",
              "      fill: #D2E3FC;\n",
              "    }\n",
              "\n",
              "    [theme=dark] .colab-df-convert:hover {\n",
              "      background-color: #434B5C;\n",
              "      box-shadow: 0px 1px 3px 1px rgba(0, 0, 0, 0.15);\n",
              "      filter: drop-shadow(0px 1px 2px rgba(0, 0, 0, 0.3));\n",
              "      fill: #FFFFFF;\n",
              "    }\n",
              "  </style>\n",
              "\n",
              "      <script>\n",
              "        const buttonEl =\n",
              "          document.querySelector('#df-c8db2a1f-abfe-47f6-bdb6-7933ee9d596c button.colab-df-convert');\n",
              "        buttonEl.style.display =\n",
              "          google.colab.kernel.accessAllowed ? 'block' : 'none';\n",
              "\n",
              "        async function convertToInteractive(key) {\n",
              "          const element = document.querySelector('#df-c8db2a1f-abfe-47f6-bdb6-7933ee9d596c');\n",
              "          const dataTable =\n",
              "            await google.colab.kernel.invokeFunction('convertToInteractive',\n",
              "                                                     [key], {});\n",
              "          if (!dataTable) return;\n",
              "\n",
              "          const docLinkHtml = 'Like what you see? Visit the ' +\n",
              "            '<a target=\"_blank\" href=https://colab.research.google.com/notebooks/data_table.ipynb>data table notebook</a>'\n",
              "            + ' to learn more about interactive tables.';\n",
              "          element.innerHTML = '';\n",
              "          dataTable['output_type'] = 'display_data';\n",
              "          await google.colab.output.renderOutput(dataTable, element);\n",
              "          const docLink = document.createElement('div');\n",
              "          docLink.innerHTML = docLinkHtml;\n",
              "          element.appendChild(docLink);\n",
              "        }\n",
              "      </script>\n",
              "    </div>\n",
              "  </div>\n",
              "  "
            ]
          },
          "metadata": {},
          "execution_count": 10
        }
      ]
    },
    {
      "cell_type": "code",
      "source": [
        "# select vars of interest\n",
        "df2 = df[['female', 'age', 'emp_in', 'account_fin', 'fin24', 'fin25']]\n",
        "df2.fin24.value_counts()\n",
        "\n",
        "# barplot of access to emergency funds\n",
        "sns.countplot(x = 'fin24', data = df2)"
      ],
      "metadata": {
        "id": "bLfc6Yq31Sqb",
        "outputId": "4bbfd1a0-4e78-4190-8f7a-2883d1f55869",
        "colab": {
          "base_uri": "https://localhost:8080/",
          "height": 297
        }
      },
      "execution_count": 12,
      "outputs": [
        {
          "output_type": "execute_result",
          "data": {
            "text/plain": [
              "<matplotlib.axes._subplots.AxesSubplot at 0x7fa596ded250>"
            ]
          },
          "metadata": {},
          "execution_count": 12
        },
        {
          "output_type": "display_data",
          "data": {
            "text/plain": [
              "<Figure size 432x288 with 1 Axes>"
            ],
            "image/png": "[encoded data removed]"
          },
          "metadata": {
            "needs_background": "light"
          }
        }
      ]
    },
    {
      "cell_type": "code",
      "source": [
        "# barplot female versus not\n",
        "sns.countplot(x = 'female', data = df2)"
      ],
      "metadata": {
        "colab": {
          "base_uri": "https://localhost:8080/",
          "height": 297
        },
        "id": "U8fYu7F7RBxk",
        "outputId": "9f0a85cb-d355-4827-b8c1-6d6a6731df26"
      },
      "execution_count": 13,
      "outputs": [
        {
          "output_type": "execute_result",
          "data": {
            "text/plain": [
              "<matplotlib.axes._subplots.AxesSubplot at 0x7fa57e4cb4d0>"
            ]
          },
          "metadata": {},
          "execution_count": 13
        },
        {
          "output_type": "display_data",
          "data": {
            "text/plain": [
              "<Figure size 432x288 with 1 Axes>"
            ],
            "image/png": "[encoded data removed]"
          },
          "metadata": {
            "needs_background": "light"
          }
        }
      ]
    },
    {
      "cell_type": "code",
      "source": [
        "# barplot of number of people who have a bank account\n",
        "sns.countplot(x = 'account_fin', data = df2)"
      ],
      "metadata": {
        "colab": {
          "base_uri": "https://localhost:8080/",
          "height": 298
        },
        "id": "wSyZFn1TKESi",
        "outputId": "4222ec76-5a03-4907-fb1d-a8e4ccd6f3ce"
      },
      "execution_count": 27,
      "outputs": [
        {
          "output_type": "execute_result",
          "data": {
            "text/plain": [
              "<matplotlib.axes._subplots.AxesSubplot at 0x7fa57cfdd710>"
            ]
          },
          "metadata": {},
          "execution_count": 27
        },
        {
          "output_type": "display_data",
          "data": {
            "text/plain": [
              "<Figure size 432x288 with 1 Axes>"
            ],
            "image/png": "[encoded data removed]"
          },
          "metadata": {
            "needs_background": "light"
          }
        }
      ]
    },
    {
      "cell_type": "code",
      "source": [
        "# barplot of possibility of coming up with emergency funds by gender\n",
        "# 1 = female, 2 = not female\n",
        "# 1 = yes have access, 2 = no, 3 = don't know, 4 = refuse\n",
        "gender_fin_counts = (df2.groupby(['female'])['fin24']\n",
        "                     .value_counts(normalize=True)\n",
        "                     .rename('percentage')\n",
        "                     .mul(100)\n",
        "                     .reset_index()\n",
        ")\n",
        "sns.barplot(x = \"fin24\", y = \"percentage\", hue=\"female\", data = gender_fin_counts)"
      ],
      "metadata": {
        "colab": {
          "base_uri": "https://localhost:8080/",
          "height": 297
        },
        "id": "zneyMnbyBTrU",
        "outputId": "8c1f9f5f-39ac-41cb-a095-1068fea639c6"
      },
      "execution_count": 25,
      "outputs": [
        {
          "output_type": "execute_result",
          "data": {
            "text/plain": [
              "<matplotlib.axes._subplots.AxesSubplot at 0x7fa57d071850>"
            ]
          },
          "metadata": {},
          "execution_count": 25
        },
        {
          "output_type": "display_data",
          "data": {
            "text/plain": [
              "<Figure size 432x288 with 1 Axes>"
            ],
            "image/png": "[encoded data removed]"
          },
          "metadata": {
            "needs_background": "light"
          }
        }
      ]
    },
    {
      "cell_type": "code",
      "source": [
        "gender_acc_counts = (df2.groupby(['female'])['account_fin']\n",
        "                     .value_counts(normalize=True)\n",
        "                     .rename('percentage')\n",
        "                     .mul(100)\n",
        "                     .reset_index()\n",
        ")\n",
        "sns.barplot(x = \"account_fin\", y = \"percentage\", hue=\"female\", data = gender_acc_counts)"
      ],
      "metadata": {
        "colab": {
          "base_uri": "https://localhost:8080/",
          "height": 298
        },
        "id": "Fwpj6vfeJVRN",
        "outputId": "7bc5e40c-68ae-4267-f5c8-9f5485c9984e"
      },
      "execution_count": 28,
      "outputs": [
        {
          "output_type": "execute_result",
          "data": {
            "text/plain": [
              "<matplotlib.axes._subplots.AxesSubplot at 0x7fa57d07fb90>"
            ]
          },
          "metadata": {},
          "execution_count": 28
        },
        {
          "output_type": "display_data",
          "data": {
            "text/plain": [
              "<Figure size 432x288 with 1 Axes>"
            ],
            "image/png": "[encoded data removed]"
          },
          "metadata": {
            "needs_background": "light"
          }
        }
      ]
    },
    {
      "cell_type": "markdown",
      "source": [
        "Interesting that a higher percentage of females have a bank account as compared to other genders, and also a higher percentage of females have access to emergency funds. "
      ],
      "metadata": {
        "id": "iFKb_bG1Kmx5"
      }
    },
    {
      "cell_type": "code",
      "source": [
        "# trying to make barplot of reasons for no bank account but not working\n",
        "df_long = df[['fin11a', \"fin11b\", \"fin11c\", \"fin11d\", \"fin11e\", \"fin11f\", \"fin11g\", \"fin11h\"]].stack().reset_index()\n",
        "df_long.head()\n",
        "# df_long.columns()\n",
        "# sns.countplot(x = ['level_1'], data = df_long)"
      ],
      "metadata": {
        "colab": {
          "base_uri": "https://localhost:8080/",
          "height": 206
        },
        "id": "ZpSpqq2QLroP",
        "outputId": "99336aed-8f4e-4337-9545-bae58f5a33db"
      },
      "execution_count": 53,
      "outputs": [
        {
          "output_type": "execute_result",
          "data": {
            "text/plain": [
              "   level_0 level_1    0\n",
              "0    12138  fin11a  1.0\n",
              "1    12138  fin11b  2.0\n",
              "2    12138  fin11c  1.0\n",
              "3    12138  fin11d  2.0\n",
              "4    12138  fin11e  2.0"
            ],
            "text/html": [
              "\n",
              "  <div id=\"df-73471426-eca7-4052-849b-023794446886\">\n",
              "    <div class=\"colab-df-container\">\n",
              "      <div>\n",
              "<style scoped>\n",
              "    .dataframe tbody tr th:only-of-type {\n",
              "        vertical-align: middle;\n",
              "    }\n",
              "\n",
              "    .dataframe tbody tr th {\n",
              "        vertical-align: top;\n",
              "    }\n",
              "\n",
              "    .dataframe thead th {\n",
              "        text-align: right;\n",
              "    }\n",
              "</style>\n",
              "<table border=\"1\" class=\"dataframe\">\n",
              "  <thead>\n",
              "    <tr style=\"text-align: right;\">\n",
              "      <th></th>\n",
              "      <th>level_0</th>\n",
              "      <th>level_1</th>\n",
              "      <th>0</th>\n",
              "    </tr>\n",
              "  </thead>\n",
              "  <tbody>\n",
              "    <tr>\n",
              "      <th>0</th>\n",
              "      <td>12138</td>\n",
              "      <td>fin11a</td>\n",
              "      <td>1.0</td>\n",
              "    </tr>\n",
              "    <tr>\n",
              "      <th>1</th>\n",
              "      <td>12138</td>\n",
              "      <td>fin11b</td>\n",
              "      <td>2.0</td>\n",
              "    </tr>\n",
              "    <tr>\n",
              "      <th>2</th>\n",
              "      <td>12138</td>\n",
              "      <td>fin11c</td>\n",
              "      <td>1.0</td>\n",
              "    </tr>\n",
              "    <tr>\n",
              "      <th>3</th>\n",
              "      <td>12138</td>\n",
              "      <td>fin11d</td>\n",
              "      <td>2.0</td>\n",
              "    </tr>\n",
              "    <tr>\n",
              "      <th>4</th>\n",
              "      <td>12138</td>\n",
              "      <td>fin11e</td>\n",
              "      <td>2.0</td>\n",
              "    </tr>\n",
              "  </tbody>\n",
              "</table>\n",
              "</div>\n",
              "      <button class=\"colab-df-convert\" onclick=\"convertToInteractive('df-73471426-eca7-4052-849b-023794446886')\"\n",
              "              title=\"Convert this dataframe to an interactive table.\"\n",
              "              style=\"display:none;\">\n",
              "        \n",
              "  <svg xmlns=\"http://www.w3.org/2000/svg\" height=\"24px\"viewBox=\"0 0 24 24\"\n",
              "       width=\"24px\">\n",
              "    <path d=\"M0 0h24v24H0V0z\" fill=\"none\"/>\n",
              "    <path d=\"M18.56 5.44l.94 2.06.94-2.06 2.06-.94-2.06-.94-.94-2.06-.94 2.06-2.06.94zm-11 1L8.5 8.5l.94-2.06 2.06-.94-2.06-.94L8.5 2.5l-.94 2.06-2.06.94zm10 10l.94 2.06.94-2.06 2.06-.94-2.06-.94-.94-2.06-.94 2.06-2.06.94z\"/><path d=\"M17.41 7.96l-1.37-1.37c-.4-.4-.92-.59-1.43-.59-.52 0-1.04.2-1.43.59L10.3 9.45l-7.72 7.72c-.78.78-.78 2.05 0 2.83L4 21.41c.39.39.9.59 1.41.59.51 0 1.02-.2 1.41-.59l7.78-7.78 2.81-2.81c.8-.78.8-2.07 0-2.86zM5.41 20L4 18.59l7.72-7.72 1.47 1.35L5.41 20z\"/>\n",
              "  </svg>\n",
              "      </button>\n",
              "      \n",
              "  <style>\n",
              "    .colab-df-container {\n",
              "      display:flex;\n",
              "      flex-wrap:wrap;\n",
              "      gap: 12px;\n",
              "    }\n",
              "\n",
              "    .colab-df-convert {\n",
              "      background-color: #E8F0FE;\n",
              "      border: none;\n",
              "      border-radius: 50%;\n",
              "      cursor: pointer;\n",
              "      display: none;\n",
              "      fill: #1967D2;\n",
              "      height: 32px;\n",
              "      padding: 0 0 0 0;\n",
              "      width: 32px;\n",
              "    }\n",
              "\n",
              "    .colab-df-convert:hover {\n",
              "      background-color: #E2EBFA;\n",
              "      box-shadow: 0px 1px 2px rgba(60, 64, 67, 0.3), 0px 1px 3px 1px rgba(60, 64, 67, 0.15);\n",
              "      fill: #174EA6;\n",
              "    }\n",
              "\n",
              "    [theme=dark] .colab-df-convert {\n",
              "      background-color: #3B4455;\n",
              "      fill: #D2E3FC;\n",
              "    }\n",
              "\n",
              "    [theme=dark] .colab-df-convert:hover {\n",
              "      background-color: #434B5C;\n",
              "      box-shadow: 0px 1px 3px 1px rgba(0, 0, 0, 0.15);\n",
              "      filter: drop-shadow(0px 1px 2px rgba(0, 0, 0, 0.3));\n",
              "      fill: #FFFFFF;\n",
              "    }\n",
              "  </style>\n",
              "\n",
              "      <script>\n",
              "        const buttonEl =\n",
              "          document.querySelector('#df-73471426-eca7-4052-849b-023794446886 button.colab-df-convert');\n",
              "        buttonEl.style.display =\n",
              "          google.colab.kernel.accessAllowed ? 'block' : 'none';\n",
              "\n",
              "        async function convertToInteractive(key) {\n",
              "          const element = document.querySelector('#df-73471426-eca7-4052-849b-023794446886');\n",
              "          const dataTable =\n",
              "            await google.colab.kernel.invokeFunction('convertToInteractive',\n",
              "                                                     [key], {});\n",
              "          if (!dataTable) return;\n",
              "\n",
              "          const docLinkHtml = 'Like what you see? Visit the ' +\n",
              "            '<a target=\"_blank\" href=https://colab.research.google.com/notebooks/data_table.ipynb>data table notebook</a>'\n",
              "            + ' to learn more about interactive tables.';\n",
              "          element.innerHTML = '';\n",
              "          dataTable['output_type'] = 'display_data';\n",
              "          await google.colab.output.renderOutput(dataTable, element);\n",
              "          const docLink = document.createElement('div');\n",
              "          docLink.innerHTML = docLinkHtml;\n",
              "          element.appendChild(docLink);\n",
              "        }\n",
              "      </script>\n",
              "    </div>\n",
              "  </div>\n",
              "  "
            ]
          },
          "metadata": {},
          "execution_count": 53
        }
      ]
    }
  ]
}