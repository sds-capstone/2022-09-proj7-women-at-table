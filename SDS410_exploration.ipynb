{
  "nbformat": 4,
  "nbformat_minor": 0,
  "metadata": {
    "colab": {
      "provenance": [],
      "collapsed_sections": [],
      "include_colab_link": true
    },
    "kernelspec": {
      "name": "python3",
      "display_name": "Python 3"
    },
    "language_info": {
      "name": "python"
    }
  },
  "cells": [
    {
      "cell_type": "markdown",
      "metadata": {
        "id": "view-in-github",
        "colab_type": "text"
      },
      "source": [
        "<a href=\"https://colab.research.google.com/github/sds-capstone/2022-09-proj7-women-at-table/blob/reason-count-eda/SDS410_exploration.ipynb\" target=\"_parent\"><img src=\"https://colab.research.google.com/assets/colab-badge.svg\" alt=\"Open In Colab\"/></a>"
      ]
    },
    {
      "cell_type": "markdown",
      "source": [
        "# Exploration of data"
      ],
      "metadata": {
        "id": "4-ujjfxDqtUK"
      }
    },
    {
      "cell_type": "code",
      "source": [
        "!pip install pipe"
      ],
      "metadata": {
        "colab": {
          "base_uri": "https://localhost:8080/"
        },
        "id": "doi4wLwSM4KJ",
        "outputId": "9e713442-f7d9-467a-b403-e8adf90e0440"
      },
      "execution_count": null,
      "outputs": [
        {
          "output_type": "stream",
          "name": "stdout",
          "text": [
            "Looking in indexes: https://pypi.org/simple, https://us-python.pkg.dev/colab-wheels/public/simple/\n",
            "Collecting pipe\n",
            "  Downloading pipe-2.0-py3-none-any.whl (8.8 kB)\n",
            "Installing collected packages: pipe\n",
            "Successfully installed pipe-2.0\n"
          ]
        }
      ]
    },
    {
      "cell_type": "code",
      "execution_count": 1,
      "metadata": {
        "id": "2gCS1sUoqiBQ"
      },
      "outputs": [],
      "source": [
        "# imports\n",
        "import pandas as pd\n",
        "# import pipe\n",
        "import numpy as np\n",
        "import seaborn as sns\n",
        "from plotnine import *"
      ]
    },
    {
      "cell_type": "code",
      "source": [
        "file = '/content/findex_SubSahAfrica.csv'\n",
        "df = pd.read_csv(file, index_col=0)\n",
        "print(f'There are {df.shape[0]} entries and {df.shape[1]} features')\n",
        "df.head()"
      ],
      "metadata": {
        "colab": {
          "base_uri": "https://localhost:8080/",
          "height": 751
        },
        "id": "qHBJ3Qp3uoV_",
        "outputId": "42179b3b-9dd0-4040-f620-e767ba869bf8"
      },
      "execution_count": 2,
      "outputs": [
        {
          "output_type": "stream",
          "name": "stdout",
          "text": [
            "There are 35000 entries and 105 features\n"
          ]
        },
        {
          "output_type": "execute_result",
          "data": {
            "text/plain": [
              "      economy economycode                                    regionwb  \\\n",
              "12138   Benin         BEN  Sub-Saharan Africa (excluding high income)   \n",
              "12139   Benin         BEN  Sub-Saharan Africa (excluding high income)   \n",
              "12140   Benin         BEN  Sub-Saharan Africa (excluding high income)   \n",
              "12141   Benin         BEN  Sub-Saharan Africa (excluding high income)   \n",
              "12142   Benin         BEN  Sub-Saharan Africa (excluding high income)   \n",
              "\n",
              "       pop_adult  wpid_random       wgt  female   age  educ  inc_q  ...  \\\n",
              "12138  6211794.0    143101339  1.909609       1  60.0   1.0      1  ...   \n",
              "12139  6211794.0    123998301  2.075761       1  45.0   1.0      1  ...   \n",
              "12140  6211794.0    157155643  0.785666       1  27.0   3.0      4  ...   \n",
              "12141  6211794.0    155618899  1.450568       2  24.0   1.0      2  ...   \n",
              "12142  6211794.0    143861320  0.461588       1  22.0   1.0      5  ...   \n",
              "\n",
              "       receive_wages  receive_transfers  receive_pension  receive_agriculture  \\\n",
              "12138              4                  4                4                  4.0   \n",
              "12139              4                  4                4                  4.0   \n",
              "12140              4                  4                4                  4.0   \n",
              "12141              4                  4                4                  4.0   \n",
              "12142              4                  4                4                  4.0   \n",
              "\n",
              "       pay_utilities  remittances  pay_onlne  pay_onlne_mobintbuy  pay_cash  \\\n",
              "12138              4          5.0        0.0                  NaN       0.0   \n",
              "12139              3          1.0        0.0                  NaN       0.0   \n",
              "12140              4          2.0        1.0                  1.0       0.0   \n",
              "12141              3          5.0        0.0                  NaN       0.0   \n",
              "12142              4          5.0        0.0                  NaN       0.0   \n",
              "\n",
              "       pay_cash_mobintbuy  \n",
              "12138                 NaN  \n",
              "12139                 NaN  \n",
              "12140                 0.0  \n",
              "12141                 NaN  \n",
              "12142                 NaN  \n",
              "\n",
              "[5 rows x 105 columns]"
            ],
            "text/html": [
              "\n",
              "  <div id=\"df-b61d3a36-ef74-4e7b-9c86-3380c766508e\">\n",
              "    <div class=\"colab-df-container\">\n",
              "      <div>\n",
              "<style scoped>\n",
              "    .dataframe tbody tr th:only-of-type {\n",
              "        vertical-align: middle;\n",
              "    }\n",
              "\n",
              "    .dataframe tbody tr th {\n",
              "        vertical-align: top;\n",
              "    }\n",
              "\n",
              "    .dataframe thead th {\n",
              "        text-align: right;\n",
              "    }\n",
              "</style>\n",
              "<table border=\"1\" class=\"dataframe\">\n",
              "  <thead>\n",
              "    <tr style=\"text-align: right;\">\n",
              "      <th></th>\n",
              "      <th>economy</th>\n",
              "      <th>economycode</th>\n",
              "      <th>regionwb</th>\n",
              "      <th>pop_adult</th>\n",
              "      <th>wpid_random</th>\n",
              "      <th>wgt</th>\n",
              "      <th>female</th>\n",
              "      <th>age</th>\n",
              "      <th>educ</th>\n",
              "      <th>inc_q</th>\n",
              "      <th>...</th>\n",
              "      <th>receive_wages</th>\n",
              "      <th>receive_transfers</th>\n",
              "      <th>receive_pension</th>\n",
              "      <th>receive_agriculture</th>\n",
              "      <th>pay_utilities</th>\n",
              "      <th>remittances</th>\n",
              "      <th>pay_onlne</th>\n",
              "      <th>pay_onlne_mobintbuy</th>\n",
              "      <th>pay_cash</th>\n",
              "      <th>pay_cash_mobintbuy</th>\n",
              "    </tr>\n",
              "  </thead>\n",
              "  <tbody>\n",
              "    <tr>\n",
              "      <th>12138</th>\n",
              "      <td>Benin</td>\n",
              "      <td>BEN</td>\n",
              "      <td>Sub-Saharan Africa (excluding high income)</td>\n",
              "      <td>6211794.0</td>\n",
              "      <td>143101339</td>\n",
              "      <td>1.909609</td>\n",
              "      <td>1</td>\n",
              "      <td>60.0</td>\n",
              "      <td>1.0</td>\n",
              "      <td>1</td>\n",
              "      <td>...</td>\n",
              "      <td>4</td>\n",
              "      <td>4</td>\n",
              "      <td>4</td>\n",
              "      <td>4.0</td>\n",
              "      <td>4</td>\n",
              "      <td>5.0</td>\n",
              "      <td>0.0</td>\n",
              "      <td>NaN</td>\n",
              "      <td>0.0</td>\n",
              "      <td>NaN</td>\n",
              "    </tr>\n",
              "    <tr>\n",
              "      <th>12139</th>\n",
              "      <td>Benin</td>\n",
              "      <td>BEN</td>\n",
              "      <td>Sub-Saharan Africa (excluding high income)</td>\n",
              "      <td>6211794.0</td>\n",
              "      <td>123998301</td>\n",
              "      <td>2.075761</td>\n",
              "      <td>1</td>\n",
              "      <td>45.0</td>\n",
              "      <td>1.0</td>\n",
              "      <td>1</td>\n",
              "      <td>...</td>\n",
              "      <td>4</td>\n",
              "      <td>4</td>\n",
              "      <td>4</td>\n",
              "      <td>4.0</td>\n",
              "      <td>3</td>\n",
              "      <td>1.0</td>\n",
              "      <td>0.0</td>\n",
              "      <td>NaN</td>\n",
              "      <td>0.0</td>\n",
              "      <td>NaN</td>\n",
              "    </tr>\n",
              "    <tr>\n",
              "      <th>12140</th>\n",
              "      <td>Benin</td>\n",
              "      <td>BEN</td>\n",
              "      <td>Sub-Saharan Africa (excluding high income)</td>\n",
              "      <td>6211794.0</td>\n",
              "      <td>157155643</td>\n",
              "      <td>0.785666</td>\n",
              "      <td>1</td>\n",
              "      <td>27.0</td>\n",
              "      <td>3.0</td>\n",
              "      <td>4</td>\n",
              "      <td>...</td>\n",
              "      <td>4</td>\n",
              "      <td>4</td>\n",
              "      <td>4</td>\n",
              "      <td>4.0</td>\n",
              "      <td>4</td>\n",
              "      <td>2.0</td>\n",
              "      <td>1.0</td>\n",
              "      <td>1.0</td>\n",
              "      <td>0.0</td>\n",
              "      <td>0.0</td>\n",
              "    </tr>\n",
              "    <tr>\n",
              "      <th>12141</th>\n",
              "      <td>Benin</td>\n",
              "      <td>BEN</td>\n",
              "      <td>Sub-Saharan Africa (excluding high income)</td>\n",
              "      <td>6211794.0</td>\n",
              "      <td>155618899</td>\n",
              "      <td>1.450568</td>\n",
              "      <td>2</td>\n",
              "      <td>24.0</td>\n",
              "      <td>1.0</td>\n",
              "      <td>2</td>\n",
              "      <td>...</td>\n",
              "      <td>4</td>\n",
              "      <td>4</td>\n",
              "      <td>4</td>\n",
              "      <td>4.0</td>\n",
              "      <td>3</td>\n",
              "      <td>5.0</td>\n",
              "      <td>0.0</td>\n",
              "      <td>NaN</td>\n",
              "      <td>0.0</td>\n",
              "      <td>NaN</td>\n",
              "    </tr>\n",
              "    <tr>\n",
              "      <th>12142</th>\n",
              "      <td>Benin</td>\n",
              "      <td>BEN</td>\n",
              "      <td>Sub-Saharan Africa (excluding high income)</td>\n",
              "      <td>6211794.0</td>\n",
              "      <td>143861320</td>\n",
              "      <td>0.461588</td>\n",
              "      <td>1</td>\n",
              "      <td>22.0</td>\n",
              "      <td>1.0</td>\n",
              "      <td>5</td>\n",
              "      <td>...</td>\n",
              "      <td>4</td>\n",
              "      <td>4</td>\n",
              "      <td>4</td>\n",
              "      <td>4.0</td>\n",
              "      <td>4</td>\n",
              "      <td>5.0</td>\n",
              "      <td>0.0</td>\n",
              "      <td>NaN</td>\n",
              "      <td>0.0</td>\n",
              "      <td>NaN</td>\n",
              "    </tr>\n",
              "  </tbody>\n",
              "</table>\n",
              "<p>5 rows × 105 columns</p>\n",
              "</div>\n",
              "      <button class=\"colab-df-convert\" onclick=\"convertToInteractive('df-b61d3a36-ef74-4e7b-9c86-3380c766508e')\"\n",
              "              title=\"Convert this dataframe to an interactive table.\"\n",
              "              style=\"display:none;\">\n",
              "        \n",
              "  <svg xmlns=\"http://www.w3.org/2000/svg\" height=\"24px\"viewBox=\"0 0 24 24\"\n",
              "       width=\"24px\">\n",
              "    <path d=\"M0 0h24v24H0V0z\" fill=\"none\"/>\n",
              "    <path d=\"M18.56 5.44l.94 2.06.94-2.06 2.06-.94-2.06-.94-.94-2.06-.94 2.06-2.06.94zm-11 1L8.5 8.5l.94-2.06 2.06-.94-2.06-.94L8.5 2.5l-.94 2.06-2.06.94zm10 10l.94 2.06.94-2.06 2.06-.94-2.06-.94-.94-2.06-.94 2.06-2.06.94z\"/><path d=\"M17.41 7.96l-1.37-1.37c-.4-.4-.92-.59-1.43-.59-.52 0-1.04.2-1.43.59L10.3 9.45l-7.72 7.72c-.78.78-.78 2.05 0 2.83L4 21.41c.39.39.9.59 1.41.59.51 0 1.02-.2 1.41-.59l7.78-7.78 2.81-2.81c.8-.78.8-2.07 0-2.86zM5.41 20L4 18.59l7.72-7.72 1.47 1.35L5.41 20z\"/>\n",
              "  </svg>\n",
              "      </button>\n",
              "      \n",
              "  <style>\n",
              "    .colab-df-container {\n",
              "      display:flex;\n",
              "      flex-wrap:wrap;\n",
              "      gap: 12px;\n",
              "    }\n",
              "\n",
              "    .colab-df-convert {\n",
              "      background-color: #E8F0FE;\n",
              "      border: none;\n",
              "      border-radius: 50%;\n",
              "      cursor: pointer;\n",
              "      display: none;\n",
              "      fill: #1967D2;\n",
              "      height: 32px;\n",
              "      padding: 0 0 0 0;\n",
              "      width: 32px;\n",
              "    }\n",
              "\n",
              "    .colab-df-convert:hover {\n",
              "      background-color: #E2EBFA;\n",
              "      box-shadow: 0px 1px 2px rgba(60, 64, 67, 0.3), 0px 1px 3px 1px rgba(60, 64, 67, 0.15);\n",
              "      fill: #174EA6;\n",
              "    }\n",
              "\n",
              "    [theme=dark] .colab-df-convert {\n",
              "      background-color: #3B4455;\n",
              "      fill: #D2E3FC;\n",
              "    }\n",
              "\n",
              "    [theme=dark] .colab-df-convert:hover {\n",
              "      background-color: #434B5C;\n",
              "      box-shadow: 0px 1px 3px 1px rgba(0, 0, 0, 0.15);\n",
              "      filter: drop-shadow(0px 1px 2px rgba(0, 0, 0, 0.3));\n",
              "      fill: #FFFFFF;\n",
              "    }\n",
              "  </style>\n",
              "\n",
              "      <script>\n",
              "        const buttonEl =\n",
              "          document.querySelector('#df-b61d3a36-ef74-4e7b-9c86-3380c766508e button.colab-df-convert');\n",
              "        buttonEl.style.display =\n",
              "          google.colab.kernel.accessAllowed ? 'block' : 'none';\n",
              "\n",
              "        async function convertToInteractive(key) {\n",
              "          const element = document.querySelector('#df-b61d3a36-ef74-4e7b-9c86-3380c766508e');\n",
              "          const dataTable =\n",
              "            await google.colab.kernel.invokeFunction('convertToInteractive',\n",
              "                                                     [key], {});\n",
              "          if (!dataTable) return;\n",
              "\n",
              "          const docLinkHtml = 'Like what you see? Visit the ' +\n",
              "            '<a target=\"_blank\" href=https://colab.research.google.com/notebooks/data_table.ipynb>data table notebook</a>'\n",
              "            + ' to learn more about interactive tables.';\n",
              "          element.innerHTML = '';\n",
              "          dataTable['output_type'] = 'display_data';\n",
              "          await google.colab.output.renderOutput(dataTable, element);\n",
              "          const docLink = document.createElement('div');\n",
              "          docLink.innerHTML = docLinkHtml;\n",
              "          element.appendChild(docLink);\n",
              "        }\n",
              "      </script>\n",
              "    </div>\n",
              "  </div>\n",
              "  "
            ]
          },
          "metadata": {},
          "execution_count": 2
        }
      ]
    },
    {
      "cell_type": "code",
      "source": [
        "# select vars of interest\n",
        "df2 = df[['female', 'age', 'emp_in', 'account_fin', 'fin24', 'fin25']]\n",
        "# Recode fin24 values\n",
        "df2.loc[df2['fin24'] == 1, \"fin24\"] = 'Yes'\n",
        "df2.loc[df2['fin24'] == 2, \"fin24\"] = 'No'\n",
        "df2.loc[df2['fin24'] == 3, \"fin24\"] = 'Don\\'t Know'\n",
        "df2.loc[df2['fin24'] == 4, \"fin24\"] = 'Refuse'\n",
        "# rename fin24 to has_access\n",
        "df2.rename(columns = {'fin24': 'has_access'}, inplace = True)\n",
        "df2.head()\n",
        "# barplot of access to emergency funds\n",
        "sns.countplot(x = 'has_access', data = df2).set(title = \"Distribution of Access to Emergency Funds\")"
      ],
      "metadata": {
        "id": "bLfc6Yq31Sqb",
        "outputId": "f1720313-26a0-4999-cdc4-173651c7418d",
        "colab": {
          "base_uri": "https://localhost:8080/",
          "height": 494
        }
      },
      "execution_count": null,
      "outputs": [
        {
          "output_type": "stream",
          "name": "stderr",
          "text": [
            "/usr/local/lib/python3.7/dist-packages/pandas/core/indexing.py:1817: SettingWithCopyWarning: \n",
            "A value is trying to be set on a copy of a slice from a DataFrame.\n",
            "Try using .loc[row_indexer,col_indexer] = value instead\n",
            "\n",
            "See the caveats in the documentation: https://pandas.pydata.org/pandas-docs/stable/user_guide/indexing.html#returning-a-view-versus-a-copy\n",
            "/usr/local/lib/python3.7/dist-packages/pandas/core/frame.py:5047: SettingWithCopyWarning: \n",
            "A value is trying to be set on a copy of a slice from a DataFrame\n",
            "\n",
            "See the caveats in the documentation: https://pandas.pydata.org/pandas-docs/stable/user_guide/indexing.html#returning-a-view-versus-a-copy\n"
          ]
        },
        {
          "output_type": "execute_result",
          "data": {
            "text/plain": [
              "[Text(0.5, 1.0, 'Distribution of Access to Emergency Funds')]"
            ]
          },
          "metadata": {},
          "execution_count": 3
        },
        {
          "output_type": "display_data",
          "data": {
            "text/plain": [
              "<Figure size 432x288 with 1 Axes>"
            ],
            "image/png": "[encoded data removed]"
          },
          "metadata": {
            "needs_background": "light"
          }
        }
      ]
    },
    {
      "cell_type": "code",
      "source": [
        "# plotnine version of above plot-- can't decide if this is easier or not, seems harder to customize\n",
        "fig = (\n",
        "    ggplot(df2, aes(x = 'has_access')) +\n",
        "    geom_bar()\n",
        ")\n",
        "\n",
        "fig"
      ],
      "metadata": {
        "colab": {
          "base_uri": "https://localhost:8080/",
          "height": 466
        },
        "id": "WJJyWh4l4Y1y",
        "outputId": "4d1ddcbf-aea8-4da9-98e1-dcc9a25afdf3"
      },
      "execution_count": null,
      "outputs": [
        {
          "output_type": "display_data",
          "data": {
            "text/plain": [
              "<Figure size 640x480 with 1 Axes>"
            ],
            "image/png": "[encoded data removed]"
          },
          "metadata": {}
        },
        {
          "output_type": "execute_result",
          "data": {
            "text/plain": [
              "<ggplot: (8735888354245)>"
            ]
          },
          "metadata": {},
          "execution_count": 4
        }
      ]
    },
    {
      "cell_type": "code",
      "source": [
        "df2.loc[df2['female'] == 1, \"female\"] = 'male'\n",
        "df2.loc[df2['female'] == 2, \"female\"] = 'female'\n",
        "df2.rename(columns = {'female': 'gender'}, inplace = True)\n",
        "# barplot female versus not\n",
        "sns.countplot(x = 'gender', data = df2).set(title = \"Gender Distribution\")"
      ],
      "metadata": {
        "colab": {
          "base_uri": "https://localhost:8080/",
          "height": 493
        },
        "id": "U8fYu7F7RBxk",
        "outputId": "c47da9bf-453e-4924-ceab-034678deed19"
      },
      "execution_count": null,
      "outputs": [
        {
          "output_type": "stream",
          "name": "stderr",
          "text": [
            "/usr/local/lib/python3.7/dist-packages/pandas/core/indexing.py:1817: SettingWithCopyWarning: \n",
            "A value is trying to be set on a copy of a slice from a DataFrame.\n",
            "Try using .loc[row_indexer,col_indexer] = value instead\n",
            "\n",
            "See the caveats in the documentation: https://pandas.pydata.org/pandas-docs/stable/user_guide/indexing.html#returning-a-view-versus-a-copy\n",
            "/usr/local/lib/python3.7/dist-packages/pandas/core/frame.py:5047: SettingWithCopyWarning: \n",
            "A value is trying to be set on a copy of a slice from a DataFrame\n",
            "\n",
            "See the caveats in the documentation: https://pandas.pydata.org/pandas-docs/stable/user_guide/indexing.html#returning-a-view-versus-a-copy\n"
          ]
        },
        {
          "output_type": "execute_result",
          "data": {
            "text/plain": [
              "[Text(0.5, 1.0, 'Gender Distribution')]"
            ]
          },
          "metadata": {},
          "execution_count": 5
        },
        {
          "output_type": "display_data",
          "data": {
            "text/plain": [
              "<Figure size 432x288 with 1 Axes>"
            ],
            "image/png": "[encoded data removed]"
          },
          "metadata": {
            "needs_background": "light"
          }
        }
      ]
    },
    {
      "cell_type": "code",
      "source": [
        "# barplot of number of people who have a bank account\n",
        "sns.countplot(x = 'account_fin', data = df2).set(title = \"Distribution of Has a Financial Account\")"
      ],
      "metadata": {
        "colab": {
          "base_uri": "https://localhost:8080/",
          "height": 314
        },
        "id": "wSyZFn1TKESi",
        "outputId": "5c6d73d1-eebe-4a5b-8460-9eceaf8bc381"
      },
      "execution_count": null,
      "outputs": [
        {
          "output_type": "execute_result",
          "data": {
            "text/plain": [
              "[Text(0.5, 1.0, 'Distribution of Has a Financial Account')]"
            ]
          },
          "metadata": {},
          "execution_count": 6
        },
        {
          "output_type": "display_data",
          "data": {
            "text/plain": [
              "<Figure size 432x288 with 1 Axes>"
            ],
            "image/png": "[encoded data removed]"
          },
          "metadata": {
            "needs_background": "light"
          }
        }
      ]
    },
    {
      "cell_type": "code",
      "source": [
        "# barplot of possibility of coming up with emergency funds by gender\n",
        "# 1 = female, 2 = not female\n",
        "# 1 = yes have access, 2 = no, 3 = don't know, 4 = refuse\n",
        "gender_fin_counts = (df2.groupby(['gender'])['has_access']\n",
        "                     .value_counts(normalize=True)\n",
        "                     .rename('percentage')\n",
        "                     .mul(100)\n",
        "                     .reset_index()\n",
        ")\n",
        "sns.barplot(x = \"has_access\", y = \"percentage\", hue=\"gender\", data = gender_fin_counts).set(title = \"Distribution of Access by Gender\")"
      ],
      "metadata": {
        "colab": {
          "base_uri": "https://localhost:8080/",
          "height": 314
        },
        "id": "zneyMnbyBTrU",
        "outputId": "7bdc6a2a-0231-4a9a-9d98-3578ab8ee4cd"
      },
      "execution_count": null,
      "outputs": [
        {
          "output_type": "execute_result",
          "data": {
            "text/plain": [
              "[Text(0.5, 1.0, 'Distribution of Access by Gender')]"
            ]
          },
          "metadata": {},
          "execution_count": 7
        },
        {
          "output_type": "display_data",
          "data": {
            "text/plain": [
              "<Figure size 432x288 with 1 Axes>"
            ],
            "image/png": "[encoded data removed]"
          },
          "metadata": {
            "needs_background": "light"
          }
        }
      ]
    },
    {
      "cell_type": "code",
      "source": [
        "gender_acc_counts = (df2.groupby(['gender'])['account_fin']\n",
        "                     .value_counts(normalize=True)\n",
        "                     .rename('percentage')\n",
        "                     .mul(100)\n",
        "                     .reset_index()\n",
        ")\n",
        "sns.barplot(x = \"account_fin\", y = \"percentage\", hue=\"gender\", data = gender_acc_counts).set(title = \"Distribution of Has a Financial Account by Gender\")"
      ],
      "metadata": {
        "colab": {
          "base_uri": "https://localhost:8080/",
          "height": 314
        },
        "id": "Fwpj6vfeJVRN",
        "outputId": "211ba9e6-7169-4377-9b9a-7e5ba16697ce"
      },
      "execution_count": null,
      "outputs": [
        {
          "output_type": "execute_result",
          "data": {
            "text/plain": [
              "[Text(0.5, 1.0, 'Distribution of Has a Financial Account by Gender')]"
            ]
          },
          "metadata": {},
          "execution_count": 8
        },
        {
          "output_type": "display_data",
          "data": {
            "text/plain": [
              "<Figure size 432x288 with 1 Axes>"
            ],
            "image/png": "[encoded data removed]"
          },
          "metadata": {
            "needs_background": "light"
          }
        }
      ]
    },
    {
      "cell_type": "code",
      "source": [
        "# Distribution by in workforce\n",
        "sns.countplot(x = 'emp_in', data = df2).set(title = \"Distribution of Whether or not in Workforce\")"
      ],
      "metadata": {
        "colab": {
          "base_uri": "https://localhost:8080/",
          "height": 314
        },
        "id": "wQQGb704ESgT",
        "outputId": "3f76398e-d008-42e8-9044-7c1348f2952f"
      },
      "execution_count": null,
      "outputs": [
        {
          "output_type": "execute_result",
          "data": {
            "text/plain": [
              "[Text(0.5, 1.0, 'Distribution of Whether or not in Workforce')]"
            ]
          },
          "metadata": {},
          "execution_count": 9
        },
        {
          "output_type": "display_data",
          "data": {
            "text/plain": [
              "<Figure size 432x288 with 1 Axes>"
            ],
            "image/png": "[encoded data removed]"
          },
          "metadata": {
            "needs_background": "light"
          }
        }
      ]
    },
    {
      "cell_type": "code",
      "source": [
        "# Distribution by Gender and In Workforce\n",
        "gender_emp_counts = (df2.groupby(['gender'])['emp_in']\n",
        "                     .value_counts(normalize=True)\n",
        "                     .rename('percentage')\n",
        "                     .mul(100)\n",
        "                     .reset_index()\n",
        ")\n",
        "sns.barplot(x = \"emp_in\", y = \"percentage\", hue=\"gender\", data = gender_emp_counts).set(title = \"Distribution of In Workforce by Gender\")"
      ],
      "metadata": {
        "colab": {
          "base_uri": "https://localhost:8080/",
          "height": 314
        },
        "id": "YhrLmnWcE3Dl",
        "outputId": "a89e9243-0134-48f5-cfda-0581495e3243"
      },
      "execution_count": null,
      "outputs": [
        {
          "output_type": "execute_result",
          "data": {
            "text/plain": [
              "[Text(0.5, 1.0, 'Distribution of In Workforce by Gender')]"
            ]
          },
          "metadata": {},
          "execution_count": 10
        },
        {
          "output_type": "display_data",
          "data": {
            "text/plain": [
              "<Figure size 432x288 with 1 Axes>"
            ],
            "image/png": "[encoded data removed]"
          },
          "metadata": {
            "needs_background": "light"
          }
        }
      ]
    },
    {
      "cell_type": "markdown",
      "source": [
        "Makes sense that more males are in the workforce, have a financial account, and have access to emergency funds."
      ],
      "metadata": {
        "id": "VAePE4NJFf7r"
      }
    },
    {
      "cell_type": "code",
      "source": [
        "# reasons for no financial account\n",
        "# pivot data to long format\n",
        "df_long = df[['fin11a', \"fin11b\", \"fin11c\", \"fin11d\", \"fin11e\", \"fin11f\", \"fin11g\", \"fin11h\"]]\\\n",
        ".stack()\\\n",
        ".reset_index()\n",
        "df_long.rename(columns = {'level_1':'reason', 0:'value'}, inplace = True)\n",
        "df3 = df_long.query('value == 1.0') # filter to only \"yes\" answers for each reason\n",
        "# recode reason values\n",
        "df3.loc[df3['reason'] == 'fin11a', \"reason\"] = 'distance'\n",
        "df3.loc[df3['reason'] == 'fin11b', \"reason\"] = 'expense'\n",
        "df3.loc[df3['reason'] == 'fin11c', \"reason\"] = 'no_documentation'\n",
        "df3.loc[df3['reason'] == 'fin11d', \"reason\"] = 'lack_trust'\n",
        "df3.loc[df3['reason'] == 'fin11e', \"reason\"] = 'religious'\n",
        "df3.loc[df3['reason'] == 'fin11f', \"reason\"] = 'lack_money'\n",
        "df3.loc[df3['reason'] == 'fin11g', \"reason\"] = 'family_member_has'\n",
        "df3.loc[df3['reason'] == 'fin11h', \"reason\"] = 'no_need'\n",
        "df3.head()\n",
        "\n",
        "# aggregate counts by region\n",
        "reason_counts = df3.groupby('reason').agg('count').reset_index()\n",
        "reason_counts.head()\n",
        "\n",
        "# barplot of count by reason-- plotnine\n",
        "ggplot(reason_counts, aes(x = 'reorder(reason, value)', y = 'value', fill = 'reason')) +\\\n",
        "geom_col(show_legend = False) +\\\n",
        "coord_flip() +\\\n",
        "labs(title = \"Reasons for No Financial Account\", x = \"reason\", y = \"count\")"
      ],
      "metadata": {
        "colab": {
          "base_uri": "https://localhost:8080/",
          "height": 600
        },
        "id": "ZpSpqq2QLroP",
        "outputId": "658838e7-476e-4a4e-f571-f67debba702e"
      },
      "execution_count": 4,
      "outputs": [
        {
          "output_type": "stream",
          "name": "stderr",
          "text": [
            "/usr/local/lib/python3.7/dist-packages/pandas/core/indexing.py:1817: SettingWithCopyWarning: \n",
            "A value is trying to be set on a copy of a slice from a DataFrame.\n",
            "Try using .loc[row_indexer,col_indexer] = value instead\n",
            "\n",
            "See the caveats in the documentation: https://pandas.pydata.org/pandas-docs/stable/user_guide/indexing.html#returning-a-view-versus-a-copy\n"
          ]
        },
        {
          "output_type": "display_data",
          "data": {
            "text/plain": [
              "<Figure size 640x480 with 1 Axes>"
            ],
            "image/png": "[encoded data removed]"
          },
          "metadata": {}
        },
        {
          "output_type": "execute_result",
          "data": {
            "text/plain": [
              "<ggplot: (8779394944209)>"
            ]
          },
          "metadata": {},
          "execution_count": 4
        }
      ]
    }
  ]
}