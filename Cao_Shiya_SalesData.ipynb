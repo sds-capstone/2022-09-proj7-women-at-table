{
 "cells": [
  {
   "cell_type": "code",
   "execution_count": 1,
   "metadata": {
    "_cell_guid": "b1076dfc-b9ad-4769-8c92-a6c4dae69d19",
    "_uuid": "8f2839f25d086af736a60e9eeb907d3b93b6e0e5",
    "tags": []
   },
   "outputs": [],
   "source": [
    "# This Python 3 environment comes with many helpful analytics libraries installed\n",
    "# It is defined by the kaggle/python Docker image: https://github.com/kaggle/docker-python\n",
    "# For example, here's several helpful packages to load\n",
    "\n",
    "import numpy as np # linear algebra\n",
    "import pandas as pd # data processing, CSV file I/O (e.g. pd.read_csv)\n",
    "from plotnine import *\n",
    "\n",
    "# Input data files are available in the read-only \"../input/\" directory\n",
    "# For example, running this (by clicking run or pressing Shift+Enter) will list all files under the input directory\n",
    "\n",
    "import os\n",
    "for dirname, _, filenames in os.walk('/kaggle/input'):\n",
    "    for filename in filenames:\n",
    "        print(os.path.join(dirname, filename))\n",
    "\n",
    "# You can write up to 20GB to the current directory (/kaggle/working/) that gets preserved as output when you create a version using \"Save & Run All\" \n",
    "# You can also write temporary files to /kaggle/temp/, but they won't be saved outside of the current session"
   ]
  },
  {
   "cell_type": "code",
   "execution_count": 3,
   "metadata": {
    "tags": []
   },
   "outputs": [
    {
     "data": {
      "text/html": [
       "<div>\n",
       "<style scoped>\n",
       "    .dataframe tbody tr th:only-of-type {\n",
       "        vertical-align: middle;\n",
       "    }\n",
       "\n",
       "    .dataframe tbody tr th {\n",
       "        vertical-align: top;\n",
       "    }\n",
       "\n",
       "    .dataframe thead th {\n",
       "        text-align: right;\n",
       "    }\n",
       "</style>\n",
       "<table border=\"1\" class=\"dataframe\">\n",
       "  <thead>\n",
       "    <tr style=\"text-align: right;\">\n",
       "      <th></th>\n",
       "      <th>Retailer country</th>\n",
       "      <th>Order method type</th>\n",
       "      <th>Product line</th>\n",
       "      <th>Product type</th>\n",
       "      <th>Date</th>\n",
       "      <th>Quantity</th>\n",
       "      <th>Price</th>\n",
       "      <th>Revenue</th>\n",
       "      <th>Unit Cost</th>\n",
       "    </tr>\n",
       "  </thead>\n",
       "  <tbody>\n",
       "    <tr>\n",
       "      <th>0</th>\n",
       "      <td>France</td>\n",
       "      <td>Telephone</td>\n",
       "      <td>Computer</td>\n",
       "      <td>Laptop</td>\n",
       "      <td>1/1/16</td>\n",
       "      <td>56</td>\n",
       "      <td>1397.94</td>\n",
       "      <td>78284.61</td>\n",
       "      <td>772.36</td>\n",
       "    </tr>\n",
       "    <tr>\n",
       "      <th>1</th>\n",
       "      <td>United States</td>\n",
       "      <td>Telephone</td>\n",
       "      <td>Computer</td>\n",
       "      <td>Laptop</td>\n",
       "      <td>1/1/16</td>\n",
       "      <td>89</td>\n",
       "      <td>1397.94</td>\n",
       "      <td>124416.61</td>\n",
       "      <td>724.83</td>\n",
       "    </tr>\n",
       "    <tr>\n",
       "      <th>2</th>\n",
       "      <td>Brazil</td>\n",
       "      <td>Web</td>\n",
       "      <td>Mobile</td>\n",
       "      <td>Iphone</td>\n",
       "      <td>1/1/16</td>\n",
       "      <td>23</td>\n",
       "      <td>924.64</td>\n",
       "      <td>21266.70</td>\n",
       "      <td>518.72</td>\n",
       "    </tr>\n",
       "    <tr>\n",
       "      <th>3</th>\n",
       "      <td>Mexico</td>\n",
       "      <td>Sales visit</td>\n",
       "      <td>Mobile</td>\n",
       "      <td>Samsung</td>\n",
       "      <td>1/1/16</td>\n",
       "      <td>48</td>\n",
       "      <td>750.79</td>\n",
       "      <td>36037.80</td>\n",
       "      <td>472.25</td>\n",
       "    </tr>\n",
       "    <tr>\n",
       "      <th>4</th>\n",
       "      <td>China</td>\n",
       "      <td>Web</td>\n",
       "      <td>Mobile</td>\n",
       "      <td>Samsung</td>\n",
       "      <td>1/1/16</td>\n",
       "      <td>77</td>\n",
       "      <td>643.86</td>\n",
       "      <td>49577.40</td>\n",
       "      <td>388.57</td>\n",
       "    </tr>\n",
       "  </tbody>\n",
       "</table>\n",
       "</div>"
      ],
      "text/plain": [
       "  Retailer country Order method type Product line Product type    Date  \\\n",
       "0           France         Telephone     Computer       Laptop  1/1/16   \n",
       "1    United States         Telephone     Computer       Laptop  1/1/16   \n",
       "2           Brazil               Web       Mobile       Iphone  1/1/16   \n",
       "3           Mexico       Sales visit       Mobile      Samsung  1/1/16   \n",
       "4            China               Web       Mobile      Samsung  1/1/16   \n",
       "\n",
       "   Quantity    Price    Revenue  Unit Cost  \n",
       "0        56  1397.94   78284.61     772.36  \n",
       "1        89  1397.94  124416.61     724.83  \n",
       "2        23   924.64   21266.70     518.72  \n",
       "3        48   750.79   36037.80     472.25  \n",
       "4        77   643.86   49577.40     388.57  "
      ]
     },
     "execution_count": 3,
     "metadata": {},
     "output_type": "execute_result"
    }
   ],
   "source": [
    "sales=pd.read_csv('data/SalesData.csv')\n",
    "sales.head()"
   ]
  },
  {
   "cell_type": "code",
   "execution_count": 4,
   "metadata": {
    "tags": []
   },
   "outputs": [
    {
     "data": {
      "text/plain": [
       "(72743, 9)"
      ]
     },
     "execution_count": 4,
     "metadata": {},
     "output_type": "execute_result"
    }
   ],
   "source": [
    "sales.shape"
   ]
  },
  {
   "cell_type": "code",
   "execution_count": 5,
   "metadata": {
    "tags": []
   },
   "outputs": [
    {
     "data": {
      "text/plain": [
       "Retailer country      object\n",
       "Order method type     object\n",
       "Product line          object\n",
       "Product type          object\n",
       "Date                  object\n",
       "Quantity               int64\n",
       "Price                float64\n",
       "Revenue              float64\n",
       "Unit Cost            float64\n",
       "dtype: object"
      ]
     },
     "execution_count": 5,
     "metadata": {},
     "output_type": "execute_result"
    }
   ],
   "source": [
    "sales.dtypes"
   ]
  },
  {
   "cell_type": "code",
   "execution_count": 6,
   "metadata": {
    "tags": []
   },
   "outputs": [
    {
     "data": {
      "text/plain": [
       "14692.431852824393"
      ]
     },
     "execution_count": 6,
     "metadata": {},
     "output_type": "execute_result"
    }
   ],
   "source": [
    "#What is the average revenue of the retailers?\n",
    "sales['Revenue'].mean()"
   ]
  },
  {
   "cell_type": "code",
   "execution_count": 7,
   "metadata": {},
   "outputs": [
    {
     "data": {
      "text/plain": [
       "14692.431852824393"
      ]
     },
     "execution_count": 7,
     "metadata": {},
     "output_type": "execute_result"
    }
   ],
   "source": [
    "sales.Revenue.mean()"
   ]
  },
  {
   "cell_type": "code",
   "execution_count": 8,
   "metadata": {},
   "outputs": [
    {
     "data": {
      "text/plain": [
       "14692.431852824393"
      ]
     },
     "execution_count": 8,
     "metadata": {},
     "output_type": "execute_result"
    }
   ],
   "source": [
    "np.mean(sales['Revenue'])"
   ]
  },
  {
   "cell_type": "code",
   "execution_count": 9,
   "metadata": {
    "tags": []
   },
   "outputs": [
    {
     "data": {
      "text/plain": [
       "Revenue    7207.20\n",
       "Price        81.03\n",
       "dtype: float64"
      ]
     },
     "execution_count": 9,
     "metadata": {},
     "output_type": "execute_result"
    }
   ],
   "source": [
    "#What is the median revenue of the retailers and the median price of the products?\n",
    "sales[['Revenue','Price']].median()"
   ]
  },
  {
   "cell_type": "code",
   "execution_count": 10,
   "metadata": {
    "tags": []
   },
   "outputs": [
    {
     "data": {
      "text/plain": [
       "0    United States\n",
       "Name: Retailer country, dtype: object"
      ]
     },
     "execution_count": 10,
     "metadata": {},
     "output_type": "execute_result"
    }
   ],
   "source": [
    "#What is the mode of the retailer countries?\n",
    "sales['Retailer country'].mode() #categorical variable"
   ]
  },
  {
   "cell_type": "code",
   "execution_count": 11,
   "metadata": {
    "tags": []
   },
   "outputs": [
    {
     "data": {
      "text/html": [
       "<div>\n",
       "<style scoped>\n",
       "    .dataframe tbody tr th:only-of-type {\n",
       "        vertical-align: middle;\n",
       "    }\n",
       "\n",
       "    .dataframe tbody tr th {\n",
       "        vertical-align: top;\n",
       "    }\n",
       "\n",
       "    .dataframe thead th {\n",
       "        text-align: right;\n",
       "    }\n",
       "</style>\n",
       "<table border=\"1\" class=\"dataframe\">\n",
       "  <thead>\n",
       "    <tr style=\"text-align: right;\">\n",
       "      <th></th>\n",
       "      <th>Revenue</th>\n",
       "      <th>Price</th>\n",
       "    </tr>\n",
       "  </thead>\n",
       "  <tbody>\n",
       "    <tr>\n",
       "      <th>count</th>\n",
       "      <td>72743.000000</td>\n",
       "      <td>72743.000000</td>\n",
       "    </tr>\n",
       "    <tr>\n",
       "      <th>mean</th>\n",
       "      <td>14692.431853</td>\n",
       "      <td>172.478608</td>\n",
       "    </tr>\n",
       "    <tr>\n",
       "      <th>std</th>\n",
       "      <td>21840.109318</td>\n",
       "      <td>264.424999</td>\n",
       "    </tr>\n",
       "    <tr>\n",
       "      <th>min</th>\n",
       "      <td>20.400000</td>\n",
       "      <td>1.800000</td>\n",
       "    </tr>\n",
       "    <tr>\n",
       "      <th>25%</th>\n",
       "      <td>3091.500000</td>\n",
       "      <td>33.220000</td>\n",
       "    </tr>\n",
       "    <tr>\n",
       "      <th>50%</th>\n",
       "      <td>7207.200000</td>\n",
       "      <td>81.030000</td>\n",
       "    </tr>\n",
       "    <tr>\n",
       "      <th>75%</th>\n",
       "      <td>16754.400000</td>\n",
       "      <td>173.885000</td>\n",
       "    </tr>\n",
       "    <tr>\n",
       "      <th>max</th>\n",
       "      <td>434271.340000</td>\n",
       "      <td>1746.400000</td>\n",
       "    </tr>\n",
       "  </tbody>\n",
       "</table>\n",
       "</div>"
      ],
      "text/plain": [
       "             Revenue         Price\n",
       "count   72743.000000  72743.000000\n",
       "mean    14692.431853    172.478608\n",
       "std     21840.109318    264.424999\n",
       "min        20.400000      1.800000\n",
       "25%      3091.500000     33.220000\n",
       "50%      7207.200000     81.030000\n",
       "75%     16754.400000    173.885000\n",
       "max    434271.340000   1746.400000"
      ]
     },
     "execution_count": 11,
     "metadata": {},
     "output_type": "execute_result"
    }
   ],
   "source": [
    "sales[['Revenue','Price']].describe()"
   ]
  },
  {
   "cell_type": "code",
   "execution_count": 12,
   "metadata": {
    "tags": []
   },
   "outputs": [
    {
     "data": {
      "text/html": [
       "<div>\n",
       "<style scoped>\n",
       "    .dataframe tbody tr th:only-of-type {\n",
       "        vertical-align: middle;\n",
       "    }\n",
       "\n",
       "    .dataframe tbody tr th {\n",
       "        vertical-align: top;\n",
       "    }\n",
       "\n",
       "    .dataframe thead th {\n",
       "        text-align: right;\n",
       "    }\n",
       "</style>\n",
       "<table border=\"1\" class=\"dataframe\">\n",
       "  <thead>\n",
       "    <tr style=\"text-align: right;\">\n",
       "      <th></th>\n",
       "      <th>Quantity</th>\n",
       "      <th>Price</th>\n",
       "      <th>Revenue</th>\n",
       "      <th>Unit Cost</th>\n",
       "    </tr>\n",
       "  </thead>\n",
       "  <tbody>\n",
       "    <tr>\n",
       "      <th>count</th>\n",
       "      <td>72743.000000</td>\n",
       "      <td>72743.000000</td>\n",
       "      <td>72743.000000</td>\n",
       "      <td>72743.000000</td>\n",
       "    </tr>\n",
       "    <tr>\n",
       "      <th>mean</th>\n",
       "      <td>180.454009</td>\n",
       "      <td>172.478608</td>\n",
       "      <td>14692.431853</td>\n",
       "      <td>100.085596</td>\n",
       "    </tr>\n",
       "    <tr>\n",
       "      <th>std</th>\n",
       "      <td>339.118000</td>\n",
       "      <td>264.424999</td>\n",
       "      <td>21840.109318</td>\n",
       "      <td>154.866555</td>\n",
       "    </tr>\n",
       "    <tr>\n",
       "      <th>min</th>\n",
       "      <td>1.000000</td>\n",
       "      <td>1.800000</td>\n",
       "      <td>20.400000</td>\n",
       "      <td>0.990000</td>\n",
       "    </tr>\n",
       "    <tr>\n",
       "      <th>25%</th>\n",
       "      <td>45.000000</td>\n",
       "      <td>33.220000</td>\n",
       "      <td>3091.500000</td>\n",
       "      <td>19.110000</td>\n",
       "    </tr>\n",
       "    <tr>\n",
       "      <th>50%</th>\n",
       "      <td>82.000000</td>\n",
       "      <td>81.030000</td>\n",
       "      <td>7207.200000</td>\n",
       "      <td>45.480000</td>\n",
       "    </tr>\n",
       "    <tr>\n",
       "      <th>75%</th>\n",
       "      <td>179.000000</td>\n",
       "      <td>173.885000</td>\n",
       "      <td>16754.400000</td>\n",
       "      <td>101.600000</td>\n",
       "    </tr>\n",
       "    <tr>\n",
       "      <th>max</th>\n",
       "      <td>13575.000000</td>\n",
       "      <td>1746.400000</td>\n",
       "      <td>434271.340000</td>\n",
       "      <td>1104.760000</td>\n",
       "    </tr>\n",
       "  </tbody>\n",
       "</table>\n",
       "</div>"
      ],
      "text/plain": [
       "           Quantity         Price        Revenue     Unit Cost\n",
       "count  72743.000000  72743.000000   72743.000000  72743.000000\n",
       "mean     180.454009    172.478608   14692.431853    100.085596\n",
       "std      339.118000    264.424999   21840.109318    154.866555\n",
       "min        1.000000      1.800000      20.400000      0.990000\n",
       "25%       45.000000     33.220000    3091.500000     19.110000\n",
       "50%       82.000000     81.030000    7207.200000     45.480000\n",
       "75%      179.000000    173.885000   16754.400000    101.600000\n",
       "max    13575.000000   1746.400000  434271.340000   1104.760000"
      ]
     },
     "execution_count": 12,
     "metadata": {},
     "output_type": "execute_result"
    }
   ],
   "source": [
    "sales.describe() #only quantitative variables"
   ]
  },
  {
   "cell_type": "code",
   "execution_count": 13,
   "metadata": {
    "tags": []
   },
   "outputs": [
    {
     "data": {
      "text/html": [
       "<div>\n",
       "<style scoped>\n",
       "    .dataframe tbody tr th:only-of-type {\n",
       "        vertical-align: middle;\n",
       "    }\n",
       "\n",
       "    .dataframe tbody tr th {\n",
       "        vertical-align: top;\n",
       "    }\n",
       "\n",
       "    .dataframe thead th {\n",
       "        text-align: right;\n",
       "    }\n",
       "</style>\n",
       "<table border=\"1\" class=\"dataframe\">\n",
       "  <thead>\n",
       "    <tr style=\"text-align: right;\">\n",
       "      <th></th>\n",
       "      <th>Retailer country</th>\n",
       "      <th>Order method type</th>\n",
       "      <th>Product line</th>\n",
       "      <th>Product type</th>\n",
       "      <th>Date</th>\n",
       "      <th>Quantity</th>\n",
       "      <th>Price</th>\n",
       "      <th>Revenue</th>\n",
       "      <th>Unit Cost</th>\n",
       "    </tr>\n",
       "  </thead>\n",
       "  <tbody>\n",
       "    <tr>\n",
       "      <th>count</th>\n",
       "      <td>72743</td>\n",
       "      <td>72743</td>\n",
       "      <td>72743</td>\n",
       "      <td>72743</td>\n",
       "      <td>72743</td>\n",
       "      <td>72743.000000</td>\n",
       "      <td>72743.000000</td>\n",
       "      <td>72743.000000</td>\n",
       "      <td>72743.000000</td>\n",
       "    </tr>\n",
       "    <tr>\n",
       "      <th>unique</th>\n",
       "      <td>14</td>\n",
       "      <td>8</td>\n",
       "      <td>5</td>\n",
       "      <td>18</td>\n",
       "      <td>1096</td>\n",
       "      <td>NaN</td>\n",
       "      <td>NaN</td>\n",
       "      <td>NaN</td>\n",
       "      <td>NaN</td>\n",
       "    </tr>\n",
       "    <tr>\n",
       "      <th>top</th>\n",
       "      <td>United States</td>\n",
       "      <td>Web</td>\n",
       "      <td>Video Games</td>\n",
       "      <td>Games</td>\n",
       "      <td>5/2/16</td>\n",
       "      <td>NaN</td>\n",
       "      <td>NaN</td>\n",
       "      <td>NaN</td>\n",
       "      <td>NaN</td>\n",
       "    </tr>\n",
       "    <tr>\n",
       "      <th>freq</th>\n",
       "      <td>8360</td>\n",
       "      <td>55832</td>\n",
       "      <td>32038</td>\n",
       "      <td>18594</td>\n",
       "      <td>156</td>\n",
       "      <td>NaN</td>\n",
       "      <td>NaN</td>\n",
       "      <td>NaN</td>\n",
       "      <td>NaN</td>\n",
       "    </tr>\n",
       "    <tr>\n",
       "      <th>mean</th>\n",
       "      <td>NaN</td>\n",
       "      <td>NaN</td>\n",
       "      <td>NaN</td>\n",
       "      <td>NaN</td>\n",
       "      <td>NaN</td>\n",
       "      <td>180.454009</td>\n",
       "      <td>172.478608</td>\n",
       "      <td>14692.431853</td>\n",
       "      <td>100.085596</td>\n",
       "    </tr>\n",
       "    <tr>\n",
       "      <th>std</th>\n",
       "      <td>NaN</td>\n",
       "      <td>NaN</td>\n",
       "      <td>NaN</td>\n",
       "      <td>NaN</td>\n",
       "      <td>NaN</td>\n",
       "      <td>339.118000</td>\n",
       "      <td>264.424999</td>\n",
       "      <td>21840.109318</td>\n",
       "      <td>154.866555</td>\n",
       "    </tr>\n",
       "    <tr>\n",
       "      <th>min</th>\n",
       "      <td>NaN</td>\n",
       "      <td>NaN</td>\n",
       "      <td>NaN</td>\n",
       "      <td>NaN</td>\n",
       "      <td>NaN</td>\n",
       "      <td>1.000000</td>\n",
       "      <td>1.800000</td>\n",
       "      <td>20.400000</td>\n",
       "      <td>0.990000</td>\n",
       "    </tr>\n",
       "    <tr>\n",
       "      <th>25%</th>\n",
       "      <td>NaN</td>\n",
       "      <td>NaN</td>\n",
       "      <td>NaN</td>\n",
       "      <td>NaN</td>\n",
       "      <td>NaN</td>\n",
       "      <td>45.000000</td>\n",
       "      <td>33.220000</td>\n",
       "      <td>3091.500000</td>\n",
       "      <td>19.110000</td>\n",
       "    </tr>\n",
       "    <tr>\n",
       "      <th>50%</th>\n",
       "      <td>NaN</td>\n",
       "      <td>NaN</td>\n",
       "      <td>NaN</td>\n",
       "      <td>NaN</td>\n",
       "      <td>NaN</td>\n",
       "      <td>82.000000</td>\n",
       "      <td>81.030000</td>\n",
       "      <td>7207.200000</td>\n",
       "      <td>45.480000</td>\n",
       "    </tr>\n",
       "    <tr>\n",
       "      <th>75%</th>\n",
       "      <td>NaN</td>\n",
       "      <td>NaN</td>\n",
       "      <td>NaN</td>\n",
       "      <td>NaN</td>\n",
       "      <td>NaN</td>\n",
       "      <td>179.000000</td>\n",
       "      <td>173.885000</td>\n",
       "      <td>16754.400000</td>\n",
       "      <td>101.600000</td>\n",
       "    </tr>\n",
       "    <tr>\n",
       "      <th>max</th>\n",
       "      <td>NaN</td>\n",
       "      <td>NaN</td>\n",
       "      <td>NaN</td>\n",
       "      <td>NaN</td>\n",
       "      <td>NaN</td>\n",
       "      <td>13575.000000</td>\n",
       "      <td>1746.400000</td>\n",
       "      <td>434271.340000</td>\n",
       "      <td>1104.760000</td>\n",
       "    </tr>\n",
       "  </tbody>\n",
       "</table>\n",
       "</div>"
      ],
      "text/plain": [
       "       Retailer country Order method type Product line Product type    Date  \\\n",
       "count             72743             72743        72743        72743   72743   \n",
       "unique               14                 8            5           18    1096   \n",
       "top       United States               Web  Video Games        Games  5/2/16   \n",
       "freq               8360             55832        32038        18594     156   \n",
       "mean                NaN               NaN          NaN          NaN     NaN   \n",
       "std                 NaN               NaN          NaN          NaN     NaN   \n",
       "min                 NaN               NaN          NaN          NaN     NaN   \n",
       "25%                 NaN               NaN          NaN          NaN     NaN   \n",
       "50%                 NaN               NaN          NaN          NaN     NaN   \n",
       "75%                 NaN               NaN          NaN          NaN     NaN   \n",
       "max                 NaN               NaN          NaN          NaN     NaN   \n",
       "\n",
       "            Quantity         Price        Revenue     Unit Cost  \n",
       "count   72743.000000  72743.000000   72743.000000  72743.000000  \n",
       "unique           NaN           NaN            NaN           NaN  \n",
       "top              NaN           NaN            NaN           NaN  \n",
       "freq             NaN           NaN            NaN           NaN  \n",
       "mean      180.454009    172.478608   14692.431853    100.085596  \n",
       "std       339.118000    264.424999   21840.109318    154.866555  \n",
       "min         1.000000      1.800000      20.400000      0.990000  \n",
       "25%        45.000000     33.220000    3091.500000     19.110000  \n",
       "50%        82.000000     81.030000    7207.200000     45.480000  \n",
       "75%       179.000000    173.885000   16754.400000    101.600000  \n",
       "max     13575.000000   1746.400000  434271.340000   1104.760000  "
      ]
     },
     "execution_count": 13,
     "metadata": {},
     "output_type": "execute_result"
    }
   ],
   "source": [
    "sales.describe(include='all')"
   ]
  },
  {
   "cell_type": "code",
   "execution_count": 14,
   "metadata": {
    "tags": []
   },
   "outputs": [
    {
     "data": {
      "text/html": [
       "<div>\n",
       "<style scoped>\n",
       "    .dataframe tbody tr th:only-of-type {\n",
       "        vertical-align: middle;\n",
       "    }\n",
       "\n",
       "    .dataframe tbody tr th {\n",
       "        vertical-align: top;\n",
       "    }\n",
       "\n",
       "    .dataframe thead th {\n",
       "        text-align: right;\n",
       "    }\n",
       "</style>\n",
       "<table border=\"1\" class=\"dataframe\">\n",
       "  <thead>\n",
       "    <tr style=\"text-align: right;\">\n",
       "      <th></th>\n",
       "      <th>Revenue</th>\n",
       "      <th>Price</th>\n",
       "    </tr>\n",
       "  </thead>\n",
       "  <tbody>\n",
       "    <tr>\n",
       "      <th>mean</th>\n",
       "      <td>14692.431853</td>\n",
       "      <td>172.478608</td>\n",
       "    </tr>\n",
       "    <tr>\n",
       "      <th>median</th>\n",
       "      <td>7207.200000</td>\n",
       "      <td>81.030000</td>\n",
       "    </tr>\n",
       "    <tr>\n",
       "      <th>std</th>\n",
       "      <td>21840.109318</td>\n",
       "      <td>264.424999</td>\n",
       "    </tr>\n",
       "  </tbody>\n",
       "</table>\n",
       "</div>"
      ],
      "text/plain": [
       "             Revenue       Price\n",
       "mean    14692.431853  172.478608\n",
       "median   7207.200000   81.030000\n",
       "std     21840.109318  264.424999"
      ]
     },
     "execution_count": 14,
     "metadata": {},
     "output_type": "execute_result"
    }
   ],
   "source": [
    "sales.agg({'Revenue':['mean','median','std'],'Price':['mean','median','std']})"
   ]
  },
  {
   "cell_type": "code",
   "execution_count": 15,
   "metadata": {
    "tags": []
   },
   "outputs": [
    {
     "name": "stderr",
     "output_type": "stream",
     "text": [
      "/var/folders/bv/tjw7sh3d1lj6gk27nrnx7xh80000gn/T/ipykernel_47591/2199144463.py:2: FutureWarning: ['Retailer country', 'Order method type', 'Product line', 'Product type', 'Date'] did not aggregate successfully. If any error is raised this will raise in a future version of pandas. Drop these columns/ops to avoid this warning.\n"
     ]
    },
    {
     "data": {
      "text/html": [
       "<div>\n",
       "<style scoped>\n",
       "    .dataframe tbody tr th:only-of-type {\n",
       "        vertical-align: middle;\n",
       "    }\n",
       "\n",
       "    .dataframe tbody tr th {\n",
       "        vertical-align: top;\n",
       "    }\n",
       "\n",
       "    .dataframe thead th {\n",
       "        text-align: right;\n",
       "    }\n",
       "</style>\n",
       "<table border=\"1\" class=\"dataframe\">\n",
       "  <thead>\n",
       "    <tr style=\"text-align: right;\">\n",
       "      <th></th>\n",
       "      <th>Quantity</th>\n",
       "      <th>Price</th>\n",
       "      <th>Revenue</th>\n",
       "      <th>Unit Cost</th>\n",
       "    </tr>\n",
       "  </thead>\n",
       "  <tbody>\n",
       "    <tr>\n",
       "      <th>mean</th>\n",
       "      <td>180.454009</td>\n",
       "      <td>172.478608</td>\n",
       "      <td>14692.431853</td>\n",
       "      <td>100.085596</td>\n",
       "    </tr>\n",
       "    <tr>\n",
       "      <th>median</th>\n",
       "      <td>82.000000</td>\n",
       "      <td>81.030000</td>\n",
       "      <td>7207.200000</td>\n",
       "      <td>45.480000</td>\n",
       "    </tr>\n",
       "    <tr>\n",
       "      <th>std</th>\n",
       "      <td>339.118000</td>\n",
       "      <td>264.424999</td>\n",
       "      <td>21840.109318</td>\n",
       "      <td>154.866555</td>\n",
       "    </tr>\n",
       "  </tbody>\n",
       "</table>\n",
       "</div>"
      ],
      "text/plain": [
       "          Quantity       Price       Revenue   Unit Cost\n",
       "mean    180.454009  172.478608  14692.431853  100.085596\n",
       "median   82.000000   81.030000   7207.200000   45.480000\n",
       "std     339.118000  264.424999  21840.109318  154.866555"
      ]
     },
     "execution_count": 15,
     "metadata": {},
     "output_type": "execute_result"
    }
   ],
   "source": [
    "stats_list=['mean','median','std']\n",
    "sales.agg(stats_list)"
   ]
  },
  {
   "cell_type": "code",
   "execution_count": 16,
   "metadata": {
    "tags": []
   },
   "outputs": [
    {
     "data": {
      "text/plain": [
       "Product line\n",
       "Books              1328.048351\n",
       "Computer          33942.380046\n",
       "Home & Kitchen    15990.358725\n",
       "Mobile            15641.397427\n",
       "Video Games       12928.230530\n",
       "Name: Revenue, dtype: float64"
      ]
     },
     "execution_count": 16,
     "metadata": {},
     "output_type": "execute_result"
    }
   ],
   "source": [
    "#What is the average revenue for each category of product line?\n",
    "sales.groupby('Product line').Revenue.mean()"
   ]
  },
  {
   "cell_type": "code",
   "execution_count": 17,
   "metadata": {
    "tags": []
   },
   "outputs": [
    {
     "data": {
      "text/html": [
       "<div>\n",
       "<style scoped>\n",
       "    .dataframe tbody tr th:only-of-type {\n",
       "        vertical-align: middle;\n",
       "    }\n",
       "\n",
       "    .dataframe tbody tr th {\n",
       "        vertical-align: top;\n",
       "    }\n",
       "\n",
       "    .dataframe thead th {\n",
       "        text-align: right;\n",
       "    }\n",
       "</style>\n",
       "<table border=\"1\" class=\"dataframe\">\n",
       "  <thead>\n",
       "    <tr style=\"text-align: right;\">\n",
       "      <th></th>\n",
       "      <th>Quantity</th>\n",
       "      <th>Price</th>\n",
       "      <th>Revenue</th>\n",
       "      <th>Unit Cost</th>\n",
       "    </tr>\n",
       "    <tr>\n",
       "      <th>Product line</th>\n",
       "      <th></th>\n",
       "      <th></th>\n",
       "      <th></th>\n",
       "      <th></th>\n",
       "    </tr>\n",
       "  </thead>\n",
       "  <tbody>\n",
       "    <tr>\n",
       "      <th>Books</th>\n",
       "      <td>162.945328</td>\n",
       "      <td>10.449213</td>\n",
       "      <td>1328.048351</td>\n",
       "      <td>5.122852</td>\n",
       "    </tr>\n",
       "    <tr>\n",
       "      <th>Computer</th>\n",
       "      <td>126.555126</td>\n",
       "      <td>592.682142</td>\n",
       "      <td>33942.380046</td>\n",
       "      <td>339.445061</td>\n",
       "    </tr>\n",
       "    <tr>\n",
       "      <th>Home &amp; Kitchen</th>\n",
       "      <td>286.982134</td>\n",
       "      <td>120.483568</td>\n",
       "      <td>15990.358725</td>\n",
       "      <td>58.613283</td>\n",
       "    </tr>\n",
       "    <tr>\n",
       "      <th>Mobile</th>\n",
       "      <td>188.789978</td>\n",
       "      <td>177.990195</td>\n",
       "      <td>15641.397427</td>\n",
       "      <td>109.653427</td>\n",
       "    </tr>\n",
       "    <tr>\n",
       "      <th>Video Games</th>\n",
       "      <td>169.167270</td>\n",
       "      <td>130.415918</td>\n",
       "      <td>12928.230530</td>\n",
       "      <td>74.836692</td>\n",
       "    </tr>\n",
       "  </tbody>\n",
       "</table>\n",
       "</div>"
      ],
      "text/plain": [
       "                  Quantity       Price       Revenue   Unit Cost\n",
       "Product line                                                    \n",
       "Books           162.945328   10.449213   1328.048351    5.122852\n",
       "Computer        126.555126  592.682142  33942.380046  339.445061\n",
       "Home & Kitchen  286.982134  120.483568  15990.358725   58.613283\n",
       "Mobile          188.789978  177.990195  15641.397427  109.653427\n",
       "Video Games     169.167270  130.415918  12928.230530   74.836692"
      ]
     },
     "execution_count": 17,
     "metadata": {},
     "output_type": "execute_result"
    }
   ],
   "source": [
    "sales.groupby('Product line').mean()"
   ]
  },
  {
   "cell_type": "code",
   "execution_count": 18,
   "metadata": {
    "tags": []
   },
   "outputs": [
    {
     "data": {
      "text/plain": [
       "Product line\n",
       "Books              7170\n",
       "Computer           6467\n",
       "Home & Kitchen     6213\n",
       "Mobile            20855\n",
       "Video Games       32038\n",
       "Name: Product line, dtype: int64"
      ]
     },
     "execution_count": 18,
     "metadata": {},
     "output_type": "execute_result"
    }
   ],
   "source": [
    "#What is the number of products in each category of product line?\n",
    "sales.groupby('Product line')['Product line'].count()"
   ]
  },
  {
   "cell_type": "code",
   "execution_count": 19,
   "metadata": {
    "tags": []
   },
   "outputs": [
    {
     "data": {
      "text/plain": [
       "Product line\n",
       "Video Games       32038\n",
       "Mobile            20855\n",
       "Books              7170\n",
       "Computer           6467\n",
       "Home & Kitchen     6213\n",
       "Name: Product line, dtype: int64"
      ]
     },
     "execution_count": 19,
     "metadata": {},
     "output_type": "execute_result"
    }
   ],
   "source": [
    "sales.groupby('Product line')['Product line'].count().sort_values(ascending=False)"
   ]
  },
  {
   "cell_type": "code",
   "execution_count": 20,
   "metadata": {
    "tags": []
   },
   "outputs": [
    {
     "data": {
      "text/plain": [
       "Product line    Product type        \n",
       "Books           Paper books               934\n",
       "                ebooks                   6236\n",
       "Computer        Computer Accessories     1307\n",
       "                Desktop                  1021\n",
       "                Laptop                   2412\n",
       "                Screen                    837\n",
       "                Storage                   890\n",
       "Home & Kitchen  Bedding & Bath            222\n",
       "                Heating & Cooling        1911\n",
       "                Home Décor               3052\n",
       "                Home Improvement          444\n",
       "                Kitchen                   584\n",
       "Mobile          Accessories             11149\n",
       "                Headphone                5186\n",
       "                Iphone                   1194\n",
       "                Samsung                  3326\n",
       "Video Games     Accessories              4624\n",
       "                Consoles                 8820\n",
       "                Games                   18594\n",
       "Name: Product type, dtype: int64"
      ]
     },
     "execution_count": 20,
     "metadata": {},
     "output_type": "execute_result"
    }
   ],
   "source": [
    "#What is the number of products in each category of product type under each category of product line?\n",
    "sales.groupby(['Product line','Product type'])['Product type'].count()\n",
    "#multiindex"
   ]
  },
  {
   "cell_type": "code",
   "execution_count": 52,
   "metadata": {
    "tags": []
   },
   "outputs": [
    {
     "data": {
      "text/plain": [
       "Product line    Product type        \n",
       "Books           ebooks                   6236\n",
       "                Paper books               934\n",
       "Computer        Laptop                   2412\n",
       "                Computer Accessories     1307\n",
       "                Desktop                  1021\n",
       "                Storage                   890\n",
       "                Screen                    837\n",
       "Home & Kitchen  Home Décor               3052\n",
       "                Heating & Cooling        1911\n",
       "                Kitchen                   584\n",
       "                Home Improvement          444\n",
       "                Bedding & Bath            222\n",
       "Mobile          Accessories             11149\n",
       "                Headphone                5186\n",
       "                Samsung                  3326\n",
       "                Iphone                   1194\n",
       "Video Games     Games                   18594\n",
       "                Consoles                 8820\n",
       "                Accessories              4624\n",
       "Name: Product type, dtype: int64"
      ]
     },
     "execution_count": 52,
     "metadata": {},
     "output_type": "execute_result"
    }
   ],
   "source": [
    "sales.groupby(['Product line','Product type'])['Product type'].count().sort_values(ascending=False).sort_index(level='Product line',sort_remaining=False)"
   ]
  },
  {
   "cell_type": "code",
   "execution_count": 26,
   "metadata": {},
   "outputs": [
    {
     "data": {
      "text/html": [
       "<div>\n",
       "<style scoped>\n",
       "    .dataframe tbody tr th:only-of-type {\n",
       "        vertical-align: middle;\n",
       "    }\n",
       "\n",
       "    .dataframe tbody tr th {\n",
       "        vertical-align: top;\n",
       "    }\n",
       "\n",
       "    .dataframe thead th {\n",
       "        text-align: right;\n",
       "    }\n",
       "</style>\n",
       "<table border=\"1\" class=\"dataframe\">\n",
       "  <thead>\n",
       "    <tr style=\"text-align: right;\">\n",
       "      <th></th>\n",
       "      <th>Retailer country</th>\n",
       "      <th>Order method type</th>\n",
       "      <th>Product line</th>\n",
       "      <th>Product type</th>\n",
       "      <th>Date</th>\n",
       "      <th>Quantity</th>\n",
       "      <th>Price</th>\n",
       "      <th>Revenue</th>\n",
       "      <th>Unit Cost</th>\n",
       "      <th>count</th>\n",
       "    </tr>\n",
       "  </thead>\n",
       "  <tbody>\n",
       "    <tr>\n",
       "      <th>0</th>\n",
       "      <td>France</td>\n",
       "      <td>Telephone</td>\n",
       "      <td>Computer</td>\n",
       "      <td>Laptop</td>\n",
       "      <td>1/1/16</td>\n",
       "      <td>56</td>\n",
       "      <td>1397.94</td>\n",
       "      <td>78284.61</td>\n",
       "      <td>772.36</td>\n",
       "      <td>2412</td>\n",
       "    </tr>\n",
       "    <tr>\n",
       "      <th>1</th>\n",
       "      <td>United States</td>\n",
       "      <td>Telephone</td>\n",
       "      <td>Computer</td>\n",
       "      <td>Laptop</td>\n",
       "      <td>1/1/16</td>\n",
       "      <td>89</td>\n",
       "      <td>1397.94</td>\n",
       "      <td>124416.61</td>\n",
       "      <td>724.83</td>\n",
       "      <td>2412</td>\n",
       "    </tr>\n",
       "    <tr>\n",
       "      <th>2</th>\n",
       "      <td>Brazil</td>\n",
       "      <td>Web</td>\n",
       "      <td>Mobile</td>\n",
       "      <td>Iphone</td>\n",
       "      <td>1/1/16</td>\n",
       "      <td>23</td>\n",
       "      <td>924.64</td>\n",
       "      <td>21266.70</td>\n",
       "      <td>518.72</td>\n",
       "      <td>1194</td>\n",
       "    </tr>\n",
       "    <tr>\n",
       "      <th>3</th>\n",
       "      <td>Mexico</td>\n",
       "      <td>Sales visit</td>\n",
       "      <td>Mobile</td>\n",
       "      <td>Samsung</td>\n",
       "      <td>1/1/16</td>\n",
       "      <td>48</td>\n",
       "      <td>750.79</td>\n",
       "      <td>36037.80</td>\n",
       "      <td>472.25</td>\n",
       "      <td>3326</td>\n",
       "    </tr>\n",
       "    <tr>\n",
       "      <th>4</th>\n",
       "      <td>China</td>\n",
       "      <td>Web</td>\n",
       "      <td>Mobile</td>\n",
       "      <td>Samsung</td>\n",
       "      <td>1/1/16</td>\n",
       "      <td>77</td>\n",
       "      <td>643.86</td>\n",
       "      <td>49577.40</td>\n",
       "      <td>388.57</td>\n",
       "      <td>3326</td>\n",
       "    </tr>\n",
       "    <tr>\n",
       "      <th>...</th>\n",
       "      <td>...</td>\n",
       "      <td>...</td>\n",
       "      <td>...</td>\n",
       "      <td>...</td>\n",
       "      <td>...</td>\n",
       "      <td>...</td>\n",
       "      <td>...</td>\n",
       "      <td>...</td>\n",
       "      <td>...</td>\n",
       "      <td>...</td>\n",
       "    </tr>\n",
       "    <tr>\n",
       "      <th>72738</th>\n",
       "      <td>China</td>\n",
       "      <td>Web</td>\n",
       "      <td>Books</td>\n",
       "      <td>ebooks</td>\n",
       "      <td>12/31/18</td>\n",
       "      <td>270</td>\n",
       "      <td>6.52</td>\n",
       "      <td>1759.28</td>\n",
       "      <td>3.05</td>\n",
       "      <td>6236</td>\n",
       "    </tr>\n",
       "    <tr>\n",
       "      <th>72739</th>\n",
       "      <td>Japan</td>\n",
       "      <td>Web</td>\n",
       "      <td>Books</td>\n",
       "      <td>ebooks</td>\n",
       "      <td>12/31/18</td>\n",
       "      <td>146</td>\n",
       "      <td>6.50</td>\n",
       "      <td>949.62</td>\n",
       "      <td>3.37</td>\n",
       "      <td>6236</td>\n",
       "    </tr>\n",
       "    <tr>\n",
       "      <th>72740</th>\n",
       "      <td>India</td>\n",
       "      <td>Web</td>\n",
       "      <td>Books</td>\n",
       "      <td>ebooks</td>\n",
       "      <td>12/31/18</td>\n",
       "      <td>107</td>\n",
       "      <td>6.51</td>\n",
       "      <td>696.11</td>\n",
       "      <td>2.99</td>\n",
       "      <td>6236</td>\n",
       "    </tr>\n",
       "    <tr>\n",
       "      <th>72741</th>\n",
       "      <td>United States</td>\n",
       "      <td>Web</td>\n",
       "      <td>Books</td>\n",
       "      <td>ebooks</td>\n",
       "      <td>12/31/18</td>\n",
       "      <td>239</td>\n",
       "      <td>6.51</td>\n",
       "      <td>1556.20</td>\n",
       "      <td>3.10</td>\n",
       "      <td>6236</td>\n",
       "    </tr>\n",
       "    <tr>\n",
       "      <th>72742</th>\n",
       "      <td>Australia</td>\n",
       "      <td>Sales visit</td>\n",
       "      <td>Books</td>\n",
       "      <td>ebooks</td>\n",
       "      <td>12/31/18</td>\n",
       "      <td>22</td>\n",
       "      <td>6.20</td>\n",
       "      <td>136.40</td>\n",
       "      <td>2.64</td>\n",
       "      <td>6236</td>\n",
       "    </tr>\n",
       "  </tbody>\n",
       "</table>\n",
       "<p>72743 rows × 10 columns</p>\n",
       "</div>"
      ],
      "text/plain": [
       "      Retailer country Order method type Product line Product type      Date  \\\n",
       "0               France         Telephone     Computer       Laptop    1/1/16   \n",
       "1        United States         Telephone     Computer       Laptop    1/1/16   \n",
       "2               Brazil               Web       Mobile       Iphone    1/1/16   \n",
       "3               Mexico       Sales visit       Mobile      Samsung    1/1/16   \n",
       "4                China               Web       Mobile      Samsung    1/1/16   \n",
       "...                ...               ...          ...          ...       ...   \n",
       "72738            China               Web        Books       ebooks  12/31/18   \n",
       "72739            Japan               Web        Books       ebooks  12/31/18   \n",
       "72740            India               Web        Books       ebooks  12/31/18   \n",
       "72741    United States               Web        Books       ebooks  12/31/18   \n",
       "72742        Australia       Sales visit        Books       ebooks  12/31/18   \n",
       "\n",
       "       Quantity    Price    Revenue  Unit Cost  count  \n",
       "0            56  1397.94   78284.61     772.36   2412  \n",
       "1            89  1397.94  124416.61     724.83   2412  \n",
       "2            23   924.64   21266.70     518.72   1194  \n",
       "3            48   750.79   36037.80     472.25   3326  \n",
       "4            77   643.86   49577.40     388.57   3326  \n",
       "...         ...      ...        ...        ...    ...  \n",
       "72738       270     6.52    1759.28       3.05   6236  \n",
       "72739       146     6.50     949.62       3.37   6236  \n",
       "72740       107     6.51     696.11       2.99   6236  \n",
       "72741       239     6.51    1556.20       3.10   6236  \n",
       "72742        22     6.20     136.40       2.64   6236  \n",
       "\n",
       "[72743 rows x 10 columns]"
      ]
     },
     "execution_count": 26,
     "metadata": {},
     "output_type": "execute_result"
    }
   ],
   "source": [
    "sales_2 = (sales.assign(count = lambda x: x.groupby(['Product line','Product type'])['Product type'].transform('count')))\n",
    "sales_2"
   ]
  },
  {
   "cell_type": "code",
   "execution_count": 27,
   "metadata": {},
   "outputs": [],
   "source": [
    "fig = (ggplot(sales_2, aes(x = 'Product line', y = 'count', fill = 'Product line', group = 'Product line')) +\n",
    "    geom_col() +\n",
    "    theme_light() +\n",
    "    theme(plot_title = element_text(hjust = 0.5, size = 20),\n",
    "          axis_title = element_text(size = 15),\n",
    "          legend_title = element_blank(),\n",
    "          legend_text = element_text(size = 12)) +\n",
    "     ylab(\"Count\") +\n",
    "     xlab(\"Product Line\") +\n",
    "     ggtitle(\"Count of Product Lines\"))"
   ]
  },
  {
   "cell_type": "code",
   "execution_count": 29,
   "metadata": {},
   "outputs": [
    {
     "data": {
      "image/png": "[encoded data removed]",
      "text/plain": [
       "<Figure size 640x480 with 1 Axes>"
      ]
     },
     "metadata": {},
     "output_type": "display_data"
    },
    {
     "data": {
      "text/plain": [
       "<ggplot: (8776531070371)>"
      ]
     },
     "execution_count": 29,
     "metadata": {},
     "output_type": "execute_result"
    }
   ],
   "source": [
    "fig"
   ]
  }
 ],
 "metadata": {
  "kernelspec": {
   "display_name": "Python 3 (ipykernel)",
   "language": "python",
   "name": "python3"
  },
  "language_info": {
   "codemirror_mode": {
    "name": "ipython",
    "version": 3
   },
   "file_extension": ".py",
   "mimetype": "text/x-python",
   "name": "python",
   "nbconvert_exporter": "python",
   "pygments_lexer": "ipython3",
   "version": "3.9.7"
  }
 },
 "nbformat": 4,
 "nbformat_minor": 4
}
